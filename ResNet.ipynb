{
  "nbformat": 4,
  "nbformat_minor": 0,
  "metadata": {
    "colab": {
      "name": "ResNet.ipynb",
      "provenance": [],
      "collapsed_sections": [],
      "authorship_tag": "ABX9TyP1ROigskyReMLgWrp0IJGY"
    },
    "kernelspec": {
      "name": "python3",
      "display_name": "Python 3"
    },
    "widgets": {
      "application/vnd.jupyter.widget-state+json": {
        "c0aaf3419c8e4508b1424c701ff225fb": {
          "model_module": "@jupyter-widgets/controls",
          "model_name": "HBoxModel",
          "state": {
            "_view_name": "HBoxView",
            "_dom_classes": [],
            "_model_name": "HBoxModel",
            "_view_module": "@jupyter-widgets/controls",
            "_model_module_version": "1.5.0",
            "_view_count": null,
            "_view_module_version": "1.5.0",
            "box_style": "",
            "layout": "IPY_MODEL_cf97c4c2e5dd4cd8b07e07ae1de383ab",
            "_model_module": "@jupyter-widgets/controls",
            "children": [
              "IPY_MODEL_5e6be8bd6bcf4a218e36d20855dddf65",
              "IPY_MODEL_0ab6ac6531dd444aaa1bbbe90ee5785a"
            ]
          }
        },
        "cf97c4c2e5dd4cd8b07e07ae1de383ab": {
          "model_module": "@jupyter-widgets/base",
          "model_name": "LayoutModel",
          "state": {
            "_view_name": "LayoutView",
            "grid_template_rows": null,
            "right": null,
            "justify_content": null,
            "_view_module": "@jupyter-widgets/base",
            "overflow": null,
            "_model_module_version": "1.2.0",
            "_view_count": null,
            "flex_flow": null,
            "width": null,
            "min_width": null,
            "border": null,
            "align_items": null,
            "bottom": null,
            "_model_module": "@jupyter-widgets/base",
            "top": null,
            "grid_column": null,
            "overflow_y": null,
            "overflow_x": null,
            "grid_auto_flow": null,
            "grid_area": null,
            "grid_template_columns": null,
            "flex": null,
            "_model_name": "LayoutModel",
            "justify_items": null,
            "grid_row": null,
            "max_height": null,
            "align_content": null,
            "visibility": null,
            "align_self": null,
            "height": null,
            "min_height": null,
            "padding": null,
            "grid_auto_rows": null,
            "grid_gap": null,
            "max_width": null,
            "order": null,
            "_view_module_version": "1.2.0",
            "grid_template_areas": null,
            "object_position": null,
            "object_fit": null,
            "grid_auto_columns": null,
            "margin": null,
            "display": null,
            "left": null
          }
        },
        "5e6be8bd6bcf4a218e36d20855dddf65": {
          "model_module": "@jupyter-widgets/controls",
          "model_name": "FloatProgressModel",
          "state": {
            "_view_name": "ProgressView",
            "style": "IPY_MODEL_84685d8966e94f4da9d472f281b156c4",
            "_dom_classes": [],
            "description": "",
            "_model_name": "FloatProgressModel",
            "bar_style": "info",
            "max": 1,
            "_view_module": "@jupyter-widgets/controls",
            "_model_module_version": "1.5.0",
            "value": 1,
            "_view_count": null,
            "_view_module_version": "1.5.0",
            "orientation": "horizontal",
            "min": 0,
            "description_tooltip": null,
            "_model_module": "@jupyter-widgets/controls",
            "layout": "IPY_MODEL_e671c6ad26c74d55afa16fc9b68bba24"
          }
        },
        "0ab6ac6531dd444aaa1bbbe90ee5785a": {
          "model_module": "@jupyter-widgets/controls",
          "model_name": "HTMLModel",
          "state": {
            "_view_name": "HTMLView",
            "style": "IPY_MODEL_38456703491541b5831658feaa053849",
            "_dom_classes": [],
            "description": "",
            "_model_name": "HTMLModel",
            "placeholder": "​",
            "_view_module": "@jupyter-widgets/controls",
            "_model_module_version": "1.5.0",
            "value": " 170500096/? [00:30&lt;00:00, 15809756.25it/s]",
            "_view_count": null,
            "_view_module_version": "1.5.0",
            "description_tooltip": null,
            "_model_module": "@jupyter-widgets/controls",
            "layout": "IPY_MODEL_35174ca4648746b7882beef198a8c73d"
          }
        },
        "84685d8966e94f4da9d472f281b156c4": {
          "model_module": "@jupyter-widgets/controls",
          "model_name": "ProgressStyleModel",
          "state": {
            "_view_name": "StyleView",
            "_model_name": "ProgressStyleModel",
            "description_width": "initial",
            "_view_module": "@jupyter-widgets/base",
            "_model_module_version": "1.5.0",
            "_view_count": null,
            "_view_module_version": "1.2.0",
            "bar_color": null,
            "_model_module": "@jupyter-widgets/controls"
          }
        },
        "e671c6ad26c74d55afa16fc9b68bba24": {
          "model_module": "@jupyter-widgets/base",
          "model_name": "LayoutModel",
          "state": {
            "_view_name": "LayoutView",
            "grid_template_rows": null,
            "right": null,
            "justify_content": null,
            "_view_module": "@jupyter-widgets/base",
            "overflow": null,
            "_model_module_version": "1.2.0",
            "_view_count": null,
            "flex_flow": null,
            "width": null,
            "min_width": null,
            "border": null,
            "align_items": null,
            "bottom": null,
            "_model_module": "@jupyter-widgets/base",
            "top": null,
            "grid_column": null,
            "overflow_y": null,
            "overflow_x": null,
            "grid_auto_flow": null,
            "grid_area": null,
            "grid_template_columns": null,
            "flex": null,
            "_model_name": "LayoutModel",
            "justify_items": null,
            "grid_row": null,
            "max_height": null,
            "align_content": null,
            "visibility": null,
            "align_self": null,
            "height": null,
            "min_height": null,
            "padding": null,
            "grid_auto_rows": null,
            "grid_gap": null,
            "max_width": null,
            "order": null,
            "_view_module_version": "1.2.0",
            "grid_template_areas": null,
            "object_position": null,
            "object_fit": null,
            "grid_auto_columns": null,
            "margin": null,
            "display": null,
            "left": null
          }
        },
        "38456703491541b5831658feaa053849": {
          "model_module": "@jupyter-widgets/controls",
          "model_name": "DescriptionStyleModel",
          "state": {
            "_view_name": "StyleView",
            "_model_name": "DescriptionStyleModel",
            "description_width": "",
            "_view_module": "@jupyter-widgets/base",
            "_model_module_version": "1.5.0",
            "_view_count": null,
            "_view_module_version": "1.2.0",
            "_model_module": "@jupyter-widgets/controls"
          }
        },
        "35174ca4648746b7882beef198a8c73d": {
          "model_module": "@jupyter-widgets/base",
          "model_name": "LayoutModel",
          "state": {
            "_view_name": "LayoutView",
            "grid_template_rows": null,
            "right": null,
            "justify_content": null,
            "_view_module": "@jupyter-widgets/base",
            "overflow": null,
            "_model_module_version": "1.2.0",
            "_view_count": null,
            "flex_flow": null,
            "width": null,
            "min_width": null,
            "border": null,
            "align_items": null,
            "bottom": null,
            "_model_module": "@jupyter-widgets/base",
            "top": null,
            "grid_column": null,
            "overflow_y": null,
            "overflow_x": null,
            "grid_auto_flow": null,
            "grid_area": null,
            "grid_template_columns": null,
            "flex": null,
            "_model_name": "LayoutModel",
            "justify_items": null,
            "grid_row": null,
            "max_height": null,
            "align_content": null,
            "visibility": null,
            "align_self": null,
            "height": null,
            "min_height": null,
            "padding": null,
            "grid_auto_rows": null,
            "grid_gap": null,
            "max_width": null,
            "order": null,
            "_view_module_version": "1.2.0",
            "grid_template_areas": null,
            "object_position": null,
            "object_fit": null,
            "grid_auto_columns": null,
            "margin": null,
            "display": null,
            "left": null
          }
        }
      }
    },
    "accelerator": "GPU"
  },
  "cells": [
    {
      "cell_type": "markdown",
      "metadata": {
        "id": "1O7GOEootwwy",
        "colab_type": "text"
      },
      "source": [
        "# ResNet"
      ]
    },
    {
      "cell_type": "code",
      "metadata": {
        "id": "3tgEQlltpMy1",
        "colab_type": "code",
        "colab": {}
      },
      "source": [
        "import matplotlib.pyplot as plt\n",
        "import numpy as np\n",
        "\n",
        "import torch\n",
        "import torchvision\n",
        "import torchvision.transforms as transforms\n",
        "import torch.nn as nn\n",
        "import torch.optim as optim"
      ],
      "execution_count": null,
      "outputs": []
    },
    {
      "cell_type": "code",
      "metadata": {
        "id": "_zE8kJvbqxpg",
        "colab_type": "code",
        "colab": {
          "base_uri": "https://localhost:8080/",
          "height": 34
        },
        "outputId": "b1aec37d-00fa-46ac-b18c-7116f16309b1"
      },
      "source": [
        "# check if gpu present\n",
        "device = torch.device(\"cuda:0\" if torch.cuda.is_available() else \"cpu\")\n",
        "print(device)"
      ],
      "execution_count": null,
      "outputs": [
        {
          "output_type": "stream",
          "text": [
            "cuda:0\n"
          ],
          "name": "stdout"
        }
      ]
    },
    {
      "cell_type": "code",
      "metadata": {
        "id": "HB1epf63rDGW",
        "colab_type": "code",
        "colab": {}
      },
      "source": [
        ""
      ],
      "execution_count": null,
      "outputs": []
    },
    {
      "cell_type": "markdown",
      "metadata": {
        "id": "6Z6ajPZorG7-",
        "colab_type": "text"
      },
      "source": [
        "# Datasets and transforms"
      ]
    },
    {
      "cell_type": "code",
      "metadata": {
        "id": "fsx_Ez0XrJ4h",
        "colab_type": "code",
        "colab": {}
      },
      "source": [
        "# earlier had used ToTensor() of \"transform\" to convert PIL image to tensor directly\n",
        "# This time using few more functions of \"transform\"\n",
        "\n",
        "transform_train = transforms.Compose([\n",
        "      transforms.RandomResizedCrop(224),\n",
        "      transforms.ToTensor(),\n",
        "      transforms.Normalize((0.5, 0.5, 0.5), (0.5, 0.5, 0.5)),\n",
        "])\n",
        "\n",
        "transform_test = transforms.Compose([\n",
        "      transforms.RandomResizedCrop(224),\n",
        "      transforms.ToTensor(),\n",
        "      transforms.Normalize((0.5, 0.5, 0.5), (0.5, 0.5, 0.5)),\n",
        "])"
      ],
      "execution_count": null,
      "outputs": []
    },
    {
      "cell_type": "markdown",
      "metadata": {
        "id": "quwBQIsQuyTZ",
        "colab_type": "text"
      },
      "source": [
        "Downloading and applying the transform object pipelined above"
      ]
    },
    {
      "cell_type": "code",
      "metadata": {
        "id": "NzzcqWjEuvJl",
        "colab_type": "code",
        "colab": {
          "base_uri": "https://localhost:8080/",
          "height": 102,
          "referenced_widgets": [
            "c0aaf3419c8e4508b1424c701ff225fb",
            "cf97c4c2e5dd4cd8b07e07ae1de383ab",
            "5e6be8bd6bcf4a218e36d20855dddf65",
            "0ab6ac6531dd444aaa1bbbe90ee5785a",
            "84685d8966e94f4da9d472f281b156c4",
            "e671c6ad26c74d55afa16fc9b68bba24",
            "38456703491541b5831658feaa053849",
            "35174ca4648746b7882beef198a8c73d"
          ]
        },
        "outputId": "30656081-ca22-4cc2-e278-2745f2832aea"
      },
      "source": [
        "trainset = torchvision.datasets.CIFAR10(root = './data', train = True,\n",
        "                                        download = True, \n",
        "                                        transform = transform_train) # applying transform in this last line\n",
        "\n",
        "testset = torchvision.datasets.CIFAR10(root = './data', train = False,\n",
        "                                        download = True, \n",
        "                                        transform = transform_test)\n",
        "                                        "
      ],
      "execution_count": null,
      "outputs": [
        {
          "output_type": "stream",
          "text": [
            "Downloading https://www.cs.toronto.edu/~kriz/cifar-10-python.tar.gz to ./data/cifar-10-python.tar.gz\n"
          ],
          "name": "stdout"
        },
        {
          "output_type": "display_data",
          "data": {
            "application/vnd.jupyter.widget-view+json": {
              "model_id": "c0aaf3419c8e4508b1424c701ff225fb",
              "version_minor": 0,
              "version_major": 2
            },
            "text/plain": [
              "HBox(children=(FloatProgress(value=1.0, bar_style='info', max=1.0), HTML(value='')))"
            ]
          },
          "metadata": {
            "tags": []
          }
        },
        {
          "output_type": "stream",
          "text": [
            "Extracting ./data/cifar-10-python.tar.gz to ./data\n",
            "Files already downloaded and verified\n"
          ],
          "name": "stdout"
        }
      ]
    },
    {
      "cell_type": "code",
      "metadata": {
        "id": "8ASlJBqxvUar",
        "colab_type": "code",
        "colab": {}
      },
      "source": [
        "num_classes = 10"
      ],
      "execution_count": null,
      "outputs": []
    },
    {
      "cell_type": "markdown",
      "metadata": {
        "id": "yOL8hH9xEvr_",
        "colab_type": "text"
      },
      "source": [
        "# Helper Functions"
      ]
    },
    {
      "cell_type": "code",
      "metadata": {
        "id": "6k-Ed_tOBf7w",
        "colab_type": "code",
        "colab": {}
      },
      "source": [
        "def evaluation(dataloader, model):\n",
        "  total, correct = 0, 0\n",
        "  for data in dataloader:\n",
        "    inputs, labels = data\n",
        "    inputs, labels = inputs.to(device), labels.to(device)\n",
        "    outputs = model(inputs)\n",
        "    _, pred = torch.max(outputs.data, 1) # index at which max value\n",
        "    total += labels.size(0)\n",
        "    correct += (pred == labels).sum().item()\n",
        "  return 100 * correct / total"
      ],
      "execution_count": null,
      "outputs": []
    },
    {
      "cell_type": "code",
      "metadata": {
        "id": "CI3CZ2HMPVJP",
        "colab_type": "code",
        "colab": {}
      },
      "source": [
        "batch_size = 16\n",
        "\n",
        "trainloader = torch.utils.data.DataLoader(trainset, batch_size=batch_size, shuffle = True)\n",
        "testloader = torch.utils.data.DataLoader(testset, batch_size=batch_size, shuffle = False)"
      ],
      "execution_count": null,
      "outputs": []
    },
    {
      "cell_type": "markdown",
      "metadata": {
        "id": "gFNK9vIqhSiq",
        "colab_type": "text"
      },
      "source": [
        "# ResNet Model"
      ]
    },
    {
      "cell_type": "markdown",
      "metadata": {
        "id": "EcKsiu9KhYTP",
        "colab_type": "text"
      },
      "source": [
        "This time use pre-trained model"
      ]
    },
    {
      "cell_type": "code",
      "metadata": {
        "id": "yoOR8i7dCBHO",
        "colab_type": "code",
        "colab": {}
      },
      "source": [
        "from torchvision import models"
      ],
      "execution_count": null,
      "outputs": []
    },
    {
      "cell_type": "code",
      "metadata": {
        "id": "3uclSMGPhUl8",
        "colab_type": "code",
        "colab": {}
      },
      "source": [
        "resnet = models.resnet18(pretrained=True)"
      ],
      "execution_count": null,
      "outputs": []
    },
    {
      "cell_type": "code",
      "metadata": {
        "id": "gfhFI4i2hTfi",
        "colab_type": "code",
        "colab": {
          "base_uri": "https://localhost:8080/",
          "height": 1000
        },
        "outputId": "6ac36054-976e-416b-e0fb-2c9bfa9aef22"
      },
      "source": [
        "print(resnet)"
      ],
      "execution_count": null,
      "outputs": [
        {
          "output_type": "stream",
          "text": [
            "ResNet(\n",
            "  (conv1): Conv2d(3, 64, kernel_size=(7, 7), stride=(2, 2), padding=(3, 3), bias=False)\n",
            "  (bn1): BatchNorm2d(64, eps=1e-05, momentum=0.1, affine=True, track_running_stats=True)\n",
            "  (relu): ReLU(inplace=True)\n",
            "  (maxpool): MaxPool2d(kernel_size=3, stride=2, padding=1, dilation=1, ceil_mode=False)\n",
            "  (layer1): Sequential(\n",
            "    (0): BasicBlock(\n",
            "      (conv1): Conv2d(64, 64, kernel_size=(3, 3), stride=(1, 1), padding=(1, 1), bias=False)\n",
            "      (bn1): BatchNorm2d(64, eps=1e-05, momentum=0.1, affine=True, track_running_stats=True)\n",
            "      (relu): ReLU(inplace=True)\n",
            "      (conv2): Conv2d(64, 64, kernel_size=(3, 3), stride=(1, 1), padding=(1, 1), bias=False)\n",
            "      (bn2): BatchNorm2d(64, eps=1e-05, momentum=0.1, affine=True, track_running_stats=True)\n",
            "    )\n",
            "    (1): BasicBlock(\n",
            "      (conv1): Conv2d(64, 64, kernel_size=(3, 3), stride=(1, 1), padding=(1, 1), bias=False)\n",
            "      (bn1): BatchNorm2d(64, eps=1e-05, momentum=0.1, affine=True, track_running_stats=True)\n",
            "      (relu): ReLU(inplace=True)\n",
            "      (conv2): Conv2d(64, 64, kernel_size=(3, 3), stride=(1, 1), padding=(1, 1), bias=False)\n",
            "      (bn2): BatchNorm2d(64, eps=1e-05, momentum=0.1, affine=True, track_running_stats=True)\n",
            "    )\n",
            "  )\n",
            "  (layer2): Sequential(\n",
            "    (0): BasicBlock(\n",
            "      (conv1): Conv2d(64, 128, kernel_size=(3, 3), stride=(2, 2), padding=(1, 1), bias=False)\n",
            "      (bn1): BatchNorm2d(128, eps=1e-05, momentum=0.1, affine=True, track_running_stats=True)\n",
            "      (relu): ReLU(inplace=True)\n",
            "      (conv2): Conv2d(128, 128, kernel_size=(3, 3), stride=(1, 1), padding=(1, 1), bias=False)\n",
            "      (bn2): BatchNorm2d(128, eps=1e-05, momentum=0.1, affine=True, track_running_stats=True)\n",
            "      (downsample): Sequential(\n",
            "        (0): Conv2d(64, 128, kernel_size=(1, 1), stride=(2, 2), bias=False)\n",
            "        (1): BatchNorm2d(128, eps=1e-05, momentum=0.1, affine=True, track_running_stats=True)\n",
            "      )\n",
            "    )\n",
            "    (1): BasicBlock(\n",
            "      (conv1): Conv2d(128, 128, kernel_size=(3, 3), stride=(1, 1), padding=(1, 1), bias=False)\n",
            "      (bn1): BatchNorm2d(128, eps=1e-05, momentum=0.1, affine=True, track_running_stats=True)\n",
            "      (relu): ReLU(inplace=True)\n",
            "      (conv2): Conv2d(128, 128, kernel_size=(3, 3), stride=(1, 1), padding=(1, 1), bias=False)\n",
            "      (bn2): BatchNorm2d(128, eps=1e-05, momentum=0.1, affine=True, track_running_stats=True)\n",
            "    )\n",
            "  )\n",
            "  (layer3): Sequential(\n",
            "    (0): BasicBlock(\n",
            "      (conv1): Conv2d(128, 256, kernel_size=(3, 3), stride=(2, 2), padding=(1, 1), bias=False)\n",
            "      (bn1): BatchNorm2d(256, eps=1e-05, momentum=0.1, affine=True, track_running_stats=True)\n",
            "      (relu): ReLU(inplace=True)\n",
            "      (conv2): Conv2d(256, 256, kernel_size=(3, 3), stride=(1, 1), padding=(1, 1), bias=False)\n",
            "      (bn2): BatchNorm2d(256, eps=1e-05, momentum=0.1, affine=True, track_running_stats=True)\n",
            "      (downsample): Sequential(\n",
            "        (0): Conv2d(128, 256, kernel_size=(1, 1), stride=(2, 2), bias=False)\n",
            "        (1): BatchNorm2d(256, eps=1e-05, momentum=0.1, affine=True, track_running_stats=True)\n",
            "      )\n",
            "    )\n",
            "    (1): BasicBlock(\n",
            "      (conv1): Conv2d(256, 256, kernel_size=(3, 3), stride=(1, 1), padding=(1, 1), bias=False)\n",
            "      (bn1): BatchNorm2d(256, eps=1e-05, momentum=0.1, affine=True, track_running_stats=True)\n",
            "      (relu): ReLU(inplace=True)\n",
            "      (conv2): Conv2d(256, 256, kernel_size=(3, 3), stride=(1, 1), padding=(1, 1), bias=False)\n",
            "      (bn2): BatchNorm2d(256, eps=1e-05, momentum=0.1, affine=True, track_running_stats=True)\n",
            "    )\n",
            "  )\n",
            "  (layer4): Sequential(\n",
            "    (0): BasicBlock(\n",
            "      (conv1): Conv2d(256, 512, kernel_size=(3, 3), stride=(2, 2), padding=(1, 1), bias=False)\n",
            "      (bn1): BatchNorm2d(512, eps=1e-05, momentum=0.1, affine=True, track_running_stats=True)\n",
            "      (relu): ReLU(inplace=True)\n",
            "      (conv2): Conv2d(512, 512, kernel_size=(3, 3), stride=(1, 1), padding=(1, 1), bias=False)\n",
            "      (bn2): BatchNorm2d(512, eps=1e-05, momentum=0.1, affine=True, track_running_stats=True)\n",
            "      (downsample): Sequential(\n",
            "        (0): Conv2d(256, 512, kernel_size=(1, 1), stride=(2, 2), bias=False)\n",
            "        (1): BatchNorm2d(512, eps=1e-05, momentum=0.1, affine=True, track_running_stats=True)\n",
            "      )\n",
            "    )\n",
            "    (1): BasicBlock(\n",
            "      (conv1): Conv2d(512, 512, kernel_size=(3, 3), stride=(1, 1), padding=(1, 1), bias=False)\n",
            "      (bn1): BatchNorm2d(512, eps=1e-05, momentum=0.1, affine=True, track_running_stats=True)\n",
            "      (relu): ReLU(inplace=True)\n",
            "      (conv2): Conv2d(512, 512, kernel_size=(3, 3), stride=(1, 1), padding=(1, 1), bias=False)\n",
            "      (bn2): BatchNorm2d(512, eps=1e-05, momentum=0.1, affine=True, track_running_stats=True)\n",
            "    )\n",
            "  )\n",
            "  (avgpool): AdaptiveAvgPool2d(output_size=(1, 1))\n",
            "  (fc): Linear(in_features=512, out_features=1000, bias=True)\n",
            ")\n"
          ],
          "name": "stdout"
        }
      ]
    },
    {
      "cell_type": "markdown",
      "metadata": {
        "id": "63haQaqgiz7r",
        "colab_type": "text"
      },
      "source": [
        "Note each \"BasicBlock\" has the same set of layers"
      ]
    },
    {
      "cell_type": "code",
      "metadata": {
        "id": "3afj_coyixVP",
        "colab_type": "code",
        "colab": {}
      },
      "source": [
        "for param in resnet.parameters():\n",
        "  param.requires_grad = False\n",
        "# pretrained so don't learn again"
      ],
      "execution_count": null,
      "outputs": []
    },
    {
      "cell_type": "code",
      "metadata": {
        "id": "Rzb5uS6zi9IP",
        "colab_type": "code",
        "colab": {}
      },
      "source": [
        "# change number of classes in last layer (make it 10 for CIFAR10)\n",
        "in_features = resnet.fc.in_features # input remains 512\n",
        "resnet.fc = nn.Linear(in_features, num_classes)"
      ],
      "execution_count": null,
      "outputs": []
    },
    {
      "cell_type": "code",
      "metadata": {
        "id": "7kM2bskdjPQp",
        "colab_type": "code",
        "colab": {
          "base_uri": "https://localhost:8080/",
          "height": 52
        },
        "outputId": "d5082ebc-7b6c-460e-afe2-2b584418f096"
      },
      "source": [
        "for param in resnet.parameters():\n",
        "  if param.requires_grad:\n",
        "    print(param.shape)"
      ],
      "execution_count": null,
      "outputs": [
        {
          "output_type": "stream",
          "text": [
            "torch.Size([10, 512])\n",
            "torch.Size([10])\n"
          ],
          "name": "stdout"
        }
      ]
    },
    {
      "cell_type": "markdown",
      "metadata": {
        "id": "Wl1CdomMjWMY",
        "colab_type": "text"
      },
      "source": [
        "Thus only last layer learnt"
      ]
    },
    {
      "cell_type": "code",
      "metadata": {
        "id": "lHD20RbZjVR2",
        "colab_type": "code",
        "colab": {}
      },
      "source": [
        "resnet = resnet.to(device)\n",
        "loss_fn = nn.CrossEntropyLoss()\n",
        "opt = optim.SGD(resnet.parameters(), lr = 0.01) # stochastic"
      ],
      "execution_count": null,
      "outputs": []
    },
    {
      "cell_type": "code",
      "metadata": {
        "id": "3topYU5ZCRCD",
        "colab_type": "code",
        "colab": {}
      },
      "source": [
        "import copy"
      ],
      "execution_count": null,
      "outputs": []
    },
    {
      "cell_type": "code",
      "metadata": {
        "id": "iseYVw_Hjqxd",
        "colab_type": "code",
        "colab": {
          "base_uri": "https://localhost:8080/",
          "height": 1000
        },
        "outputId": "1f8ce173-d4b4-43b9-bd63-2885073e3772"
      },
      "source": [
        "loss_epoch_arr = []\n",
        "max_epochs = 4\n",
        "\n",
        "n_iters = np.ceil(50000/batch_size)\n",
        "\n",
        "# checkpointing\n",
        "min_loss = 1000\n",
        "\n",
        "for epoch in range(max_epochs):\n",
        "\n",
        "  for i, data in enumerate(trainloader, 0):\n",
        "\n",
        "    inputs, labels = data\n",
        "    inputs, labels = inputs.to(device), labels.to(device)\n",
        "\n",
        "    opt.zero_grad()\n",
        "\n",
        "    outputs = resnet(inputs)\n",
        "    loss = loss_fn(outputs, labels)\n",
        "\n",
        "    loss.backward() \n",
        "    opt.step() \n",
        "\n",
        "    if loss.item() < min_loss: # loss.item is the current loss\n",
        "      min_loss = loss.item() \n",
        "      best_model = copy.deepcopy(resnet.state_dict()) # state_dict has all params of model\n",
        "      print(\"Min loss %0.2f\" % min_loss)\n",
        "\n",
        "    if i%100 == 0:\n",
        "      print(\"Iteration: %d/%d, Loss: %0.2f\" % (i, n_iters, loss.item()))\n",
        "\n",
        "    del inputs, labels, outputs\n",
        "    torch.cuda.empty_cache()\n",
        "\n",
        "\n",
        "  loss_epoch_arr.append(loss.item())\n",
        "\n",
        "  print(\"Epoch: %d/%d, Test acc = %0.2f, Train acc = %0.2f\" %(\n",
        "      epoch, max_epochs,\n",
        "      evaluation(testloader, resnet), evaluation(trainloader, resnet)))\n",
        "  \n",
        "  plt.plot(loss_epoch_arr)\n",
        "  plt.show()"
      ],
      "execution_count": null,
      "outputs": [
        {
          "output_type": "stream",
          "text": [
            "Min loss 2.36\n",
            "Iteration: 0/3125, Loss: 2.36\n",
            "Min loss 2.06\n",
            "Min loss 1.91\n",
            "Min loss 1.90\n",
            "Min loss 1.80\n",
            "Min loss 1.80\n",
            "Min loss 1.76\n",
            "Min loss 1.64\n",
            "Min loss 1.60\n",
            "Iteration: 100/3125, Loss: 2.08\n",
            "Min loss 1.44\n",
            "Min loss 1.38\n",
            "Min loss 1.35\n",
            "Iteration: 200/3125, Loss: 1.74\n",
            "Min loss 1.27\n",
            "Min loss 1.17\n",
            "Min loss 1.15\n",
            "Iteration: 300/3125, Loss: 1.67\n",
            "Min loss 1.03\n",
            "Min loss 0.98\n",
            "Iteration: 400/3125, Loss: 1.40\n",
            "Iteration: 500/3125, Loss: 1.04\n",
            "Min loss 0.95\n",
            "Iteration: 600/3125, Loss: 1.32\n",
            "Iteration: 700/3125, Loss: 1.09\n",
            "Min loss 0.84\n",
            "Min loss 0.83\n",
            "Min loss 0.81\n",
            "Iteration: 800/3125, Loss: 1.42\n",
            "Iteration: 900/3125, Loss: 1.29\n",
            "Min loss 0.76\n",
            "Iteration: 1000/3125, Loss: 1.07\n",
            "Iteration: 1100/3125, Loss: 1.91\n",
            "Min loss 0.74\n",
            "Min loss 0.69\n",
            "Iteration: 1200/3125, Loss: 0.88\n",
            "Iteration: 1300/3125, Loss: 0.97\n",
            "Iteration: 1400/3125, Loss: 1.16\n",
            "Min loss 0.62\n",
            "Iteration: 1500/3125, Loss: 1.62\n",
            "Iteration: 1600/3125, Loss: 1.19\n",
            "Iteration: 1700/3125, Loss: 0.91\n",
            "Iteration: 1800/3125, Loss: 0.96\n",
            "Min loss 0.58\n",
            "Iteration: 1900/3125, Loss: 0.99\n",
            "Iteration: 2000/3125, Loss: 1.11\n",
            "Iteration: 2100/3125, Loss: 1.10\n",
            "Iteration: 2200/3125, Loss: 1.17\n",
            "Iteration: 2300/3125, Loss: 1.24\n",
            "Iteration: 2400/3125, Loss: 1.31\n",
            "Iteration: 2500/3125, Loss: 1.28\n",
            "Iteration: 2600/3125, Loss: 1.11\n",
            "Iteration: 2700/3125, Loss: 1.71\n",
            "Iteration: 2800/3125, Loss: 0.82\n",
            "Iteration: 2900/3125, Loss: 1.95\n",
            "Iteration: 3000/3125, Loss: 1.20\n",
            "Min loss 0.49\n",
            "Iteration: 3100/3125, Loss: 1.42\n",
            "Epoch: 0/4, Test acc = 54.27, Train acc = 54.79\n"
          ],
          "name": "stdout"
        },
        {
          "output_type": "display_data",
          "data": {
            "image/png": "[encoded data removed]",
            "text/plain": [
              "<Figure size 432x288 with 1 Axes>"
            ]
          },
          "metadata": {
            "tags": [],
            "needs_background": "light"
          }
        },
        {
          "output_type": "stream",
          "text": [
            "Iteration: 0/3125, Loss: 1.73\n",
            "Iteration: 100/3125, Loss: 1.07\n",
            "Iteration: 200/3125, Loss: 1.79\n",
            "Iteration: 300/3125, Loss: 0.62\n",
            "Iteration: 400/3125, Loss: 1.03\n",
            "Iteration: 500/3125, Loss: 1.22\n",
            "Iteration: 600/3125, Loss: 1.26\n",
            "Iteration: 700/3125, Loss: 1.77\n",
            "Iteration: 800/3125, Loss: 0.55\n",
            "Iteration: 900/3125, Loss: 0.97\n",
            "Iteration: 1000/3125, Loss: 1.17\n",
            "Iteration: 1100/3125, Loss: 0.82\n",
            "Iteration: 1200/3125, Loss: 0.90\n",
            "Iteration: 1300/3125, Loss: 1.46\n",
            "Min loss 0.47\n",
            "Iteration: 1400/3125, Loss: 1.21\n",
            "Iteration: 1500/3125, Loss: 1.27\n",
            "Iteration: 1600/3125, Loss: 1.59\n",
            "Iteration: 1700/3125, Loss: 0.79\n",
            "Iteration: 1800/3125, Loss: 1.06\n",
            "Iteration: 1900/3125, Loss: 0.90\n",
            "Iteration: 2000/3125, Loss: 1.15\n",
            "Iteration: 2100/3125, Loss: 1.28\n",
            "Iteration: 2200/3125, Loss: 1.44\n",
            "Iteration: 2300/3125, Loss: 1.03\n",
            "Iteration: 2400/3125, Loss: 1.56\n",
            "Iteration: 2500/3125, Loss: 1.00\n",
            "Iteration: 2600/3125, Loss: 1.36\n",
            "Iteration: 2700/3125, Loss: 1.16\n",
            "Iteration: 2800/3125, Loss: 1.77\n",
            "Iteration: 2900/3125, Loss: 1.14\n",
            "Iteration: 3000/3125, Loss: 1.75\n",
            "Iteration: 3100/3125, Loss: 0.92\n",
            "Epoch: 1/4, Test acc = 55.88, Train acc = 56.34\n"
          ],
          "name": "stdout"
        },
        {
          "output_type": "display_data",
          "data": {
            "image/png": "[encoded data removed]",
            "text/plain": [
              "<Figure size 432x288 with 1 Axes>"
            ]
          },
          "metadata": {
            "tags": [],
            "needs_background": "light"
          }
        },
        {
          "output_type": "stream",
          "text": [
            "Iteration: 0/3125, Loss: 0.88\n",
            "Iteration: 100/3125, Loss: 1.57\n",
            "Iteration: 200/3125, Loss: 0.93\n",
            "Iteration: 300/3125, Loss: 1.34\n",
            "Min loss 0.44\n",
            "Iteration: 400/3125, Loss: 1.31\n",
            "Iteration: 500/3125, Loss: 1.82\n",
            "Iteration: 600/3125, Loss: 1.01\n",
            "Iteration: 700/3125, Loss: 1.08\n",
            "Iteration: 800/3125, Loss: 1.76\n",
            "Iteration: 900/3125, Loss: 1.15\n",
            "Iteration: 1000/3125, Loss: 1.39\n",
            "Iteration: 1100/3125, Loss: 1.45\n",
            "Iteration: 1200/3125, Loss: 1.44\n",
            "Iteration: 1300/3125, Loss: 1.15\n",
            "Iteration: 1400/3125, Loss: 1.48\n",
            "Iteration: 1500/3125, Loss: 1.37\n",
            "Iteration: 1600/3125, Loss: 0.69\n",
            "Min loss 0.35\n",
            "Iteration: 1700/3125, Loss: 1.01\n",
            "Iteration: 1800/3125, Loss: 1.27\n",
            "Iteration: 1900/3125, Loss: 1.44\n",
            "Iteration: 2000/3125, Loss: 1.62\n",
            "Iteration: 2100/3125, Loss: 0.71\n",
            "Iteration: 2200/3125, Loss: 1.16\n",
            "Iteration: 2300/3125, Loss: 1.52\n",
            "Iteration: 2400/3125, Loss: 1.37\n",
            "Iteration: 2500/3125, Loss: 1.32\n",
            "Iteration: 2600/3125, Loss: 0.92\n",
            "Iteration: 2700/3125, Loss: 1.02\n",
            "Iteration: 2800/3125, Loss: 1.21\n",
            "Iteration: 2900/3125, Loss: 1.24\n",
            "Iteration: 3000/3125, Loss: 1.24\n",
            "Iteration: 3100/3125, Loss: 2.18\n",
            "Epoch: 2/4, Test acc = 57.66, Train acc = 57.76\n"
          ],
          "name": "stdout"
        },
        {
          "output_type": "display_data",
          "data": {
            "image/png": "[encoded data removed]",
            "text/plain": [
              "<Figure size 432x288 with 1 Axes>"
            ]
          },
          "metadata": {
            "tags": [],
            "needs_background": "light"
          }
        },
        {
          "output_type": "stream",
          "text": [
            "Iteration: 0/3125, Loss: 1.54\n",
            "Iteration: 100/3125, Loss: 1.27\n",
            "Iteration: 200/3125, Loss: 1.35\n",
            "Iteration: 300/3125, Loss: 1.15\n",
            "Iteration: 400/3125, Loss: 1.58\n",
            "Iteration: 500/3125, Loss: 1.89\n",
            "Iteration: 600/3125, Loss: 0.99\n",
            "Iteration: 700/3125, Loss: 1.42\n",
            "Iteration: 800/3125, Loss: 1.66\n",
            "Iteration: 900/3125, Loss: 1.37\n",
            "Iteration: 1000/3125, Loss: 1.31\n",
            "Iteration: 1100/3125, Loss: 1.21\n",
            "Iteration: 1200/3125, Loss: 0.75\n",
            "Iteration: 1300/3125, Loss: 1.03\n",
            "Iteration: 1400/3125, Loss: 0.99\n",
            "Iteration: 1500/3125, Loss: 2.01\n",
            "Iteration: 1600/3125, Loss: 1.30\n",
            "Iteration: 1700/3125, Loss: 1.22\n",
            "Iteration: 1800/3125, Loss: 0.85\n",
            "Iteration: 1900/3125, Loss: 0.98\n",
            "Iteration: 2000/3125, Loss: 1.08\n",
            "Iteration: 2100/3125, Loss: 1.65\n",
            "Iteration: 2200/3125, Loss: 1.18\n",
            "Iteration: 2300/3125, Loss: 1.10\n",
            "Iteration: 2400/3125, Loss: 0.95\n",
            "Iteration: 2500/3125, Loss: 1.11\n",
            "Iteration: 2600/3125, Loss: 1.13\n",
            "Iteration: 2700/3125, Loss: 1.41\n",
            "Iteration: 2800/3125, Loss: 0.92\n",
            "Iteration: 2900/3125, Loss: 1.57\n",
            "Iteration: 3000/3125, Loss: 1.04\n",
            "Iteration: 3100/3125, Loss: 1.96\n",
            "Epoch: 3/4, Test acc = 56.92, Train acc = 57.56\n"
          ],
          "name": "stdout"
        },
        {
          "output_type": "display_data",
          "data": {
            "image/png": "[encoded data removed]",
            "text/plain": [
              "<Figure size 432x288 with 1 Axes>"
            ]
          },
          "metadata": {
            "tags": [],
            "needs_background": "light"
          }
        }
      ]
    },
    {
      "cell_type": "markdown",
      "metadata": {
        "id": "IIzgMNHRkUaz",
        "colab_type": "text"
      },
      "source": [
        "Note each checkpointing results in a lower loss each time."
      ]
    },
    {
      "cell_type": "markdown",
      "metadata": {
        "id": "XaoiZYlnkZrJ",
        "colab_type": "text"
      },
      "source": [
        "Also note: loss way lesser than VGG Net."
      ]
    },
    {
      "cell_type": "code",
      "metadata": {
        "id": "NZQkHy-jj8cd",
        "colab_type": "code",
        "colab": {
          "base_uri": "https://localhost:8080/",
          "height": 34
        },
        "outputId": "ef17b36e-b309-4f0c-9413-889ff13981ee"
      },
      "source": [
        "resnet.load_state_dict(best_model)\n",
        "print(evaluation(trainloader, resnet), evaluation(testloader, resnet))"
      ],
      "execution_count": null,
      "outputs": [
        {
          "output_type": "stream",
          "text": [
            "57.508 56.89\n"
          ],
          "name": "stdout"
        }
      ]
    },
    {
      "cell_type": "markdown",
      "metadata": {
        "id": "Kr3Op1AAdLNx",
        "colab_type": "text"
      },
      "source": [
        "Accuracy way better than both VGGNet and InceptionV3"
      ]
    },
    {
      "cell_type": "code",
      "metadata": {
        "id": "GMiq2TuVkqZy",
        "colab_type": "code",
        "colab": {}
      },
      "source": [
        "                                                                                                                                                                                                                                                                                                                                                                                            "
      ],
      "execution_count": null,
      "outputs": []
    }
  ]
}