{
  "nbformat": 4,
  "nbformat_minor": 0,
  "metadata": {
    "colab": {
      "name": "VGGNet.ipynb",
      "provenance": [],
      "collapsed_sections": [],
      "authorship_tag": "ABX9TyPnFD6NJLS8ga3XFIYH0+Fn"
    },
    "kernelspec": {
      "name": "python3",
      "display_name": "Python 3"
    },
    "widgets": {
      "application/vnd.jupyter.widget-state+json": {
        "2909e634005245bfbb32de624d60e855": {
          "model_module": "@jupyter-widgets/controls",
          "model_name": "HBoxModel",
          "state": {
            "_view_name": "HBoxView",
            "_dom_classes": [],
            "_model_name": "HBoxModel",
            "_view_module": "@jupyter-widgets/controls",
            "_model_module_version": "1.5.0",
            "_view_count": null,
            "_view_module_version": "1.5.0",
            "box_style": "",
            "layout": "IPY_MODEL_d74fa0a9a191447f86bff8ba951116b9",
            "_model_module": "@jupyter-widgets/controls",
            "children": [
              "IPY_MODEL_d35ed005c82c472f9dee5de112e1492b",
              "IPY_MODEL_55477901215243ebabf8865cdd8bdea5"
            ]
          }
        },
        "d74fa0a9a191447f86bff8ba951116b9": {
          "model_module": "@jupyter-widgets/base",
          "model_name": "LayoutModel",
          "state": {
            "_view_name": "LayoutView",
            "grid_template_rows": null,
            "right": null,
            "justify_content": null,
            "_view_module": "@jupyter-widgets/base",
            "overflow": null,
            "_model_module_version": "1.2.0",
            "_view_count": null,
            "flex_flow": null,
            "width": null,
            "min_width": null,
            "border": null,
            "align_items": null,
            "bottom": null,
            "_model_module": "@jupyter-widgets/base",
            "top": null,
            "grid_column": null,
            "overflow_y": null,
            "overflow_x": null,
            "grid_auto_flow": null,
            "grid_area": null,
            "grid_template_columns": null,
            "flex": null,
            "_model_name": "LayoutModel",
            "justify_items": null,
            "grid_row": null,
            "max_height": null,
            "align_content": null,
            "visibility": null,
            "align_self": null,
            "height": null,
            "min_height": null,
            "padding": null,
            "grid_auto_rows": null,
            "grid_gap": null,
            "max_width": null,
            "order": null,
            "_view_module_version": "1.2.0",
            "grid_template_areas": null,
            "object_position": null,
            "object_fit": null,
            "grid_auto_columns": null,
            "margin": null,
            "display": null,
            "left": null
          }
        },
        "d35ed005c82c472f9dee5de112e1492b": {
          "model_module": "@jupyter-widgets/controls",
          "model_name": "FloatProgressModel",
          "state": {
            "_view_name": "ProgressView",
            "style": "IPY_MODEL_74647a2aaaf84d1fbe7837d5d61efe7a",
            "_dom_classes": [],
            "description": "",
            "_model_name": "FloatProgressModel",
            "bar_style": "info",
            "max": 1,
            "_view_module": "@jupyter-widgets/controls",
            "_model_module_version": "1.5.0",
            "value": 1,
            "_view_count": null,
            "_view_module_version": "1.5.0",
            "orientation": "horizontal",
            "min": 0,
            "description_tooltip": null,
            "_model_module": "@jupyter-widgets/controls",
            "layout": "IPY_MODEL_cb33e136609d427dab70272ce3d04e18"
          }
        },
        "55477901215243ebabf8865cdd8bdea5": {
          "model_module": "@jupyter-widgets/controls",
          "model_name": "HTMLModel",
          "state": {
            "_view_name": "HTMLView",
            "style": "IPY_MODEL_1f1f641db18945fa8d1e8a378b22e3cc",
            "_dom_classes": [],
            "description": "",
            "_model_name": "HTMLModel",
            "placeholder": "​",
            "_view_module": "@jupyter-widgets/controls",
            "_model_module_version": "1.5.0",
            "value": " 170500096/? [00:30&lt;00:00, 16373597.31it/s]",
            "_view_count": null,
            "_view_module_version": "1.5.0",
            "description_tooltip": null,
            "_model_module": "@jupyter-widgets/controls",
            "layout": "IPY_MODEL_8b59b0a9a5004b60980e33a681dbe707"
          }
        },
        "74647a2aaaf84d1fbe7837d5d61efe7a": {
          "model_module": "@jupyter-widgets/controls",
          "model_name": "ProgressStyleModel",
          "state": {
            "_view_name": "StyleView",
            "_model_name": "ProgressStyleModel",
            "description_width": "initial",
            "_view_module": "@jupyter-widgets/base",
            "_model_module_version": "1.5.0",
            "_view_count": null,
            "_view_module_version": "1.2.0",
            "bar_color": null,
            "_model_module": "@jupyter-widgets/controls"
          }
        },
        "cb33e136609d427dab70272ce3d04e18": {
          "model_module": "@jupyter-widgets/base",
          "model_name": "LayoutModel",
          "state": {
            "_view_name": "LayoutView",
            "grid_template_rows": null,
            "right": null,
            "justify_content": null,
            "_view_module": "@jupyter-widgets/base",
            "overflow": null,
            "_model_module_version": "1.2.0",
            "_view_count": null,
            "flex_flow": null,
            "width": null,
            "min_width": null,
            "border": null,
            "align_items": null,
            "bottom": null,
            "_model_module": "@jupyter-widgets/base",
            "top": null,
            "grid_column": null,
            "overflow_y": null,
            "overflow_x": null,
            "grid_auto_flow": null,
            "grid_area": null,
            "grid_template_columns": null,
            "flex": null,
            "_model_name": "LayoutModel",
            "justify_items": null,
            "grid_row": null,
            "max_height": null,
            "align_content": null,
            "visibility": null,
            "align_self": null,
            "height": null,
            "min_height": null,
            "padding": null,
            "grid_auto_rows": null,
            "grid_gap": null,
            "max_width": null,
            "order": null,
            "_view_module_version": "1.2.0",
            "grid_template_areas": null,
            "object_position": null,
            "object_fit": null,
            "grid_auto_columns": null,
            "margin": null,
            "display": null,
            "left": null
          }
        },
        "1f1f641db18945fa8d1e8a378b22e3cc": {
          "model_module": "@jupyter-widgets/controls",
          "model_name": "DescriptionStyleModel",
          "state": {
            "_view_name": "StyleView",
            "_model_name": "DescriptionStyleModel",
            "description_width": "",
            "_view_module": "@jupyter-widgets/base",
            "_model_module_version": "1.5.0",
            "_view_count": null,
            "_view_module_version": "1.2.0",
            "_model_module": "@jupyter-widgets/controls"
          }
        },
        "8b59b0a9a5004b60980e33a681dbe707": {
          "model_module": "@jupyter-widgets/base",
          "model_name": "LayoutModel",
          "state": {
            "_view_name": "LayoutView",
            "grid_template_rows": null,
            "right": null,
            "justify_content": null,
            "_view_module": "@jupyter-widgets/base",
            "overflow": null,
            "_model_module_version": "1.2.0",
            "_view_count": null,
            "flex_flow": null,
            "width": null,
            "min_width": null,
            "border": null,
            "align_items": null,
            "bottom": null,
            "_model_module": "@jupyter-widgets/base",
            "top": null,
            "grid_column": null,
            "overflow_y": null,
            "overflow_x": null,
            "grid_auto_flow": null,
            "grid_area": null,
            "grid_template_columns": null,
            "flex": null,
            "_model_name": "LayoutModel",
            "justify_items": null,
            "grid_row": null,
            "max_height": null,
            "align_content": null,
            "visibility": null,
            "align_self": null,
            "height": null,
            "min_height": null,
            "padding": null,
            "grid_auto_rows": null,
            "grid_gap": null,
            "max_width": null,
            "order": null,
            "_view_module_version": "1.2.0",
            "grid_template_areas": null,
            "object_position": null,
            "object_fit": null,
            "grid_auto_columns": null,
            "margin": null,
            "display": null,
            "left": null
          }
        }
      }
    },
    "accelerator": "GPU"
  },
  "cells": [
    {
      "cell_type": "markdown",
      "metadata": {
        "id": "1O7GOEootwwy",
        "colab_type": "text"
      },
      "source": [
        "# VGGNet"
      ]
    },
    {
      "cell_type": "code",
      "metadata": {
        "id": "3tgEQlltpMy1",
        "colab_type": "code",
        "colab": {}
      },
      "source": [
        "import matplotlib.pyplot as plt\n",
        "import numpy as np\n",
        "\n",
        "import torch\n",
        "import torchvision\n",
        "import torchvision.transforms as transforms\n",
        "import torch.nn as nn\n",
        "import torch.optim as optim"
      ],
      "execution_count": 2,
      "outputs": []
    },
    {
      "cell_type": "code",
      "metadata": {
        "id": "_zE8kJvbqxpg",
        "colab_type": "code",
        "colab": {
          "base_uri": "https://localhost:8080/",
          "height": 34
        },
        "outputId": "bdb9f804-0a96-4be6-9101-ecc26b38631e"
      },
      "source": [
        "# check if gpu present\n",
        "device = torch.device(\"cuda:0\" if torch.cuda.is_available() else \"cpu\")\n",
        "print(device)"
      ],
      "execution_count": 3,
      "outputs": [
        {
          "output_type": "stream",
          "text": [
            "cuda:0\n"
          ],
          "name": "stdout"
        }
      ]
    },
    {
      "cell_type": "code",
      "metadata": {
        "id": "HB1epf63rDGW",
        "colab_type": "code",
        "colab": {}
      },
      "source": [
        ""
      ],
      "execution_count": 3,
      "outputs": []
    },
    {
      "cell_type": "markdown",
      "metadata": {
        "id": "6Z6ajPZorG7-",
        "colab_type": "text"
      },
      "source": [
        "# Datasets, transforms and visualisations"
      ]
    },
    {
      "cell_type": "markdown",
      "metadata": {
        "id": "gbA3UBX_tQ53",
        "colab_type": "text"
      },
      "source": [
        "Transformations\n",
        "*   Resizing: Since the NN takes 224 x 224 as its input\n",
        "*   Crop: Crops at a random location into 224 x 224\n",
        "*   ToTensor: (as usual)\n",
        "*   Normalize: ( new thing ) setting mean and standard deviation, of the matrix of 3 channels so as to bring range to uniform value.\n",
        "\n",
        "All are pipelined - from one to another"
      ]
    },
    {
      "cell_type": "code",
      "metadata": {
        "id": "fsx_Ez0XrJ4h",
        "colab_type": "code",
        "colab": {}
      },
      "source": [
        "# earlier had used ToTensor() of \"transform\" to convert PIL image to tensor directly\n",
        "# This time using few more functions of \"transform\"\n",
        "\n",
        "transform_train = transforms.Compose([\n",
        "      transforms.RandomResizedCrop(224),\n",
        "      transforms.ToTensor(),\n",
        "      transforms.Normalize((0.5, 0.5, 0.5), (0.5, 0.5, 0.5)),\n",
        "])\n",
        "\n",
        "transform_test = transforms.Compose([\n",
        "      transforms.RandomResizedCrop(224),\n",
        "      transforms.ToTensor(),\n",
        "      transforms.Normalize((0.5, 0.5, 0.5), (0.5, 0.5, 0.5)),\n",
        "])"
      ],
      "execution_count": 4,
      "outputs": []
    },
    {
      "cell_type": "markdown",
      "metadata": {
        "id": "quwBQIsQuyTZ",
        "colab_type": "text"
      },
      "source": [
        "Downloading and applying the transform object pipelined above"
      ]
    },
    {
      "cell_type": "code",
      "metadata": {
        "id": "NzzcqWjEuvJl",
        "colab_type": "code",
        "colab": {
          "base_uri": "https://localhost:8080/",
          "height": 102,
          "referenced_widgets": [
            "2909e634005245bfbb32de624d60e855",
            "d74fa0a9a191447f86bff8ba951116b9",
            "d35ed005c82c472f9dee5de112e1492b",
            "55477901215243ebabf8865cdd8bdea5",
            "74647a2aaaf84d1fbe7837d5d61efe7a",
            "cb33e136609d427dab70272ce3d04e18",
            "1f1f641db18945fa8d1e8a378b22e3cc",
            "8b59b0a9a5004b60980e33a681dbe707"
          ]
        },
        "outputId": "e0482270-e326-4bf5-b1da-6b44c542c303"
      },
      "source": [
        "trainset = torchvision.datasets.CIFAR10(root = './data', train = True,\n",
        "                                        download = True, \n",
        "                                        transform = transform_train) # applying transform in this last line\n",
        "\n",
        "testset = torchvision.datasets.CIFAR10(root = './data', train = False,\n",
        "                                        download = True, \n",
        "                                        transform = transform_test)\n",
        "                                        "
      ],
      "execution_count": 5,
      "outputs": [
        {
          "output_type": "stream",
          "text": [
            "Downloading https://www.cs.toronto.edu/~kriz/cifar-10-python.tar.gz to ./data/cifar-10-python.tar.gz\n"
          ],
          "name": "stdout"
        },
        {
          "output_type": "display_data",
          "data": {
            "application/vnd.jupyter.widget-view+json": {
              "model_id": "2909e634005245bfbb32de624d60e855",
              "version_minor": 0,
              "version_major": 2
            },
            "text/plain": [
              "HBox(children=(FloatProgress(value=1.0, bar_style='info', max=1.0), HTML(value='')))"
            ]
          },
          "metadata": {
            "tags": []
          }
        },
        {
          "output_type": "stream",
          "text": [
            "Extracting ./data/cifar-10-python.tar.gz to ./data\n",
            "Files already downloaded and verified\n"
          ],
          "name": "stdout"
        }
      ]
    },
    {
      "cell_type": "code",
      "metadata": {
        "id": "8ASlJBqxvUar",
        "colab_type": "code",
        "colab": {}
      },
      "source": [
        "num_classes = 10"
      ],
      "execution_count": 6,
      "outputs": []
    },
    {
      "cell_type": "markdown",
      "metadata": {
        "id": "Yn7k71LTvcbT",
        "colab_type": "text"
      },
      "source": [
        "10 classes in CIFAR10"
      ]
    },
    {
      "cell_type": "code",
      "metadata": {
        "id": "p--Ocfiavbm7",
        "colab_type": "code",
        "colab": {}
      },
      "source": [
        "batch_size = 4"
      ],
      "execution_count": 7,
      "outputs": []
    },
    {
      "cell_type": "markdown",
      "metadata": {
        "id": "rrAA9uwBvwNl",
        "colab_type": "text"
      },
      "source": [
        "visualise 4 at a time"
      ]
    },
    {
      "cell_type": "code",
      "metadata": {
        "id": "zF2L-rcRvjRw",
        "colab_type": "code",
        "colab": {}
      },
      "source": [
        "trainloader = torch.utils.data.DataLoader(trainset, batch_size=batch_size, shuffle=True)\n",
        "# want shuffled instances of 4 images"
      ],
      "execution_count": 8,
      "outputs": []
    },
    {
      "cell_type": "code",
      "metadata": {
        "id": "nz5DpWKWvytV",
        "colab_type": "code",
        "colab": {
          "base_uri": "https://localhost:8080/",
          "height": 70
        },
        "outputId": "95a2fc8a-ecf4-4b5c-b793-ab6a26c4014d"
      },
      "source": [
        "dataiter = iter(trainloader)\n",
        "images , labels = dataiter.next() # gives next batch\n",
        "\n",
        "print(images.shape)\n",
        "\n",
        "print(images[1].shape)\n",
        "print(labels[1].item()) # class"
      ],
      "execution_count": 9,
      "outputs": [
        {
          "output_type": "stream",
          "text": [
            "torch.Size([4, 3, 224, 224])\n",
            "torch.Size([3, 224, 224])\n",
            "6\n"
          ],
          "name": "stdout"
        }
      ]
    },
    {
      "cell_type": "markdown",
      "metadata": {
        "id": "JWc4efp5wK_n",
        "colab_type": "text"
      },
      "source": [
        "Note 32 x 32 of CIFAR has been converted to 224 x 224"
      ]
    },
    {
      "cell_type": "code",
      "metadata": {
        "id": "srs-559gwJSm",
        "colab_type": "code",
        "colab": {}
      },
      "source": [
        "# to display image\n",
        "# only change: unnormalize => multiplication by 0.5 (std. dev) and adding by 0.5 (mean)\n",
        "# to unnormalize, convert image to numpy\n",
        "# if don't normalize, too dark, since normalizing had reduced all the color intensity etc\n",
        "def imshow(img, title):\n",
        "  npimg = img.numpy()\n",
        "  plt.figure(figsize = (batch_size, 1))\n",
        "  plt.axis(\"off\")\n",
        "  plt.imshow(np.transpose(npimg, (1,2,0))) # i.e. putting the 3 channels at end\n",
        "  plt.title(title)\n",
        "  plt.show()\n"
      ],
      "execution_count": 10,
      "outputs": []
    },
    {
      "cell_type": "code",
      "metadata": {
        "id": "N21yIo8NxDh-",
        "colab_type": "code",
        "colab": {}
      },
      "source": [
        "# Show the entire batch together\n",
        "def show_batch_images(dataloader):\n",
        "  images, labels = next(iter(dataloader))\n",
        "  img = torchvision.utils.make_grid(images)\n",
        "  imshow(img, title = [str(x.item()) for x in labels])"
      ],
      "execution_count": 11,
      "outputs": []
    },
    {
      "cell_type": "code",
      "metadata": {
        "id": "8nq3zLrJxixy",
        "colab_type": "code",
        "colab": {
          "base_uri": "https://localhost:8080/",
          "height": 423
        },
        "outputId": "f2e6bcc5-7459-47a3-8e13-24a0ee1cce79"
      },
      "source": [
        "for i in range(4):\n",
        "  show_batch_images(trainloader)"
      ],
      "execution_count": 12,
      "outputs": [
        {
          "output_type": "stream",
          "text": [
            "Clipping input data to the valid range for imshow with RGB data ([0..1] for floats or [0..255] for integers).\n"
          ],
          "name": "stderr"
        },
        {
          "output_type": "display_data",
          "data": {
            "image/png": "[encoded data removed]",
            "text/plain": [
              "<Figure size 288x72 with 1 Axes>"
            ]
          },
          "metadata": {
            "tags": [],
            "needs_background": "light"
          }
        },
        {
          "output_type": "stream",
          "text": [
            "Clipping input data to the valid range for imshow with RGB data ([0..1] for floats or [0..255] for integers).\n"
          ],
          "name": "stderr"
        },
        {
          "output_type": "display_data",
          "data": {
            "image/png": "[encoded data removed]",
            "text/plain": [
              "<Figure size 288x72 with 1 Axes>"
            ]
          },
          "metadata": {
            "tags": [],
            "needs_background": "light"
          }
        },
        {
          "output_type": "stream",
          "text": [
            "Clipping input data to the valid range for imshow with RGB data ([0..1] for floats or [0..255] for integers).\n"
          ],
          "name": "stderr"
        },
        {
          "output_type": "display_data",
          "data": {
            "image/png": "[encoded data removed]",
            "text/plain": [
              "<Figure size 288x72 with 1 Axes>"
            ]
          },
          "metadata": {
            "tags": [],
            "needs_background": "light"
          }
        },
        {
          "output_type": "stream",
          "text": [
            "Clipping input data to the valid range for imshow with RGB data ([0..1] for floats or [0..255] for integers).\n"
          ],
          "name": "stderr"
        },
        {
          "output_type": "display_data",
          "data": {
            "image/png": "[encoded data removed]",
            "text/plain": [
              "<Figure size 288x72 with 1 Axes>"
            ]
          },
          "metadata": {
            "tags": [],
            "needs_background": "light"
          }
        }
      ]
    },
    {
      "cell_type": "code",
      "metadata": {
        "id": "82Vwf__-xraO",
        "colab_type": "code",
        "colab": {}
      },
      "source": [
        ""
      ],
      "execution_count": 12,
      "outputs": []
    },
    {
      "cell_type": "markdown",
      "metadata": {
        "id": "AAqDulMoyL7B",
        "colab_type": "text"
      },
      "source": [
        "# Creating VGG-16"
      ]
    },
    {
      "cell_type": "markdown",
      "metadata": {
        "id": "sYJMtx9myryR",
        "colab_type": "text"
      },
      "source": [
        "Unlike LeNet, PyTorch itself defines.  \n",
        "AlexNet, VGG, ResNet, SqueezeNet, DenseNet, Inception v3, GoogLeNet, ShuffleNet v2, MobileNet v2, ResNeXt, Wide ResNet, MNASNet. These are open source, all built using - nn.Linear, nn.ReLu, nn.Dropout, nn.forward, avgpool, padding, stride, reshaping, etc"
      ]
    },
    {
      "cell_type": "code",
      "metadata": {
        "id": "ZnmaoPZayNax",
        "colab_type": "code",
        "colab": {}
      },
      "source": [
        "from torchvision import models"
      ],
      "execution_count": 13,
      "outputs": []
    },
    {
      "cell_type": "code",
      "metadata": {
        "id": "ItDD8WEpzR_Q",
        "colab_type": "code",
        "colab": {}
      },
      "source": [
        "vgg = models.vgg16_bn()"
      ],
      "execution_count": 14,
      "outputs": []
    },
    {
      "cell_type": "markdown",
      "metadata": {
        "id": "aKJkptGbzvSM",
        "colab_type": "text"
      },
      "source": [
        "Shows all operations performed"
      ]
    },
    {
      "cell_type": "code",
      "metadata": {
        "id": "t2t0BfY_zrfg",
        "colab_type": "code",
        "colab": {
          "base_uri": "https://localhost:8080/",
          "height": 1000
        },
        "outputId": "0b6aa7c0-f483-4351-e614-82939e74160a"
      },
      "source": [
        "print(vgg)"
      ],
      "execution_count": 15,
      "outputs": [
        {
          "output_type": "stream",
          "text": [
            "VGG(\n",
            "  (features): Sequential(\n",
            "    (0): Conv2d(3, 64, kernel_size=(3, 3), stride=(1, 1), padding=(1, 1))\n",
            "    (1): BatchNorm2d(64, eps=1e-05, momentum=0.1, affine=True, track_running_stats=True)\n",
            "    (2): ReLU(inplace=True)\n",
            "    (3): Conv2d(64, 64, kernel_size=(3, 3), stride=(1, 1), padding=(1, 1))\n",
            "    (4): BatchNorm2d(64, eps=1e-05, momentum=0.1, affine=True, track_running_stats=True)\n",
            "    (5): ReLU(inplace=True)\n",
            "    (6): MaxPool2d(kernel_size=2, stride=2, padding=0, dilation=1, ceil_mode=False)\n",
            "    (7): Conv2d(64, 128, kernel_size=(3, 3), stride=(1, 1), padding=(1, 1))\n",
            "    (8): BatchNorm2d(128, eps=1e-05, momentum=0.1, affine=True, track_running_stats=True)\n",
            "    (9): ReLU(inplace=True)\n",
            "    (10): Conv2d(128, 128, kernel_size=(3, 3), stride=(1, 1), padding=(1, 1))\n",
            "    (11): BatchNorm2d(128, eps=1e-05, momentum=0.1, affine=True, track_running_stats=True)\n",
            "    (12): ReLU(inplace=True)\n",
            "    (13): MaxPool2d(kernel_size=2, stride=2, padding=0, dilation=1, ceil_mode=False)\n",
            "    (14): Conv2d(128, 256, kernel_size=(3, 3), stride=(1, 1), padding=(1, 1))\n",
            "    (15): BatchNorm2d(256, eps=1e-05, momentum=0.1, affine=True, track_running_stats=True)\n",
            "    (16): ReLU(inplace=True)\n",
            "    (17): Conv2d(256, 256, kernel_size=(3, 3), stride=(1, 1), padding=(1, 1))\n",
            "    (18): BatchNorm2d(256, eps=1e-05, momentum=0.1, affine=True, track_running_stats=True)\n",
            "    (19): ReLU(inplace=True)\n",
            "    (20): Conv2d(256, 256, kernel_size=(3, 3), stride=(1, 1), padding=(1, 1))\n",
            "    (21): BatchNorm2d(256, eps=1e-05, momentum=0.1, affine=True, track_running_stats=True)\n",
            "    (22): ReLU(inplace=True)\n",
            "    (23): MaxPool2d(kernel_size=2, stride=2, padding=0, dilation=1, ceil_mode=False)\n",
            "    (24): Conv2d(256, 512, kernel_size=(3, 3), stride=(1, 1), padding=(1, 1))\n",
            "    (25): BatchNorm2d(512, eps=1e-05, momentum=0.1, affine=True, track_running_stats=True)\n",
            "    (26): ReLU(inplace=True)\n",
            "    (27): Conv2d(512, 512, kernel_size=(3, 3), stride=(1, 1), padding=(1, 1))\n",
            "    (28): BatchNorm2d(512, eps=1e-05, momentum=0.1, affine=True, track_running_stats=True)\n",
            "    (29): ReLU(inplace=True)\n",
            "    (30): Conv2d(512, 512, kernel_size=(3, 3), stride=(1, 1), padding=(1, 1))\n",
            "    (31): BatchNorm2d(512, eps=1e-05, momentum=0.1, affine=True, track_running_stats=True)\n",
            "    (32): ReLU(inplace=True)\n",
            "    (33): MaxPool2d(kernel_size=2, stride=2, padding=0, dilation=1, ceil_mode=False)\n",
            "    (34): Conv2d(512, 512, kernel_size=(3, 3), stride=(1, 1), padding=(1, 1))\n",
            "    (35): BatchNorm2d(512, eps=1e-05, momentum=0.1, affine=True, track_running_stats=True)\n",
            "    (36): ReLU(inplace=True)\n",
            "    (37): Conv2d(512, 512, kernel_size=(3, 3), stride=(1, 1), padding=(1, 1))\n",
            "    (38): BatchNorm2d(512, eps=1e-05, momentum=0.1, affine=True, track_running_stats=True)\n",
            "    (39): ReLU(inplace=True)\n",
            "    (40): Conv2d(512, 512, kernel_size=(3, 3), stride=(1, 1), padding=(1, 1))\n",
            "    (41): BatchNorm2d(512, eps=1e-05, momentum=0.1, affine=True, track_running_stats=True)\n",
            "    (42): ReLU(inplace=True)\n",
            "    (43): MaxPool2d(kernel_size=2, stride=2, padding=0, dilation=1, ceil_mode=False)\n",
            "  )\n",
            "  (avgpool): AdaptiveAvgPool2d(output_size=(7, 7))\n",
            "  (classifier): Sequential(\n",
            "    (0): Linear(in_features=25088, out_features=4096, bias=True)\n",
            "    (1): ReLU(inplace=True)\n",
            "    (2): Dropout(p=0.5, inplace=False)\n",
            "    (3): Linear(in_features=4096, out_features=4096, bias=True)\n",
            "    (4): ReLU(inplace=True)\n",
            "    (5): Dropout(p=0.5, inplace=False)\n",
            "    (6): Linear(in_features=4096, out_features=1000, bias=True)\n",
            "  )\n",
            ")\n"
          ],
          "name": "stdout"
        }
      ]
    },
    {
      "cell_type": "markdown",
      "metadata": {
        "id": "JA1fMGYhz2QL",
        "colab_type": "text"
      },
      "source": [
        "Features + AvgPool + Classifier"
      ]
    },
    {
      "cell_type": "code",
      "metadata": {
        "id": "72oq7SlHzsfg",
        "colab_type": "code",
        "colab": {
          "base_uri": "https://localhost:8080/",
          "height": 34
        },
        "outputId": "7c8dfed7-7e57-4ecf-891e-ddb723784ce7"
      },
      "source": [
        "print(vgg.features[0])"
      ],
      "execution_count": 16,
      "outputs": [
        {
          "output_type": "stream",
          "text": [
            "Conv2d(3, 64, kernel_size=(3, 3), stride=(1, 1), padding=(1, 1))\n"
          ],
          "name": "stdout"
        }
      ]
    },
    {
      "cell_type": "code",
      "metadata": {
        "id": "i4MzIh5-0k6d",
        "colab_type": "code",
        "colab": {
          "base_uri": "https://localhost:8080/",
          "height": 34
        },
        "outputId": "00f79ef0-310f-4666-95ec-61a3c7a3d69d"
      },
      "source": [
        "print(vgg.classifier[6])"
      ],
      "execution_count": 17,
      "outputs": [
        {
          "output_type": "stream",
          "text": [
            "Linear(in_features=4096, out_features=1000, bias=True)\n"
          ],
          "name": "stdout"
        }
      ]
    },
    {
      "cell_type": "markdown",
      "metadata": {
        "id": "reU6cvrb00UU",
        "colab_type": "text"
      },
      "source": [
        "How to change number of classes in model (by defualt, 1000 - see last line of classifier). 2 ways:  \n",
        "*   Pass num_of_classes as argument to VGG\n",
        "*   Create own classifier (only last classifier)"
      ]
    },
    {
      "cell_type": "markdown",
      "metadata": {
        "id": "-2TK9fLD3Gzv",
        "colab_type": "text"
      },
      "source": [
        "We don't want VGG to instantiate so many unnecessary weights corresponding to the 10 classes. So change even input_features, (only output not sufficient)."
      ]
    },
    {
      "cell_type": "code",
      "metadata": {
        "id": "odVgIEJO0pfS",
        "colab_type": "code",
        "colab": {
          "base_uri": "https://localhost:8080/",
          "height": 54
        },
        "outputId": "0f7dc24d-5fda-409d-d893-a4b824289cab"
      },
      "source": [
        "final_in_features = vgg.classifier[6].in_features\n",
        "mod_classifier = list(vgg.classifier.children())[:-1] # modified classifier: should have same number of inputs as actual classifier, but ouptut size we fix\n",
        "mod_classifier.extend([nn.Linear(final_in_features, num_classes)]) # extend all previous classifiers, then add our one to end\n",
        "print(mod_classifier)"
      ],
      "execution_count": 18,
      "outputs": [
        {
          "output_type": "stream",
          "text": [
            "[Linear(in_features=25088, out_features=4096, bias=True), ReLU(inplace=True), Dropout(p=0.5, inplace=False), Linear(in_features=4096, out_features=4096, bias=True), ReLU(inplace=True), Dropout(p=0.5, inplace=False), Linear(in_features=4096, out_features=10, bias=True)]\n"
          ],
          "name": "stdout"
        }
      ]
    },
    {
      "cell_type": "markdown",
      "metadata": {
        "id": "Cn5B3-_I16TS",
        "colab_type": "text"
      },
      "source": [
        "In-features remain 25088  \n",
        "Out-features is now 10"
      ]
    },
    {
      "cell_type": "code",
      "metadata": {
        "id": "kLfuvx141jm2",
        "colab_type": "code",
        "colab": {
          "base_uri": "https://localhost:8080/",
          "height": 1000
        },
        "outputId": "d43ef612-c438-4a67-bef7-0cc2ecf2ba49"
      },
      "source": [
        "vgg.classifier = nn.Sequential(*mod_classifier) # tell VGG to use the modified classifier\n",
        "print(vgg)"
      ],
      "execution_count": 19,
      "outputs": [
        {
          "output_type": "stream",
          "text": [
            "VGG(\n",
            "  (features): Sequential(\n",
            "    (0): Conv2d(3, 64, kernel_size=(3, 3), stride=(1, 1), padding=(1, 1))\n",
            "    (1): BatchNorm2d(64, eps=1e-05, momentum=0.1, affine=True, track_running_stats=True)\n",
            "    (2): ReLU(inplace=True)\n",
            "    (3): Conv2d(64, 64, kernel_size=(3, 3), stride=(1, 1), padding=(1, 1))\n",
            "    (4): BatchNorm2d(64, eps=1e-05, momentum=0.1, affine=True, track_running_stats=True)\n",
            "    (5): ReLU(inplace=True)\n",
            "    (6): MaxPool2d(kernel_size=2, stride=2, padding=0, dilation=1, ceil_mode=False)\n",
            "    (7): Conv2d(64, 128, kernel_size=(3, 3), stride=(1, 1), padding=(1, 1))\n",
            "    (8): BatchNorm2d(128, eps=1e-05, momentum=0.1, affine=True, track_running_stats=True)\n",
            "    (9): ReLU(inplace=True)\n",
            "    (10): Conv2d(128, 128, kernel_size=(3, 3), stride=(1, 1), padding=(1, 1))\n",
            "    (11): BatchNorm2d(128, eps=1e-05, momentum=0.1, affine=True, track_running_stats=True)\n",
            "    (12): ReLU(inplace=True)\n",
            "    (13): MaxPool2d(kernel_size=2, stride=2, padding=0, dilation=1, ceil_mode=False)\n",
            "    (14): Conv2d(128, 256, kernel_size=(3, 3), stride=(1, 1), padding=(1, 1))\n",
            "    (15): BatchNorm2d(256, eps=1e-05, momentum=0.1, affine=True, track_running_stats=True)\n",
            "    (16): ReLU(inplace=True)\n",
            "    (17): Conv2d(256, 256, kernel_size=(3, 3), stride=(1, 1), padding=(1, 1))\n",
            "    (18): BatchNorm2d(256, eps=1e-05, momentum=0.1, affine=True, track_running_stats=True)\n",
            "    (19): ReLU(inplace=True)\n",
            "    (20): Conv2d(256, 256, kernel_size=(3, 3), stride=(1, 1), padding=(1, 1))\n",
            "    (21): BatchNorm2d(256, eps=1e-05, momentum=0.1, affine=True, track_running_stats=True)\n",
            "    (22): ReLU(inplace=True)\n",
            "    (23): MaxPool2d(kernel_size=2, stride=2, padding=0, dilation=1, ceil_mode=False)\n",
            "    (24): Conv2d(256, 512, kernel_size=(3, 3), stride=(1, 1), padding=(1, 1))\n",
            "    (25): BatchNorm2d(512, eps=1e-05, momentum=0.1, affine=True, track_running_stats=True)\n",
            "    (26): ReLU(inplace=True)\n",
            "    (27): Conv2d(512, 512, kernel_size=(3, 3), stride=(1, 1), padding=(1, 1))\n",
            "    (28): BatchNorm2d(512, eps=1e-05, momentum=0.1, affine=True, track_running_stats=True)\n",
            "    (29): ReLU(inplace=True)\n",
            "    (30): Conv2d(512, 512, kernel_size=(3, 3), stride=(1, 1), padding=(1, 1))\n",
            "    (31): BatchNorm2d(512, eps=1e-05, momentum=0.1, affine=True, track_running_stats=True)\n",
            "    (32): ReLU(inplace=True)\n",
            "    (33): MaxPool2d(kernel_size=2, stride=2, padding=0, dilation=1, ceil_mode=False)\n",
            "    (34): Conv2d(512, 512, kernel_size=(3, 3), stride=(1, 1), padding=(1, 1))\n",
            "    (35): BatchNorm2d(512, eps=1e-05, momentum=0.1, affine=True, track_running_stats=True)\n",
            "    (36): ReLU(inplace=True)\n",
            "    (37): Conv2d(512, 512, kernel_size=(3, 3), stride=(1, 1), padding=(1, 1))\n",
            "    (38): BatchNorm2d(512, eps=1e-05, momentum=0.1, affine=True, track_running_stats=True)\n",
            "    (39): ReLU(inplace=True)\n",
            "    (40): Conv2d(512, 512, kernel_size=(3, 3), stride=(1, 1), padding=(1, 1))\n",
            "    (41): BatchNorm2d(512, eps=1e-05, momentum=0.1, affine=True, track_running_stats=True)\n",
            "    (42): ReLU(inplace=True)\n",
            "    (43): MaxPool2d(kernel_size=2, stride=2, padding=0, dilation=1, ceil_mode=False)\n",
            "  )\n",
            "  (avgpool): AdaptiveAvgPool2d(output_size=(7, 7))\n",
            "  (classifier): Sequential(\n",
            "    (0): Linear(in_features=25088, out_features=4096, bias=True)\n",
            "    (1): ReLU(inplace=True)\n",
            "    (2): Dropout(p=0.5, inplace=False)\n",
            "    (3): Linear(in_features=4096, out_features=4096, bias=True)\n",
            "    (4): ReLU(inplace=True)\n",
            "    (5): Dropout(p=0.5, inplace=False)\n",
            "    (6): Linear(in_features=4096, out_features=10, bias=True)\n",
            "  )\n",
            ")\n"
          ],
          "name": "stdout"
        }
      ]
    },
    {
      "cell_type": "code",
      "metadata": {
        "id": "ff0TwK5Z2HYc",
        "colab_type": "code",
        "colab": {}
      },
      "source": [
        ""
      ],
      "execution_count": 19,
      "outputs": []
    },
    {
      "cell_type": "markdown",
      "metadata": {
        "id": "PrqOKk4vPR5M",
        "colab_type": "text"
      },
      "source": [
        "# Train CIFAR10"
      ]
    },
    {
      "cell_type": "markdown",
      "metadata": {
        "id": "BZvh-8IePV3L",
        "colab_type": "text"
      },
      "source": [
        "Batch Size = 16 (ideal)"
      ]
    },
    {
      "cell_type": "code",
      "metadata": {
        "id": "CI3CZ2HMPVJP",
        "colab_type": "code",
        "colab": {}
      },
      "source": [
        "batch_size = 16\n",
        "\n",
        "trainloader = torch.utils.data.DataLoader(trainset, batch_size=batch_size, shuffle = True)\n",
        "testloader = torch.utils.data.DataLoader(testset, batch_size=batch_size, shuffle = False)"
      ],
      "execution_count": 40,
      "outputs": []
    },
    {
      "cell_type": "code",
      "metadata": {
        "id": "sA_owsGxPULr",
        "colab_type": "code",
        "colab": {}
      },
      "source": [
        "def evaluation(dataloader, model):\n",
        "  total, correct = 0, 0\n",
        "  for data in dataloader:\n",
        "    inputs, labels = data\n",
        "    inputs, labels = inputs.to(device), labels.to(device)\n",
        "    outputs = model(inputs)\n",
        "    _, pred = torch.max(outputs.data, 1) # index at which max value\n",
        "    total += labels.size(0)\n",
        "    correct += (pred == labels).sum().item()\n",
        "  return 100 * correct / total"
      ],
      "execution_count": 41,
      "outputs": []
    },
    {
      "cell_type": "markdown",
      "metadata": {
        "id": "EVlGIWdvQ6lS",
        "colab_type": "text"
      },
      "source": [
        "Note: Like previously our classifier doens't have the softmax layer, since that's taken care of by the loss function (nn.CrossEntropyLoss) that knows that there is a softmax at the end."
      ]
    },
    {
      "cell_type": "code",
      "metadata": {
        "id": "PmXLZ4RQQ1l3",
        "colab_type": "code",
        "colab": {}
      },
      "source": [
        "# Shift everything to gpu\n",
        "# model to gpu\n",
        "vgg = vgg.to(device)\n",
        "loss_fn = nn.CrossEntropyLoss()\n",
        "opt = optim.SGD(vgg.parameters(), lr = 0.05) # optimiser: stochastic grad desc"
      ],
      "execution_count": 42,
      "outputs": []
    },
    {
      "cell_type": "markdown",
      "metadata": {
        "id": "hyge1JMayUgP",
        "colab_type": "text"
      },
      "source": [
        "Loss: Cross Entropy  \n",
        "Strategy: Stochastic Gradient Descent   \n",
        "Optimizer: Vanilla (Optionally if you mention nesterov=True, it'll use NAG)  \n",
        "Activation function: ReLU (VGG uses this)  \n",
        "Regularisation: Not used here (can pass L2 to optim.SGD)"
      ]
    },
    {
      "cell_type": "markdown",
      "metadata": {
        "id": "LzwDgCQF0xae",
        "colab_type": "text"
      },
      "source": [
        "Other optimizers other than torch.optim.SGD which uses Vanilla:  \n",
        "torch.optim.Adagrad   \n",
        "torch.optim.Adam (what we used in LeNet)  \n",
        "torch.optim.RMSprop"
      ]
    },
    {
      "cell_type": "code",
      "metadata": {
        "id": "Rf4LvHqeRdjK",
        "colab_type": "code",
        "colab": {
          "base_uri": "https://localhost:8080/",
          "height": 422
        },
        "outputId": "174f781f-58ab-4363-8409-b07027fd7bb2"
      },
      "source": [
        "loss_epoch_arr = []\n",
        "max_epochs = 1\n",
        "\n",
        "n_iters = np.ceil(50000/batch_size)\n",
        "\n",
        "# usual learning loop\n",
        "for epoch in range(max_epochs):\n",
        "\n",
        "  for i, data in enumerate(trainloader, 0):\n",
        "\n",
        "    # forward pass\n",
        "    inputs, labels = data\n",
        "    inputs, labels = inputs.to(device), labels.to(device)\n",
        "\n",
        "    opt.zero_grad()\n",
        "\n",
        "    outputs = vgg(inputs)\n",
        "\n",
        "    # calculate loss\n",
        "    loss = loss_fn(outputs, labels)\n",
        "\n",
        "    # backward pass\n",
        "    loss.backward() # loss is just functions of those basic params (w, b) so loss.backward() means apply chain rule on loss w.r.t. w and b one step at a time\n",
        "\n",
        "    # Update params\n",
        "    opt.step()\n",
        "\n",
        "    del inputs, labels, outputs\n",
        "    torch.cuda.empty_cache() # empty cache and delete variables since they occupy very large space - very crucial to use less space for such large number of params\n",
        "\n",
        "    if i%100 == 0:\n",
        "      print(\"Iteration: %d/%d, Loss: %0.2f\" % (i, n_iters, loss.item()))\n",
        "\n",
        "  loss_epoch_arr.append(loss.item())\n",
        "\n",
        "  print('Epoch: %d/%d, Test acc = %0.2f, Train acc = %0.2f'%(epoch, max_epochs,evaluation(testloader, vgg), evaluation(trainloader, vgg)))\n",
        "  \n",
        "  plt.plot(loss_epoch_arr)\n",
        "  plt.show()"
      ],
      "execution_count": null,
      "outputs": [
        {
          "output_type": "stream",
          "text": [
            "Iteration: 0/3125, Loss: 2.59\n",
            "Iteration: 100/3125, Loss: 2.20\n",
            "Iteration: 200/3125, Loss: 2.04\n",
            "Iteration: 300/3125, Loss: 2.14\n",
            "Iteration: 400/3125, Loss: 2.45\n",
            "Iteration: 500/3125, Loss: 2.37\n",
            "Iteration: 600/3125, Loss: 2.40\n",
            "Iteration: 700/3125, Loss: 2.26\n",
            "Iteration: 800/3125, Loss: 2.18\n",
            "Iteration: 900/3125, Loss: 2.02\n",
            "Iteration: 1000/3125, Loss: 2.20\n",
            "Iteration: 1100/3125, Loss: 2.30\n",
            "Iteration: 1200/3125, Loss: 2.27\n",
            "Iteration: 1300/3125, Loss: 2.21\n",
            "Iteration: 1400/3125, Loss: 2.34\n",
            "Iteration: 1500/3125, Loss: 2.05\n",
            "Iteration: 1600/3125, Loss: 1.94\n",
            "Iteration: 1700/3125, Loss: 1.93\n",
            "Iteration: 1800/3125, Loss: 1.99\n",
            "Iteration: 1900/3125, Loss: 1.99\n",
            "Iteration: 2000/3125, Loss: 1.88\n",
            "Iteration: 2100/3125, Loss: 2.01\n",
            "Iteration: 2200/3125, Loss: 2.04\n"
          ],
          "name": "stdout"
        }
      ]
    },
    {
      "cell_type": "code",
      "metadata": {
        "id": "NDk92ewLTiI1",
        "colab_type": "code",
        "colab": {}
      },
      "source": [
        ""
      ],
      "execution_count": null,
      "outputs": []
    },
    {
      "cell_type": "markdown",
      "metadata": {
        "id": "IEyRfhsJZBDa",
        "colab_type": "text"
      },
      "source": [
        "# Freeze layers of Convolutional Neural Network (Pre-trained models)"
      ]
    },
    {
      "cell_type": "markdown",
      "metadata": {
        "id": "Y41etRv9ZQoJ",
        "colab_type": "text"
      },
      "source": [
        "138 million parameters in model + 500 images per class - looong time! So use pre-trained"
      ]
    },
    {
      "cell_type": "code",
      "metadata": {
        "id": "OTMSc8eWZFum",
        "colab_type": "code",
        "colab": {}
      },
      "source": [
        "batch_size = 16\n",
        "\n",
        "trainloader = torch.utils.data.DataLoader(trainset, batch_size=batch_size, shuffle = True)\n",
        "testloader = torch.utils.data.DataLoader(testset, batch_size=batch_size, shuffle = False)"
      ],
      "execution_count": null,
      "outputs": []
    },
    {
      "cell_type": "code",
      "metadata": {
        "id": "U404nB74Z3ip",
        "colab_type": "code",
        "colab": {}
      },
      "source": [
        "# pre-trained contains not only model architecture, but even optimised weights and parameters. It was trained on the \"imagenet problem\"\n",
        "vgg = models.vgg16_bn(pretrained = True) # pretrained = true"
      ],
      "execution_count": null,
      "outputs": []
    },
    {
      "cell_type": "markdown",
      "metadata": {
        "id": "bdyUYr6DaSqF",
        "colab_type": "text"
      },
      "source": [
        "Not only instantiating the different layers but downloading the different params as well! 138 million params"
      ]
    },
    {
      "cell_type": "code",
      "metadata": {
        "id": "QO6EcwxCZ8yw",
        "colab_type": "code",
        "colab": {}
      },
      "source": [
        "for param in vgg.parameters():\n",
        "  param.requires_grad = False\n",
        "# i.e. if doing backprop, don't go and update weigths, they are already good"
      ],
      "execution_count": null,
      "outputs": []
    },
    {
      "cell_type": "code",
      "metadata": {
        "id": "7FS11SEZUi7N",
        "colab_type": "code",
        "colab": {}
      },
      "source": [
        "# Method 1 to add own classifier layer\n",
        "# final_in_features = vgg.classifier[6].in_features # the number of input features of 6th layer in model's classifier\n",
        "# mod_classifier = list(vgg.classifier.children())[:-1]\n",
        "# mod_classifier.extend(nn.Linear(final_in_features, num_classes))\n",
        "# print(mod_classifier)"
      ],
      "execution_count": null,
      "outputs": []
    },
    {
      "cell_type": "code",
      "metadata": {
        "id": "qNuBtYNRVeH7",
        "colab_type": "code",
        "colab": {}
      },
      "source": [
        "# Method 2 to add own classifier layer\n",
        "final_in_features = vgg.classifier[6].in_features\n",
        "# learn only params of last layer (requires_grad = True), all other params - use those already trained for Image net only\n",
        "vgg.classifier[6] = nn.Linear(final_in_features, num_classes)"
      ],
      "execution_count": null,
      "outputs": []
    },
    {
      "cell_type": "markdown",
      "metadata": {
        "id": "GoCl98rmWMOA",
        "colab_type": "text"
      },
      "source": [
        "Which layer requires update/undergoes learning of params"
      ]
    },
    {
      "cell_type": "code",
      "metadata": {
        "id": "L9KB-pqEWi-j",
        "colab_type": "code",
        "colab": {}
      },
      "source": [
        "for param in vgg.parameters():\n",
        "  if param.requires_grad:\n",
        "    print(param.shape)"
      ],
      "execution_count": null,
      "outputs": []
    },
    {
      "cell_type": "markdown",
      "metadata": {
        "id": "U-19SkEcWpJS",
        "colab_type": "text"
      },
      "source": [
        "Note without the if statement would have showed all layers. But now, shows only last layer of classifier - the only layer params to be learnt"
      ]
    },
    {
      "cell_type": "code",
      "metadata": {
        "id": "OaKL2UnvWQnB",
        "colab_type": "code",
        "colab": {}
      },
      "source": [
        "vgg = vgg.to(device)\n",
        "loss_fn = nn.CrossEntropyLoss()\n",
        "opt = optim.SGD(vgg.parameters(), lr = 0.05)"
      ],
      "execution_count": null,
      "outputs": []
    },
    {
      "cell_type": "code",
      "metadata": {
        "id": "WVeBMD6TVEWB",
        "colab_type": "code",
        "colab": {}
      },
      "source": [
        "vgg = vgg.to(device)"
      ],
      "execution_count": null,
      "outputs": []
    },
    {
      "cell_type": "markdown",
      "metadata": {
        "id": "PrPfwPeXazjG",
        "colab_type": "text"
      },
      "source": [
        "Since current downloaded model trained for ImageNet that has 1000 classes, while ours has 100 classes; alter this layer the same way."
      ]
    },
    {
      "cell_type": "markdown",
      "metadata": {
        "id": "eJDtZnA0W7qz",
        "colab_type": "text"
      },
      "source": [
        "Once requires_grad is false => number of computations also decreases"
      ]
    },
    {
      "cell_type": "code",
      "metadata": {
        "colab_type": "code",
        "id": "OO17vZAZW3ry",
        "colab": {}
      },
      "source": [
        "loss_epoch_arr = []\n",
        "max_epochs = 1\n",
        "\n",
        "n_iters = np.ceil(50000/batch_size)\n",
        "\n",
        "# usual learning loop\n",
        "for epoch in range(max_epochs):\n",
        "\n",
        "  for i, data in enumerate(trainloader, 0):\n",
        "\n",
        "    # forward pass\n",
        "    inputs, labels = data\n",
        "    inputs, labels = inputs.to(device), labels.to(device)\n",
        "\n",
        "    opt.zero_grad()\n",
        "\n",
        "    outputs = vgg(inputs)\n",
        "    loss = loss_fn(outputs, labels)\n",
        "\n",
        "    # backward pass\n",
        "    loss.backward() # loss is just functions of those basic params (w, b) so loss.backward() means apply chain rule on loss w.r.t. w and b one step at a time\n",
        "    opt.step() # update paramas\n",
        "\n",
        "    del inputs, labels, outputs\n",
        "    torch.cuda.empty_cache() # empty cache and delete variables since they occupy very large space - very crucial to use less space for such large number of params\n",
        "\n",
        "    if i%100 == 0:\n",
        "      print(\"Iteration: %d/%d, Loss: %0.2f\" % (i, n_iters, loss.item()))\n",
        "\n",
        "  loss_epoch_arr.append(loss.item())\n",
        "\n",
        "  print(\"Epoch: %d/%d, Test acc = %0.2f, Train acc = %0.2f\")%(\n",
        "      epoch, max_epochs,\n",
        "      evaluation(testloader, vgg), evaluation(trainloader, vgg))\n",
        "  \n",
        "  plt.plot(loss_epoch_arr)\n",
        "  plt.show()"
      ],
      "execution_count": null,
      "outputs": []
    },
    {
      "cell_type": "markdown",
      "metadata": {
        "id": "BaE76og5eRp8",
        "colab_type": "text"
      },
      "source": [
        "Much much lesser time this time"
      ]
    },
    {
      "cell_type": "markdown",
      "metadata": {
        "id": "-eQbQba9Xoww",
        "colab_type": "text"
      },
      "source": [
        "# Checkpointing"
      ]
    },
    {
      "cell_type": "markdown",
      "metadata": {
        "id": "Usx3rrsdXqjd",
        "colab_type": "text"
      },
      "source": [
        "Save all model params so that what's learnt isn't lost."
      ]
    },
    {
      "cell_type": "code",
      "metadata": {
        "id": "LTfIl0FYXnv1",
        "colab_type": "code",
        "colab": {}
      },
      "source": [
        "import copy"
      ],
      "execution_count": null,
      "outputs": []
    },
    {
      "cell_type": "code",
      "metadata": {
        "id": "SFLuHrTPXz6E",
        "colab_type": "code",
        "colab": {}
      },
      "source": [
        "loss_epoch_arr = []\n",
        "max_epochs = 1\n",
        "\n",
        "n_iters = np.ceil(50000/batch_size)\n",
        "\n",
        "# keeps record of min loss\n",
        "min_loss = 1000\n",
        "\n",
        "for epoch in range(max_epochs):\n",
        "\n",
        "  for i, data in enumerate(trainloader, 0):\n",
        "\n",
        "    inputs, labels = data\n",
        "    inputs, labels = inputs.to(device), labels.to(device)\n",
        "\n",
        "    opt.zero_grad()\n",
        "\n",
        "    outputs = vgg(inputs)\n",
        "    loss = loss_fn(outputs, labels)\n",
        "\n",
        "    loss.backward() \n",
        "    opt.step() \n",
        "\n",
        "    if loss.item() < min_loss: # loss.item is the current loss\n",
        "      min_loss = loss.item() \n",
        "      best_model = copy.deepcopy(vgg.state_dict()) # state_dict has all params of model\n",
        "      print(\"Min loss %0.2f\" % min_loss)\n",
        "\n",
        "    if i%100 == 0:\n",
        "      print(\"Iteration: %d/%d, Loss: %0.2f\" % (i, n_iters, loss.item()))\n",
        "\n",
        "    del inputs, labels, outputs\n",
        "    torch.cuda.empty_cache()\n",
        "\n",
        "\n",
        "  loss_epoch_arr.append(loss.item())\n",
        "\n",
        "  print(\"Epoch: %d/%d, Test acc = %0.2f, Train acc = %0.2f\")%(\n",
        "      epoch, max_epochs,\n",
        "      evaluation(testloader, vgg), evaluation(trainloader, vgg))\n",
        "  \n",
        "  plt.plot(loss_epoch_arr)\n",
        "  plt.show()"
      ],
      "execution_count": null,
      "outputs": []
    },
    {
      "cell_type": "code",
      "metadata": {
        "id": "UBobbNt1e_RM",
        "colab_type": "code",
        "colab": {}
      },
      "source": [
        "# i.e. overriding the \"vgg\" variable with the best model (parameters), since you'll be using this variable to access the model henceforth\n",
        "vgg.load_state_dict(best_model)\n",
        "print(evaluation(trainloader, vgg), evaluation(testLoader, vgg))"
      ],
      "execution_count": null,
      "outputs": []
    }
  ]
}