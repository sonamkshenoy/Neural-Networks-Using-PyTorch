{
  "nbformat": 4,
  "nbformat_minor": 0,
  "metadata": {
    "colab": {
      "name": "CNN And LeNet.ipynb",
      "provenance": [],
      "collapsed_sections": [
        "fd_g0cyAm4JP"
      ],
      "authorship_tag": "ABX9TyMjExtQGP9a3Adug7yxiNzz",
      "include_colab_link": true
    },
    "kernelspec": {
      "name": "python3",
      "display_name": "Python 3"
    },
    "widgets": {
      "application/vnd.jupyter.widget-state+json": {
        "009fe5720d4a440a9d26453120bddd11": {
          "model_module": "@jupyter-widgets/controls",
          "model_name": "HBoxModel",
          "state": {
            "_view_name": "HBoxView",
            "_dom_classes": [],
            "_model_name": "HBoxModel",
            "_view_module": "@jupyter-widgets/controls",
            "_model_module_version": "1.5.0",
            "_view_count": null,
            "_view_module_version": "1.5.0",
            "box_style": "",
            "layout": "IPY_MODEL_1a88500f7cbf43cebf84218d5c0254c3",
            "_model_module": "@jupyter-widgets/controls",
            "children": [
              "IPY_MODEL_36f1cce148a141b198a655d060067a29",
              "IPY_MODEL_4b0fc217394f4a698582c74e18897106"
            ]
          }
        },
        "1a88500f7cbf43cebf84218d5c0254c3": {
          "model_module": "@jupyter-widgets/base",
          "model_name": "LayoutModel",
          "state": {
            "_view_name": "LayoutView",
            "grid_template_rows": null,
            "right": null,
            "justify_content": null,
            "_view_module": "@jupyter-widgets/base",
            "overflow": null,
            "_model_module_version": "1.2.0",
            "_view_count": null,
            "flex_flow": null,
            "width": null,
            "min_width": null,
            "border": null,
            "align_items": null,
            "bottom": null,
            "_model_module": "@jupyter-widgets/base",
            "top": null,
            "grid_column": null,
            "overflow_y": null,
            "overflow_x": null,
            "grid_auto_flow": null,
            "grid_area": null,
            "grid_template_columns": null,
            "flex": null,
            "_model_name": "LayoutModel",
            "justify_items": null,
            "grid_row": null,
            "max_height": null,
            "align_content": null,
            "visibility": null,
            "align_self": null,
            "height": null,
            "min_height": null,
            "padding": null,
            "grid_auto_rows": null,
            "grid_gap": null,
            "max_width": null,
            "order": null,
            "_view_module_version": "1.2.0",
            "grid_template_areas": null,
            "object_position": null,
            "object_fit": null,
            "grid_auto_columns": null,
            "margin": null,
            "display": null,
            "left": null
          }
        },
        "36f1cce148a141b198a655d060067a29": {
          "model_module": "@jupyter-widgets/controls",
          "model_name": "IntProgressModel",
          "state": {
            "_view_name": "ProgressView",
            "style": "IPY_MODEL_d4130e26e031468aab143943794ce690",
            "_dom_classes": [],
            "description": "",
            "_model_name": "IntProgressModel",
            "bar_style": "info",
            "max": 1,
            "_view_module": "@jupyter-widgets/controls",
            "_model_module_version": "1.5.0",
            "value": 1,
            "_view_count": null,
            "_view_module_version": "1.5.0",
            "orientation": "horizontal",
            "min": 0,
            "description_tooltip": null,
            "_model_module": "@jupyter-widgets/controls",
            "layout": "IPY_MODEL_51a4b00a02244347b4335bda2e2c221d"
          }
        },
        "4b0fc217394f4a698582c74e18897106": {
          "model_module": "@jupyter-widgets/controls",
          "model_name": "HTMLModel",
          "state": {
            "_view_name": "HTMLView",
            "style": "IPY_MODEL_d1bc273bc35f4eb090c05b85aeb91f33",
            "_dom_classes": [],
            "description": "",
            "_model_name": "HTMLModel",
            "placeholder": "​",
            "_view_module": "@jupyter-widgets/controls",
            "_model_module_version": "1.5.0",
            "value": " 170500096/? [00:30&lt;00:00, 17793805.57it/s]",
            "_view_count": null,
            "_view_module_version": "1.5.0",
            "description_tooltip": null,
            "_model_module": "@jupyter-widgets/controls",
            "layout": "IPY_MODEL_7c6f46bdb6294afcbee48a2e196d2a78"
          }
        },
        "d4130e26e031468aab143943794ce690": {
          "model_module": "@jupyter-widgets/controls",
          "model_name": "ProgressStyleModel",
          "state": {
            "_view_name": "StyleView",
            "_model_name": "ProgressStyleModel",
            "description_width": "initial",
            "_view_module": "@jupyter-widgets/base",
            "_model_module_version": "1.5.0",
            "_view_count": null,
            "_view_module_version": "1.2.0",
            "bar_color": null,
            "_model_module": "@jupyter-widgets/controls"
          }
        },
        "51a4b00a02244347b4335bda2e2c221d": {
          "model_module": "@jupyter-widgets/base",
          "model_name": "LayoutModel",
          "state": {
            "_view_name": "LayoutView",
            "grid_template_rows": null,
            "right": null,
            "justify_content": null,
            "_view_module": "@jupyter-widgets/base",
            "overflow": null,
            "_model_module_version": "1.2.0",
            "_view_count": null,
            "flex_flow": null,
            "width": null,
            "min_width": null,
            "border": null,
            "align_items": null,
            "bottom": null,
            "_model_module": "@jupyter-widgets/base",
            "top": null,
            "grid_column": null,
            "overflow_y": null,
            "overflow_x": null,
            "grid_auto_flow": null,
            "grid_area": null,
            "grid_template_columns": null,
            "flex": null,
            "_model_name": "LayoutModel",
            "justify_items": null,
            "grid_row": null,
            "max_height": null,
            "align_content": null,
            "visibility": null,
            "align_self": null,
            "height": null,
            "min_height": null,
            "padding": null,
            "grid_auto_rows": null,
            "grid_gap": null,
            "max_width": null,
            "order": null,
            "_view_module_version": "1.2.0",
            "grid_template_areas": null,
            "object_position": null,
            "object_fit": null,
            "grid_auto_columns": null,
            "margin": null,
            "display": null,
            "left": null
          }
        },
        "d1bc273bc35f4eb090c05b85aeb91f33": {
          "model_module": "@jupyter-widgets/controls",
          "model_name": "DescriptionStyleModel",
          "state": {
            "_view_name": "StyleView",
            "_model_name": "DescriptionStyleModel",
            "description_width": "",
            "_view_module": "@jupyter-widgets/base",
            "_model_module_version": "1.5.0",
            "_view_count": null,
            "_view_module_version": "1.2.0",
            "_model_module": "@jupyter-widgets/controls"
          }
        },
        "7c6f46bdb6294afcbee48a2e196d2a78": {
          "model_module": "@jupyter-widgets/base",
          "model_name": "LayoutModel",
          "state": {
            "_view_name": "LayoutView",
            "grid_template_rows": null,
            "right": null,
            "justify_content": null,
            "_view_module": "@jupyter-widgets/base",
            "overflow": null,
            "_model_module_version": "1.2.0",
            "_view_count": null,
            "flex_flow": null,
            "width": null,
            "min_width": null,
            "border": null,
            "align_items": null,
            "bottom": null,
            "_model_module": "@jupyter-widgets/base",
            "top": null,
            "grid_column": null,
            "overflow_y": null,
            "overflow_x": null,
            "grid_auto_flow": null,
            "grid_area": null,
            "grid_template_columns": null,
            "flex": null,
            "_model_name": "LayoutModel",
            "justify_items": null,
            "grid_row": null,
            "max_height": null,
            "align_content": null,
            "visibility": null,
            "align_self": null,
            "height": null,
            "min_height": null,
            "padding": null,
            "grid_auto_rows": null,
            "grid_gap": null,
            "max_width": null,
            "order": null,
            "_view_module_version": "1.2.0",
            "grid_template_areas": null,
            "object_position": null,
            "object_fit": null,
            "grid_auto_columns": null,
            "margin": null,
            "display": null,
            "left": null
          }
        }
      }
    },
    "accelerator": "GPU"
  },
  "cells": [
    {
      "cell_type": "markdown",
      "metadata": {
        "id": "view-in-github",
        "colab_type": "text"
      },
      "source": [
        "<a href=\"https://colab.research.google.com/github/sonamkshenoy/Neural-Networks-Using-PyTorch/blob/master/CNN_And_LeNet.ipynb\" target=\"_parent\"><img src=\"https://colab.research.google.com/assets/colab-badge.svg\" alt=\"Open In Colab\"/></a>"
      ]
    },
    {
      "cell_type": "markdown",
      "metadata": {
        "id": "0_K6z6RNZ3iT",
        "colab_type": "text"
      },
      "source": [
        "## Outline\n",
        "\n",
        "\n",
        "*   Downloading dataset (CIFAR10)\n",
        "*   Dataloader in torch.utils\n",
        "*   Visualising images\n",
        "*   Single and multiple convolutional layers\n",
        "*   LeNet\n",
        "*   Training LeNet\n",
        "*   Training on GPU\n",
        "*   Simple visualisation\n",
        "*   Exercises\n",
        "\n"
      ]
    },
    {
      "cell_type": "code",
      "metadata": {
        "id": "T1lUEQ1MZwzX",
        "colab_type": "code",
        "colab": {}
      },
      "source": [
        "import torch\n",
        "import matplotlib.pyplot as plt\n",
        "import numpy as np"
      ],
      "execution_count": null,
      "outputs": []
    },
    {
      "cell_type": "markdown",
      "metadata": {
        "id": "E6mv367lbBuM",
        "colab_type": "text"
      },
      "source": [
        "# Data loading"
      ]
    },
    {
      "cell_type": "code",
      "metadata": {
        "id": "ktHzCiWxbBBs",
        "colab_type": "code",
        "colab": {
          "base_uri": "https://localhost:8080/",
          "height": 105,
          "referenced_widgets": [
            "009fe5720d4a440a9d26453120bddd11",
            "1a88500f7cbf43cebf84218d5c0254c3",
            "36f1cce148a141b198a655d060067a29",
            "4b0fc217394f4a698582c74e18897106",
            "d4130e26e031468aab143943794ce690",
            "51a4b00a02244347b4335bda2e2c221d",
            "d1bc273bc35f4eb090c05b85aeb91f33",
            "7c6f46bdb6294afcbee48a2e196d2a78"
          ]
        },
        "outputId": "704dad07-e3ed-430e-b294-0ee707dc59f5"
      },
      "source": [
        "import torchvision\n",
        "import torchvision.transforms as transforms\n",
        "# to apply functions when downloading only; similar to \"map\" (here, converts each image \"ToTensor\" while downloading so that can use PyTorch tensors on them)\n",
        "trainset = torchvision.datasets.CIFAR10(root='./data', train=True, download = True, transform = transforms.ToTensor())"
      ],
      "execution_count": null,
      "outputs": [
        {
          "output_type": "stream",
          "text": [
            "Downloading https://www.cs.toronto.edu/~kriz/cifar-10-python.tar.gz to ./data/cifar-10-python.tar.gz\n"
          ],
          "name": "stdout"
        },
        {
          "output_type": "display_data",
          "data": {
            "application/vnd.jupyter.widget-view+json": {
              "model_id": "009fe5720d4a440a9d26453120bddd11",
              "version_minor": 0,
              "version_major": 2
            },
            "text/plain": [
              "HBox(children=(IntProgress(value=1, bar_style='info', max=1), HTML(value='')))"
            ]
          },
          "metadata": {
            "tags": []
          }
        },
        {
          "output_type": "stream",
          "text": [
            "Extracting ./data/cifar-10-python.tar.gz to ./data\n"
          ],
          "name": "stdout"
        }
      ]
    },
    {
      "cell_type": "code",
      "metadata": {
        "id": "5LM91vjXbh2v",
        "colab_type": "code",
        "colab": {}
      },
      "source": [
        "# Dataset has labels in terms of indices\n",
        "classes = ['plane', 'car', 'bird', 'cat', 'deer', 'dog', 'frog', 'horse', 'ship', 'truck']"
      ],
      "execution_count": null,
      "outputs": []
    },
    {
      "cell_type": "code",
      "metadata": {
        "id": "ziYMGzZHfb1c",
        "colab_type": "code",
        "colab": {}
      },
      "source": [
        "trainloader = torch.utils.data.DataLoader(trainset, batch_size = 4, shuffle = True)"
      ],
      "execution_count": null,
      "outputs": []
    },
    {
      "cell_type": "code",
      "metadata": {
        "id": "bdOihIrrfpMD",
        "colab_type": "code",
        "colab": {
          "base_uri": "https://localhost:8080/",
          "height": 72
        },
        "outputId": "40e47fae-1b59-415b-f3a1-4f88f4d246ff"
      },
      "source": [
        "dataiter = iter(trainloader)\n",
        "\n",
        "# Running each time accesses the next batch\n",
        "images, labels = dataiter.next()\n",
        "\n",
        "print(images.shape)\n",
        "\n",
        "print(images[0].shape)\n",
        "print(labels[0].item()) # Can access till labels[3] only since batch_size = 4"
      ],
      "execution_count": null,
      "outputs": [
        {
          "output_type": "stream",
          "text": [
            "torch.Size([4, 3, 32, 32])\n",
            "torch.Size([3, 32, 32])\n",
            "2\n"
          ],
          "name": "stdout"
        }
      ]
    },
    {
      "cell_type": "markdown",
      "metadata": {
        "id": "uWsnTkVsgGua",
        "colab_type": "text"
      },
      "source": [
        "# Visualise data"
      ]
    },
    {
      "cell_type": "code",
      "metadata": {
        "id": "9Ao2CekSgABC",
        "colab_type": "code",
        "colab": {
          "base_uri": "https://localhost:8080/",
          "height": 35
        },
        "outputId": "9d1489d8-98c2-4398-82ab-ed0b432ef704"
      },
      "source": [
        "# Access first image\n",
        "img = images[0] # 3,32,32 (32x32 with 3 channels)\n",
        "print(type(img))"
      ],
      "execution_count": null,
      "outputs": [
        {
          "output_type": "stream",
          "text": [
            "<class 'torch.Tensor'>\n"
          ],
          "name": "stdout"
        }
      ]
    },
    {
      "cell_type": "code",
      "metadata": {
        "id": "FXugCnu6ihau",
        "colab_type": "code",
        "colab": {
          "base_uri": "https://localhost:8080/",
          "height": 35
        },
        "outputId": "1efefe1c-1574-4bbb-b5b6-79a419bf4c45"
      },
      "source": [
        "npimg = img.numpy()\n",
        "print(npimg.shape)"
      ],
      "execution_count": null,
      "outputs": [
        {
          "output_type": "stream",
          "text": [
            "(3, 32, 32)\n"
          ],
          "name": "stdout"
        }
      ]
    },
    {
      "cell_type": "code",
      "metadata": {
        "id": "-UoUJ_NYizDH",
        "colab_type": "code",
        "colab": {
          "base_uri": "https://localhost:8080/",
          "height": 35
        },
        "outputId": "fe6915b7-b52f-4984-e743-618dfe96d7cd"
      },
      "source": [
        "# Just shifting axes such that order is (x,y,z)\n",
        "npimg = np.transpose(npimg, (1,2,0)) # z (3 channels) was the first label (0), place it at last\n",
        "print(npimg.shape)"
      ],
      "execution_count": null,
      "outputs": [
        {
          "output_type": "stream",
          "text": [
            "(32, 32, 3)\n"
          ],
          "name": "stdout"
        }
      ]
    },
    {
      "cell_type": "code",
      "metadata": {
        "id": "pbx4mVA5i8XL",
        "colab_type": "code",
        "colab": {
          "base_uri": "https://localhost:8080/",
          "height": 105
        },
        "outputId": "8ebd1956-d979-4aaa-c2bd-eaf8fb106ef6"
      },
      "source": [
        "plt.figure(figsize = (1,1))\n",
        "plt.imshow(npimg) # To plot images in Matplotlib\n",
        "plt.show()"
      ],
      "execution_count": null,
      "outputs": [
        {
          "output_type": "display_data",
          "data": {
            "image/png": "[encoded data removed]",
            "text/plain": [
              "<Figure size 72x72 with 1 Axes>"
            ]
          },
          "metadata": {
            "tags": [],
            "needs_background": "light"
          }
        }
      ]
    },
    {
      "cell_type": "markdown",
      "metadata": {
        "id": "J7eeMi5ljVN_",
        "colab_type": "text"
      },
      "source": [
        "Remember the label of images[0] was = 2 (bird)!"
      ]
    },
    {
      "cell_type": "code",
      "metadata": {
        "id": "3__gZaqqjMPB",
        "colab_type": "code",
        "colab": {}
      },
      "source": [
        "def imshow(img):\n",
        "  npimg = img.numpy()\n",
        "  plt.imshow(np.transpose(npimg, (1,2,0)))\n",
        "  plt.show()"
      ],
      "execution_count": null,
      "outputs": []
    },
    {
      "cell_type": "code",
      "metadata": {
        "id": "kkYXbpkuj2Ba",
        "colab_type": "code",
        "colab": {
          "base_uri": "https://localhost:8080/",
          "height": 156
        },
        "outputId": "91660600-4655-4c18-aa6c-bcfcbdbe5b12"
      },
      "source": [
        "imshow(torchvision.utils.make_grid(images))\n",
        "print(' '.join(classes[labels[j]] for j in range(4)))"
      ],
      "execution_count": null,
      "outputs": [
        {
          "output_type": "display_data",
          "data": {
            "image/png": "[encoded data removed]",
            "text/plain": [
              "<Figure size 432x288 with 1 Axes>"
            ]
          },
          "metadata": {
            "tags": [],
            "needs_background": "light"
          }
        },
        {
          "output_type": "stream",
          "text": [
            "bird car truck cat\n"
          ],
          "name": "stdout"
        }
      ]
    },
    {
      "cell_type": "markdown",
      "metadata": {
        "id": "fd_g0cyAm4JP",
        "colab_type": "text"
      },
      "source": [
        "# Single Convolutional Layer"
      ]
    },
    {
      "cell_type": "code",
      "metadata": {
        "id": "T2MENPEekCFx",
        "colab_type": "code",
        "colab": {}
      },
      "source": [
        "import torch.nn as nn"
      ],
      "execution_count": null,
      "outputs": []
    },
    {
      "cell_type": "code",
      "metadata": {
        "id": "uM8Dj8p0nHbd",
        "colab_type": "code",
        "colab": {}
      },
      "source": [
        "# Inherit class FirstCNN from nn.Module\n",
        "class FirstCNN(nn.Module):\n",
        "\n",
        "  def __init__(self):\n",
        "    super(FirstCNN, self).__init__()\n",
        "    # Convolution translates in 2 directions only though image tensor is 4D - including batch size (hence Conv2d)\n",
        "    # (channels in each image, number of output channels, kernel size)\n",
        "    self.conv1 = nn.Conv2d(3, 16, 3) \n",
        "    # padding = (1,1) => output size = 32 x 32 \n",
        "    # stride = (2,2) => output size = 16 x 16\n",
        "\n",
        "  def forward(self, x):\n",
        "    # forward propagates the input x thus training the weights of above network (no backpropagation)\n",
        "    x = self.conv1(x)\n",
        "    return x"
      ],
      "execution_count": null,
      "outputs": []
    },
    {
      "cell_type": "code",
      "metadata": {
        "id": "zEMdlIBFnfpg",
        "colab_type": "code",
        "colab": {}
      },
      "source": [
        "net = FirstCNN() # calls __init__()"
      ],
      "execution_count": null,
      "outputs": []
    },
    {
      "cell_type": "code",
      "metadata": {
        "id": "osqrtgD9oUYq",
        "colab_type": "code",
        "colab": {
          "base_uri": "https://localhost:8080/",
          "height": 35
        },
        "outputId": "11786d4b-8428-49ee-8261-15a15847e530"
      },
      "source": [
        "out = net(images) # this parameter passed to forward() as x\n",
        "\n",
        "# Shape of output of first layer  \n",
        "# (batch size, #channels, width - x cood, height - y cood)  \n",
        "out.shape"
      ],
      "execution_count": null,
      "outputs": [
        {
          "output_type": "execute_result",
          "data": {
            "text/plain": [
              "torch.Size([4, 16, 30, 30])"
            ]
          },
          "metadata": {
            "tags": []
          },
          "execution_count": 58
        }
      ]
    },
    {
      "cell_type": "code",
      "metadata": {
        "id": "9HzSwb3roXrJ",
        "colab_type": "code",
        "colab": {
          "base_uri": "https://localhost:8080/",
          "height": 53
        },
        "outputId": "dc783a5d-d01e-42c5-fa80-4e4dd7fd825b"
      },
      "source": [
        "# all the parameters of the model\n",
        "for param in net.parameters():\n",
        "  print(param.shape)"
      ],
      "execution_count": null,
      "outputs": [
        {
          "output_type": "stream",
          "text": [
            "torch.Size([16, 3, 3, 3])\n",
            "torch.Size([16])\n"
          ],
          "name": "stdout"
        }
      ]
    },
    {
      "cell_type": "markdown",
      "metadata": {
        "id": "oh-XrZRGqwq8",
        "colab_type": "text"
      },
      "source": [
        "First: Wts of (#channels/kernels, input channel depth, kernel width, kernel height)   \n",
        "Second: Biases of each of 16 neurons (kernel)"
      ]
    },
    {
      "cell_type": "code",
      "metadata": {
        "id": "EjoKmDC-qoPh",
        "colab_type": "code",
        "colab": {
          "base_uri": "https://localhost:8080/",
          "height": 35
        },
        "outputId": "c04f5e28-2fff-4e5f-8238-e8fdf2ae462c"
      },
      "source": [
        "# Plot just one channel\n",
        "# So from torch.Size([4, 16, 30, 30]), extracting 1st image's, first layer (entire width and height) \n",
        "# out is output of 1st layer\n",
        "out1 = out[0,0,:,:].detach().numpy()\n",
        "print(out1.shape)"
      ],
      "execution_count": null,
      "outputs": [
        {
          "output_type": "stream",
          "text": [
            "(30, 30)\n"
          ],
          "name": "stdout"
        }
      ]
    },
    {
      "cell_type": "code",
      "metadata": {
        "id": "wj8kCotcs2vG",
        "colab_type": "code",
        "colab": {
          "base_uri": "https://localhost:8080/",
          "height": 266
        },
        "outputId": "119a335a-a7f0-4570-b091-39f4e40d0516"
      },
      "source": [
        "plt.imshow(out[0,0,:,:].detach().numpy())\n",
        "plt.show()"
      ],
      "execution_count": null,
      "outputs": [
        {
          "output_type": "display_data",
          "data": {
            "image/png": "[encoded data removed]",
            "text/plain": [
              "<Figure size 432x288 with 1 Axes>"
            ]
          },
          "metadata": {
            "tags": [],
            "needs_background": "light"
          }
        }
      ]
    },
    {
      "cell_type": "markdown",
      "metadata": {
        "id": "j1DH8dZFtGeL",
        "colab_type": "text"
      },
      "source": [
        "Outline of bird (image 0) from first layer"
      ]
    },
    {
      "cell_type": "code",
      "metadata": {
        "id": "vCAf601Os769",
        "colab_type": "code",
        "colab": {
          "base_uri": "https://localhost:8080/",
          "height": 266
        },
        "outputId": "3587fe00-870b-4c54-e602-bcf7e12c70b3"
      },
      "source": [
        "plt.imshow(out[1,0,:,:].detach().numpy())\n",
        "plt.show()"
      ],
      "execution_count": null,
      "outputs": [
        {
          "output_type": "display_data",
          "data": {
            "image/png": "[encoded data removed]",
            "text/plain": [
              "<Figure size 432x288 with 1 Axes>"
            ]
          },
          "metadata": {
            "tags": [],
            "needs_background": "light"
          }
        }
      ]
    },
    {
      "cell_type": "markdown",
      "metadata": {
        "id": "Mo2gkYWLt8aP",
        "colab_type": "text"
      },
      "source": [
        "Outline of car (image 1)"
      ]
    },
    {
      "cell_type": "code",
      "metadata": {
        "id": "C8mrrntmt7Uu",
        "colab_type": "code",
        "colab": {
          "base_uri": "https://localhost:8080/",
          "height": 266
        },
        "outputId": "210d0802-f5d1-44be-f8e1-160ac6398905"
      },
      "source": [
        "plt.imshow(out[3,0,:,:].detach().numpy())\n",
        "plt.show()"
      ],
      "execution_count": null,
      "outputs": [
        {
          "output_type": "display_data",
          "data": {
            "image/png": "[encoded data removed]",
            "text/plain": [
              "<Figure size 432x288 with 1 Axes>"
            ]
          },
          "metadata": {
            "tags": [],
            "needs_background": "light"
          }
        }
      ]
    },
    {
      "cell_type": "markdown",
      "metadata": {
        "id": "ME-cgi5XufA5",
        "colab_type": "text"
      },
      "source": [
        "Outline of cat (image 3)"
      ]
    },
    {
      "cell_type": "markdown",
      "metadata": {
        "id": "iQhSRDIwumLr",
        "colab_type": "text"
      },
      "source": [
        "(Weights and biases randomly initialised, hence nothing intelligible is happening. Just idea of how output of the first CNN layer looks like)."
      ]
    },
    {
      "cell_type": "markdown",
      "metadata": {
        "colab_type": "text",
        "id": "nBesb0E-bbEY"
      },
      "source": [
        "# Deep Convolutional Network"
      ]
    },
    {
      "cell_type": "code",
      "metadata": {
        "colab_type": "code",
        "id": "Sf_BTMaAbbEZ",
        "colab": {}
      },
      "source": [
        "class FirstCNN_v2(nn.Module):\n",
        "  def __init__(self):\n",
        "    super(FirstCNN_v2, self).__init__()\n",
        "    self.model = nn.Sequential(\n",
        "        nn.Conv2d(3, 8, 3), # (N, 3, 32, 32) -> (N, 8, 30, 30) [ shrunk by one since no padding ]\n",
        "        # (batch_size, depth, width of image (i.e. before shrink), height) -> (batch_size, #channels, width after shrink, height)\n",
        "        # immediately output = input of next layer\n",
        "        nn.Conv2d(8, 16, 3), # (N, 8, 30, 30) -> (N, 16, 28, 28)\n",
        "    )\n",
        "\n",
        "  def forward(self, x):\n",
        "    x = self.model(x)\n",
        "    return x"
      ],
      "execution_count": null,
      "outputs": []
    },
    {
      "cell_type": "code",
      "metadata": {
        "colab_type": "code",
        "id": "Fi966QfJbbEd",
        "colab": {
          "base_uri": "https://localhost:8080/",
          "height": 35
        },
        "outputId": "73e0c246-840c-4aee-df6e-d6ca3e6fc5a2"
      },
      "source": [
        "net = FirstCNN_v2()\n",
        "out = net(images)\n",
        "out.shape"
      ],
      "execution_count": null,
      "outputs": [
        {
          "output_type": "execute_result",
          "data": {
            "text/plain": [
              "torch.Size([4, 16, 28, 28])"
            ]
          },
          "metadata": {
            "tags": []
          },
          "execution_count": 22
        }
      ]
    },
    {
      "cell_type": "code",
      "metadata": {
        "colab_type": "code",
        "id": "INQhnmrobbEh",
        "colab": {
          "base_uri": "https://localhost:8080/",
          "height": 283
        },
        "outputId": "0e66afa3-4dfd-4b6f-d38e-1360590071d8"
      },
      "source": [
        "plt.imshow(out[0, 0, :, :].detach().numpy())"
      ],
      "execution_count": null,
      "outputs": [
        {
          "output_type": "execute_result",
          "data": {
            "text/plain": [
              "<matplotlib.image.AxesImage at 0x7fdae4596358>"
            ]
          },
          "metadata": {
            "tags": []
          },
          "execution_count": 23
        },
        {
          "output_type": "display_data",
          "data": {
            "image/png": "[encoded data removed]",
            "text/plain": [
              "<Figure size 432x288 with 1 Axes>"
            ]
          },
          "metadata": {
            "tags": [],
            "needs_background": "light"
          }
        }
      ]
    },
    {
      "cell_type": "markdown",
      "metadata": {
        "colab_type": "text",
        "id": "MgKdaLt0bbEm"
      },
      "source": [
        "Outline of bird (nothing to interpret again), yet can see correspondence - light and dark regions"
      ]
    },
    {
      "cell_type": "code",
      "metadata": {
        "colab_type": "code",
        "id": "kXLJf44ybbEn",
        "colab": {}
      },
      "source": [
        "class FirstCNN_v2(nn.Module):\n",
        "  def __init__(self):\n",
        "    super(FirstCNN_v2, self).__init__()\n",
        "    self.model = nn.Sequential(\n",
        "        # N is batch size\n",
        "        nn.Conv2d(3, 6, 5), # (N, 3, 32, 32) -> (N, 6, 28, 28) since again no padding and kernel = 5 so shrinks on 2 on both sides\n",
        "        nn.AvgPool2d(2, stride = 2), # (N, 6, 28, 28) -> (N, 6, 14, 14)\n",
        "        nn.Conv2d(6, 16, 5), # (N, 6, 14, 14) -> (N, 16, 10, 10)\n",
        "        nn.AvgPool2d(2, stride = 2) # (N, 16, 10, 10) -> (N, 16, 5, 5)\n",
        "    )\n",
        "    # Avgpool is 2d too (since depth of kernel is always same as that of input)\n",
        "\n",
        "  def forward(self, x):\n",
        "    x = self.model(x)\n",
        "    return x"
      ],
      "execution_count": null,
      "outputs": []
    },
    {
      "cell_type": "code",
      "metadata": {
        "colab_type": "code",
        "id": "OhLYGqLTbbEq",
        "colab": {
          "base_uri": "https://localhost:8080/",
          "height": 35
        },
        "outputId": "5e68ed35-1a9e-467f-f019-4634699fb85b"
      },
      "source": [
        "net = FirstCNN_v2()\n",
        "out = net(images)\n",
        "out.shape"
      ],
      "execution_count": null,
      "outputs": [
        {
          "output_type": "execute_result",
          "data": {
            "text/plain": [
              "torch.Size([4, 16, 5, 5])"
            ]
          },
          "metadata": {
            "tags": []
          },
          "execution_count": 25
        }
      ]
    },
    {
      "cell_type": "code",
      "metadata": {
        "colab_type": "code",
        "id": "yon5UM77bbEu",
        "colab": {
          "base_uri": "https://localhost:8080/",
          "height": 283
        },
        "outputId": "ce16e0af-5066-4ade-ba88-e3c0d7687893"
      },
      "source": [
        "plt.imshow(out[0, 0, :, :].detach().numpy())"
      ],
      "execution_count": null,
      "outputs": [
        {
          "output_type": "execute_result",
          "data": {
            "text/plain": [
              "<matplotlib.image.AxesImage at 0x7fdae42385f8>"
            ]
          },
          "metadata": {
            "tags": []
          },
          "execution_count": 26
        },
        {
          "output_type": "display_data",
          "data": {
            "image/png": "[encoded data removed]",
            "text/plain": [
              "<Figure size 432x288 with 1 Axes>"
            ]
          },
          "metadata": {
            "tags": [],
            "needs_background": "light"
          }
        }
      ]
    },
    {
      "cell_type": "markdown",
      "metadata": {
        "colab_type": "text",
        "id": "pf7_PP8-bbEy"
      },
      "source": [
        "Output of 2nd layer"
      ]
    },
    {
      "cell_type": "markdown",
      "metadata": {
        "id": "Q76B4EAKzOH-",
        "colab_type": "text"
      },
      "source": [
        "# LeNet"
      ]
    },
    {
      "cell_type": "code",
      "metadata": {
        "id": "hURLcA0ey0UK",
        "colab_type": "code",
        "colab": {}
      },
      "source": [
        "class LeNet(nn.Module):\n",
        "  def __init__(self):\n",
        "    super(LeNet, self).__init__()\n",
        "    self.cnn_model = nn.Sequential(\n",
        "        # LeNet uses Tanh as activation function - immediately after convolution applied (non-linearity)\n",
        "\n",
        "        nn.Conv2d(3, 6, 5), # (N, 3, 32, 32) -> (N, 6, 28, 28)\n",
        "        nn.Tanh(),\n",
        "\n",
        "        # depth is 6\n",
        "        nn.AvgPool2d(2, stride = 2), # (N, 6, 28, 28) -> (N, 6, 14, 14)\n",
        "\n",
        "        nn.Conv2d(6, 16, 5), # (N, 6, 14, 14) -> (N, 16, 10, 10)\n",
        "        nn.Tanh(),\n",
        "\n",
        "        nn.AvgPool2d(2, stride = 2) # (N, 16, 10, 10) -> (N, 16, 5, 5)\n",
        "    )\n",
        "\n",
        "    # fully connected\n",
        "    self.fc_model = nn.Sequential(\n",
        "        # (#inputs, #output neurons)\n",
        "        nn.Linear(400, 120), # (N,400) -> (N, 120) since 16*5*5 = 400 (flatten to single dimension tensor)\n",
        "        nn.Tanh(),\n",
        "        nn.Linear(120, 84), # (N, 120) -> (N, 84)\n",
        "        nn.Tanh(),\n",
        "        nn.Linear(84, 10) # (N, 84) -> (N, 10)\n",
        "    )\n",
        "    # Hence number of labels in the final output is equal to the number of images fed (N)\n",
        "    # Not using softmax in last layer since not essential for inferences ( i.e. just mentioning which class ). Just need the label with highest value\n",
        "    # Max after softmax is same as that before softmax (but will use it to calc grad.)\n",
        "\n",
        "  def forward(self,x):\n",
        "    print (x.shape)\n",
        "\n",
        "    # First apply cnn\n",
        "    x = self.cnn_model(x)\n",
        "    print(x.shape)\n",
        "\n",
        "    # Flattening is DONE HERE. Not recommended in model, though can.\n",
        "    # Torch .view() corresponds to numpy .reshape()\n",
        "    # First index is the size, everything else collapsed\n",
        "    x = x.view(x.size(0), -1)\n",
        "    print(x.shape)\n",
        "\n",
        "    x = self.fc_model(x)\n",
        "    print(x.shape)\n",
        "    return x"
      ],
      "execution_count": null,
      "outputs": []
    },
    {
      "cell_type": "markdown",
      "metadata": {
        "id": "8jfC_uARd8eL",
        "colab_type": "text"
      },
      "source": [
        "Note:  \n",
        "Convolution used to vary depth. (Done in Conv step)**bold text**  \n",
        "Stride and padding used to vary width and height. (Done in Pooling Step)"
      ]
    },
    {
      "cell_type": "code",
      "metadata": {
        "id": "HUgbtI9i1Ymb",
        "colab_type": "code",
        "colab": {
          "base_uri": "https://localhost:8080/",
          "height": 90
        },
        "outputId": "38663b1b-2bfe-4ec1-db90-591d976e0ae8"
      },
      "source": [
        "net = LeNet()\n",
        "out = net(images)"
      ],
      "execution_count": null,
      "outputs": [
        {
          "output_type": "stream",
          "text": [
            "torch.Size([4, 3, 32, 32])\n",
            "torch.Size([4, 16, 5, 5])\n",
            "torch.Size([4, 400])\n",
            "torch.Size([4, 10])\n"
          ],
          "name": "stdout"
        }
      ]
    },
    {
      "cell_type": "code",
      "metadata": {
        "id": "c6SMpfmI4rff",
        "colab_type": "code",
        "colab": {
          "base_uri": "https://localhost:8080/",
          "height": 182
        },
        "outputId": "d546a4b8-c326-46bf-e74b-d53459eaf80a"
      },
      "source": [
        "print(out)"
      ],
      "execution_count": null,
      "outputs": [
        {
          "output_type": "stream",
          "text": [
            "tensor([[-0.0563,  0.0529,  0.0378, -0.0313,  0.0085, -0.1203, -0.0011,  0.0998,\n",
            "          0.0819, -0.0320],\n",
            "        [-0.0595,  0.0554,  0.0402, -0.0433,  0.0155, -0.1242, -0.0157,  0.0910,\n",
            "          0.0890, -0.0382],\n",
            "        [-0.0689,  0.0374,  0.0273, -0.0391,  0.0155, -0.1406, -0.0174,  0.0936,\n",
            "          0.0775, -0.0312],\n",
            "        [-0.0206,  0.0655,  0.0394, -0.0224, -0.0105, -0.1004, -0.0143,  0.0879,\n",
            "          0.1199, -0.0521]], grad_fn=<AddmmBackward>)\n"
          ],
          "name": "stdout"
        }
      ]
    },
    {
      "cell_type": "code",
      "metadata": {
        "id": "P0z7xVFA4_OR",
        "colab_type": "code",
        "colab": {
          "base_uri": "https://localhost:8080/",
          "height": 35
        },
        "outputId": "24835332-7c3d-4b2b-ed18-587a228b51c1"
      },
      "source": [
        "max_values, pred_class = torch.max(out.data, 1)\n",
        "print(pred_class)"
      ],
      "execution_count": null,
      "outputs": [
        {
          "output_type": "stream",
          "text": [
            "tensor([7, 7, 7, 8])\n"
          ],
          "name": "stdout"
        }
      ]
    },
    {
      "cell_type": "markdown",
      "metadata": {
        "id": "jXx7OGlFDj4C",
        "colab_type": "text"
      },
      "source": [
        "# Training LeNet"
      ]
    },
    {
      "cell_type": "code",
      "metadata": {
        "id": "owjaheA7Jm91",
        "colab_type": "code",
        "colab": {}
      },
      "source": [
        "class LeNet_clean(nn.Module):\n",
        "  def __init__(self):\n",
        "    super(LeNet_clean, self).__init__()\n",
        "    self.cnn_model = nn.Sequential(\n",
        "        nn.Conv2d(3, 6, 5),\n",
        "        nn.Tanh(),\n",
        "\n",
        "        nn.AvgPool2d(2, stride = 2),\n",
        "        nn.Conv2d(6, 16, 5),\n",
        "\n",
        "        nn.Tanh(),\n",
        "\n",
        "        nn.AvgPool2d(2, stride = 2)\n",
        "    )\n",
        "\n",
        "    self.fc_model = nn.Sequential(\n",
        "        nn.Linear(400, 120),\n",
        "        nn.Tanh(),\n",
        "        nn.Linear(120, 84),\n",
        "        nn.Tanh(),\n",
        "        nn.Linear(84, 10)\n",
        "    )\n",
        "\n",
        "  def forward(self,x):\n",
        "\n",
        "    x = self.cnn_model(x)\n",
        "    x = x.view(x.size(0), -1)\n",
        "    x = self.fc_model(x)\n",
        "    return x"
      ],
      "execution_count": null,
      "outputs": []
    },
    {
      "cell_type": "code",
      "metadata": {
        "id": "p0fQH_pY5HBt",
        "colab_type": "code",
        "colab": {
          "base_uri": "https://localhost:8080/",
          "height": 53
        },
        "outputId": "093d9fc7-59ee-46eb-c535-29acc6899d79"
      },
      "source": [
        "batch_size = 128\n",
        "trainset = torchvision.datasets.CIFAR10(root='./data', train = True, download = True, transform=transforms.ToTensor())\n",
        "trainloader = torch.utils.data.DataLoader(trainset, batch_size = batch_size, shuffle = True)\n",
        "testset = torchvision.datasets.CIFAR10(root='./data', train = False, download = True, transform = transforms.ToTensor())\n",
        "# Shuffle false since we are not going to evaluate on it again and again, just once predict (one evaluation)\n",
        "testloader = torch.utils.data.DataLoader(testset, batch_size = batch_size, shuffle = False)"
      ],
      "execution_count": null,
      "outputs": [
        {
          "output_type": "stream",
          "text": [
            "Files already downloaded and verified\n",
            "Files already downloaded and verified\n"
          ],
          "name": "stdout"
        }
      ]
    },
    {
      "cell_type": "code",
      "metadata": {
        "id": "kI7ejOVoEjAe",
        "colab_type": "code",
        "colab": {}
      },
      "source": [
        "def evaluation(dataloader):\n",
        "  # this time don't have to dataiter and then dataiter.next; the for loop does all that\n",
        "  total = 0\n",
        "  correct = 0\n",
        "  for data in dataloader:\n",
        "    inputs, labels = data\n",
        "    outputs = net(inputs)\n",
        "    _,pred = torch.max(outputs.data, 1) # second arg: dimension along which max (across cols so 1)\n",
        "    total += labels.size(0) # Total number of inputs processed so far\n",
        "    correct += (pred==labels).sum().item() # all are tensors so item()\n",
        "  return 100*correct/total"
      ],
      "execution_count": null,
      "outputs": []
    },
    {
      "cell_type": "code",
      "metadata": {
        "id": "4AP1Tb30GCNK",
        "colab_type": "code",
        "colab": {}
      },
      "source": [
        "net = LeNet_clean()"
      ],
      "execution_count": null,
      "outputs": []
    },
    {
      "cell_type": "code",
      "metadata": {
        "id": "llVV3feAGFRz",
        "colab_type": "code",
        "colab": {}
      },
      "source": [
        "import torch.optim as optim\n",
        "\n",
        "# Cross entropy applied only after softmax (which we haven't done)\n",
        "loss_fn = nn.CrossEntropyLoss()\n",
        "\n",
        "# Pass all parameters that have to be optimised (also here is where we are connecting the Adam Optimizer to current CNN - LeNet)\n",
        "opt = optim.Adam(net.parameters())"
      ],
      "execution_count": null,
      "outputs": []
    },
    {
      "cell_type": "code",
      "metadata": {
        "id": "AFE_HAn_GPNm",
        "colab_type": "code",
        "colab": {
          "base_uri": "https://localhost:8080/",
          "height": 592
        },
        "outputId": "2b7ce4d5-f313-448b-9662-1f31a22dcdb4"
      },
      "source": [
        "%%time\n",
        "\n",
        "loss_arr = []\n",
        "loss_epoch_arr = []\n",
        "max_epochs = 16\n",
        "\n",
        "for epoch in range(max_epochs):\n",
        "  for i, data in enumerate(trainloader, 0): # Start enumeration from 0\n",
        "    \n",
        "    inputs, labels = data\n",
        "\n",
        "    # Reset previous gradients, if any\n",
        "    opt.zero_grad()\n",
        "\n",
        "    # Forward pass\n",
        "    outputs = net(inputs)\n",
        "\n",
        "    # Compute loss after forward pass\n",
        "    loss = loss_fn(outputs, labels)\n",
        "\n",
        "    # Do backward propagation of loss\n",
        "    loss.backward()\n",
        "\n",
        "    # Take a step of optimising all parameters based on the backprop by using update rule (Adam)\n",
        "    opt.step()\n",
        "\n",
        "    loss_arr.append(loss.item())\n",
        "\n",
        "  loss_epoch_arr.append(loss.item())\n",
        "\n",
        "  print(\"Epoch: %d/%d, Test acc: %0.2f, Training accuracy: %0.2f\" %(epoch, max_epochs, evaluation(testloader), evaluation(trainloader)))\n",
        "\n",
        "plt.plot(loss_epoch_arr)\n",
        "plt.show()"
      ],
      "execution_count": null,
      "outputs": [
        {
          "output_type": "stream",
          "text": [
            "Epoch: 0/16, Test acc: 46.84, Training accuracy: 48.34\n",
            "Epoch: 1/16, Test acc: 49.68, Training accuracy: 51.78\n",
            "Epoch: 2/16, Test acc: 51.81, Training accuracy: 54.72\n",
            "Epoch: 3/16, Test acc: 52.40, Training accuracy: 55.89\n",
            "Epoch: 4/16, Test acc: 53.15, Training accuracy: 57.53\n",
            "Epoch: 5/16, Test acc: 54.06, Training accuracy: 59.30\n",
            "Epoch: 6/16, Test acc: 53.67, Training accuracy: 60.14\n",
            "Epoch: 7/16, Test acc: 54.26, Training accuracy: 60.87\n",
            "Epoch: 8/16, Test acc: 55.02, Training accuracy: 61.88\n",
            "Epoch: 9/16, Test acc: 54.90, Training accuracy: 63.01\n",
            "Epoch: 10/16, Test acc: 55.07, Training accuracy: 64.17\n",
            "Epoch: 11/16, Test acc: 54.89, Training accuracy: 64.82\n",
            "Epoch: 12/16, Test acc: 55.49, Training accuracy: 66.03\n",
            "Epoch: 13/16, Test acc: 54.89, Training accuracy: 65.73\n",
            "Epoch: 14/16, Test acc: 55.18, Training accuracy: 66.74\n",
            "Epoch: 15/16, Test acc: 55.07, Training accuracy: 67.19\n"
          ],
          "name": "stdout"
        },
        {
          "output_type": "display_data",
          "data": {
            "image/png": "[encoded data removed]",
            "text/plain": [
              "<Figure size 432x288 with 1 Axes>"
            ]
          },
          "metadata": {
            "tags": [],
            "needs_background": "light"
          }
        },
        {
          "output_type": "stream",
          "text": [
            "CPU times: user 7min 40s, sys: 11.7 s, total: 7min 52s\n",
            "Wall time: 7min 53s\n"
          ],
          "name": "stdout"
        }
      ]
    },
    {
      "cell_type": "markdown",
      "metadata": {
        "id": "VJ5DnD2kLiUm",
        "colab_type": "text"
      },
      "source": [
        "# Move LeNet to GPU"
      ]
    },
    {
      "cell_type": "code",
      "metadata": {
        "id": "jr1qF0tHOnwz",
        "colab_type": "code",
        "colab": {}
      },
      "source": [
        "import torchvision\n",
        "import torchvision.transforms as transforms"
      ],
      "execution_count": null,
      "outputs": []
    },
    {
      "cell_type": "code",
      "metadata": {
        "id": "p9vXpQyqIQgu",
        "colab_type": "code",
        "colab": {
          "base_uri": "https://localhost:8080/",
          "height": 35
        },
        "outputId": "d67a28b8-dc43-4463-935a-1b16fb53c091"
      },
      "source": [
        "device = torch.device(\"cuda:0\" if torch.cuda.is_available() else \"cpu\")\n",
        "print(device)"
      ],
      "execution_count": null,
      "outputs": [
        {
          "output_type": "stream",
          "text": [
            "cuda:0\n"
          ],
          "name": "stdout"
        }
      ]
    },
    {
      "cell_type": "code",
      "metadata": {
        "id": "_F2RpAiwLv5L",
        "colab_type": "code",
        "colab": {}
      },
      "source": [
        "def evaluation(dataloader):\n",
        "  total = 0\n",
        "  correct = 0\n",
        "  for data in dataloader:\n",
        "    inputs, labels = data\n",
        "    inputs, labels = inputs.to(device), labels.to(device)\n",
        "    outputs = net(inputs)\n",
        "    _,pred = torch.max(outputs.data, 1)\n",
        "    total += labels.size(0)\n",
        "    correct += (pred==labels).sum().item() \n",
        "  return 100*correct/total"
      ],
      "execution_count": null,
      "outputs": []
    },
    {
      "cell_type": "code",
      "metadata": {
        "id": "FcaryxDALyGV",
        "colab_type": "code",
        "colab": {}
      },
      "source": [
        "net = LeNet_clean().to(device)\n",
        "loss_fn = nn.CrossEntropyLoss()\n",
        "# we are not passing any hyperparameters (L2 regulariser to avoid overfitting - weight decay, etc)\n",
        "opt = optim.Adam(net.parameters())"
      ],
      "execution_count": null,
      "outputs": []
    },
    {
      "cell_type": "markdown",
      "metadata": {
        "id": "qZCrBMnXgGzn",
        "colab_type": "text"
      },
      "source": [
        "Thus shifted inputs, labels and model to GPU. The rest (Adam optimizer, Loss function etc) are just hyperparameters. Not things to shift to GPU."
      ]
    },
    {
      "cell_type": "code",
      "metadata": {
        "id": "CIZOoPZbMS75",
        "colab_type": "code",
        "colab": {
          "base_uri": "https://localhost:8080/",
          "height": 344
        },
        "outputId": "a645e7a9-1768-4926-9f68-5c62f4b7aa7a"
      },
      "source": [
        "%%time\n",
        "\n",
        "loss_arr = []\n",
        "loss_epoch_arr = []\n",
        "max_epochs = 16\n",
        "\n",
        "for epoch in range(max_epochs):\n",
        "  for i, data in enumerate(trainloader, 0):    \n",
        "    inputs, labels = data\n",
        "    inputs, labels = inputs.to(device), labels.to(device)\n",
        "\n",
        "    # opt already moved to GPU\n",
        "    opt.zero_grad()\n",
        "\n",
        "    # outputs on gpu since net and inputs on gpu\n",
        "    outputs = net(inputs)\n",
        "\n",
        "    loss = loss_fn(outputs, labels)\n",
        "    loss.backward()\n",
        "    opt.step()\n",
        "\n",
        "  print(\"Epoch: %d/%d\" %(epoch, max_epochs))"
      ],
      "execution_count": null,
      "outputs": [
        {
          "output_type": "stream",
          "text": [
            "Epoch: 0/16\n",
            "Epoch: 1/16\n",
            "Epoch: 2/16\n",
            "Epoch: 3/16\n",
            "Epoch: 4/16\n",
            "Epoch: 5/16\n",
            "Epoch: 6/16\n",
            "Epoch: 7/16\n",
            "Epoch: 8/16\n",
            "Epoch: 9/16\n",
            "Epoch: 10/16\n",
            "Epoch: 11/16\n",
            "Epoch: 12/16\n",
            "Epoch: 13/16\n",
            "Epoch: 14/16\n",
            "Epoch: 15/16\n",
            "CPU times: user 9min 30s, sys: 9.85 s, total: 9min 40s\n",
            "Wall time: 9min 44s\n"
          ],
          "name": "stdout"
        }
      ]
    },
    {
      "cell_type": "code",
      "metadata": {
        "id": "VhiyY2XwNQIk",
        "colab_type": "code",
        "colab": {
          "base_uri": "https://localhost:8080/",
          "height": 35
        },
        "outputId": "a2c77d26-e264-4326-9a5a-9abf6375b538"
      },
      "source": [
        "print(\"Test acc: %0.2f, Training accuracy: %0.2f\" %(evaluation(testloader), evaluation(trainloader)))"
      ],
      "execution_count": null,
      "outputs": [
        {
          "output_type": "stream",
          "text": [
            "Test acc: 51.35, Training accuracy: 57.53\n"
          ],
          "name": "stdout"
        }
      ]
    },
    {
      "cell_type": "markdown",
      "metadata": {
        "id": "Xzi8KZiqhYkP",
        "colab_type": "text"
      },
      "source": [
        "# Basic Visualisation"
      ]
    },
    {
      "cell_type": "markdown",
      "metadata": {
        "id": "qrj3pRgJvouZ",
        "colab_type": "text"
      },
      "source": [
        "### Visualising output of first convolutional layer"
      ]
    },
    {
      "cell_type": "code",
      "metadata": {
        "id": "ezQuofNJiTNB",
        "colab_type": "code",
        "colab": {}
      },
      "source": [
        "dataiter = iter(trainloader)\n",
        "images, labels = dataiter.next()"
      ],
      "execution_count": null,
      "outputs": []
    },
    {
      "cell_type": "code",
      "metadata": {
        "id": "ZGMbi5MLhZ_I",
        "colab_type": "code",
        "colab": {
          "base_uri": "https://localhost:8080/",
          "height": 138
        },
        "outputId": "2a0b9ab6-a8d7-4cb4-ebc3-ceb185a65997"
      },
      "source": [
        "imshow(torchvision.utils.make_grid(images))"
      ],
      "execution_count": null,
      "outputs": [
        {
          "output_type": "display_data",
          "data": {
            "image/png": "[encoded data removed]",
            "text/plain": [
              "<Figure size 432x288 with 1 Axes>"
            ]
          },
          "metadata": {
            "tags": [],
            "needs_background": "light"
          }
        }
      ]
    },
    {
      "cell_type": "code",
      "metadata": {
        "id": "5f8icwQrhoa2",
        "colab_type": "code",
        "colab": {}
      },
      "source": [
        "# If don't move model to cpu, next command will give type mismatch error (images on gpu and net on cpu)\n",
        "net = net.to(\"cpu\")"
      ],
      "execution_count": null,
      "outputs": []
    },
    {
      "cell_type": "code",
      "metadata": {
        "id": "iM3E1L4kj12E",
        "colab_type": "code",
        "colab": {
          "base_uri": "https://localhost:8080/",
          "height": 35
        },
        "outputId": "c52935bb-43ce-4f70-a2d6-18556749ee0e"
      },
      "source": [
        "out = net(images)\n",
        "print(out.shape)"
      ],
      "execution_count": null,
      "outputs": [
        {
          "output_type": "stream",
          "text": [
            "torch.Size([4, 10])\n"
          ],
          "name": "stdout"
        }
      ]
    },
    {
      "cell_type": "markdown",
      "metadata": {
        "id": "mXNaUV2MqpG2",
        "colab_type": "text"
      },
      "source": [
        "Final Output of model is 4 images with probability of 10 classes each"
      ]
    },
    {
      "cell_type": "code",
      "metadata": {
        "id": "EarL9JUaiYwm",
        "colab_type": "code",
        "colab": {
          "base_uri": "https://localhost:8080/",
          "height": 35
        },
        "outputId": "d72fa0b2-00d4-4f3f-ad8d-b52284724716"
      },
      "source": [
        "# net contains cnn_model + fc NN. \n",
        "# net.cnn contains the sequential part (all layers in it)\n",
        "# [0] accesses only the first layer of the sequential part i.e. the conv2d layer. Apply only to images\n",
        "out = net.cnn_model[0](images)\n",
        "out.shape"
      ],
      "execution_count": null,
      "outputs": [
        {
          "output_type": "execute_result",
          "data": {
            "text/plain": [
              "torch.Size([4, 6, 28, 28])"
            ]
          },
          "metadata": {
            "tags": []
          },
          "execution_count": 37
        }
      ]
    },
    {
      "cell_type": "markdown",
      "metadata": {
        "id": "YRf0wPmCqzH9",
        "colab_type": "text"
      },
      "source": [
        "Ouput of only first layer is (N, 6, 28, 28) - already estimated before"
      ]
    },
    {
      "cell_type": "code",
      "metadata": {
        "id": "buvQdvyrjyyB",
        "colab_type": "code",
        "colab": {
          "base_uri": "https://localhost:8080/",
          "height": 159
        },
        "outputId": "5a76702c-9b9d-4fa7-d4ca-fdf456f74a33"
      },
      "source": [
        "image_id = 3\n",
        "plt.figure(figsize = (2,2))\n",
        "imshow(images[image_id,])"
      ],
      "execution_count": null,
      "outputs": [
        {
          "output_type": "display_data",
          "data": {
            "image/png": "[encoded data removed]",
            "text/plain": [
              "<Figure size 144x144 with 1 Axes>"
            ]
          },
          "metadata": {
            "tags": [],
            "needs_background": "light"
          }
        }
      ]
    },
    {
      "cell_type": "markdown",
      "metadata": {
        "id": "-waLHMiCrQ3v",
        "colab_type": "text"
      },
      "source": [
        "This was the input.  \n",
        "Now let's see the output of each of the six channels (not rgb, but something we can't interpret) as a result of the first layer for the fourth image only."
      ]
    },
    {
      "cell_type": "code",
      "metadata": {
        "id": "eKF3P5j9kgwL",
        "colab_type": "code",
        "colab": {
          "base_uri": "https://localhost:8080/",
          "height": 432
        },
        "outputId": "01002815-668d-4e2e-c9a0-6f124cebee8d"
      },
      "source": [
        "plt.figure(figsize = (6,6))\n",
        "plt.subplot(321) # 3rows, 2 cols\n",
        "for i in range(6):\n",
        "  ax1 = plt.subplot(3, 2, i+1)\n",
        "  # Each time, same image (i.e. 4th image) but channel number increases by 1 and its complete dimension (complete x and y so \":\")\n",
        "  plt.imshow(out[image_id, i, :, :].detach().numpy(), cmap=\"binary\")\n",
        "plt.show()"
      ],
      "execution_count": null,
      "outputs": [
        {
          "output_type": "stream",
          "text": [
            "/usr/local/lib/python3.6/dist-packages/ipykernel_launcher.py:4: MatplotlibDeprecationWarning: Adding an axes using the same arguments as a previous axes currently reuses the earlier instance.  In a future version, a new instance will always be created and returned.  Meanwhile, this warning can be suppressed, and the future behavior ensured, by passing a unique label to each axes instance.\n",
            "  after removing the cwd from sys.path.\n"
          ],
          "name": "stderr"
        },
        {
          "output_type": "display_data",
          "data": {
            "image/png": "[encoded data removed]",
            "text/plain": [
              "<Figure size 432x432 with 6 Axes>"
            ]
          },
          "metadata": {
            "tags": [],
            "needs_background": "light"
          }
        }
      ]
    },
    {
      "cell_type": "code",
      "metadata": {
        "id": "I-lhBhRCsFEo",
        "colab_type": "code",
        "colab": {}
      },
      "source": [
        ""
      ],
      "execution_count": null,
      "outputs": []
    },
    {
      "cell_type": "markdown",
      "metadata": {
        "id": "dO8bHkyztYe5",
        "colab_type": "text"
      },
      "source": [
        "### Visualising output of second convolutional layer"
      ]
    },
    {
      "cell_type": "code",
      "metadata": {
        "id": "lqf1tqOItbpy",
        "colab_type": "code",
        "colab": {}
      },
      "source": [
        "out2 = net.cnn_model[3](images)"
      ],
      "execution_count": null,
      "outputs": []
    },
    {
      "cell_type": "markdown",
      "metadata": {
        "id": "FTnD7v5Jt3Z7",
        "colab_type": "text"
      },
      "source": [
        "**RuntimeError: Given groups=1, weight of size [16, 6, 5, 5], expected input[4, 3, 32, 32] to have 6 channels, but got 3 channels instead**  \n",
        "Can't pass directly to third layer, have to pass through each layer before that to undergo those transformations first"
      ]
    },
    {
      "cell_type": "code",
      "metadata": {
        "id": "hGknDsw7tvom",
        "colab_type": "code",
        "colab": {}
      },
      "source": [
        "out2 = net.cnn_model[3](net.cnn_model[2](net.cnn_model[1](net.cnn_model[0](images))))"
      ],
      "execution_count": null,
      "outputs": []
    },
    {
      "cell_type": "code",
      "metadata": {
        "id": "qQuykxvAuKOs",
        "colab_type": "code",
        "colab": {
          "base_uri": "https://localhost:8080/",
          "height": 35
        },
        "outputId": "3bd609a6-deb0-4139-de32-574fc91ade97"
      },
      "source": [
        "out2.shape"
      ],
      "execution_count": null,
      "outputs": [
        {
          "output_type": "execute_result",
          "data": {
            "text/plain": [
              "torch.Size([4, 16, 10, 10])"
            ]
          },
          "metadata": {
            "tags": []
          },
          "execution_count": 41
        }
      ]
    },
    {
      "cell_type": "markdown",
      "metadata": {
        "id": "KBAclgFduPdZ",
        "colab_type": "text"
      },
      "source": [
        "Correct (N, 16, 10, 10)"
      ]
    },
    {
      "cell_type": "code",
      "metadata": {
        "id": "-DQ-YE7auL71",
        "colab_type": "code",
        "colab": {
          "base_uri": "https://localhost:8080/",
          "height": 540
        },
        "outputId": "b0204d67-149b-4cd2-c13e-b240178b53be"
      },
      "source": [
        "plt.figure(figsize = (8,8))\n",
        "plt.subplot(821)\n",
        "for i in range(16): # 16 channels\n",
        "  ax1 = plt.subplot(8,2,i+1)\n",
        "  plt.imshow(out2[image_id, i, :, :].detach().numpy(), cmap=\"binary\")\n",
        "plt.show()"
      ],
      "execution_count": null,
      "outputs": [
        {
          "output_type": "stream",
          "text": [
            "/usr/local/lib/python3.6/dist-packages/ipykernel_launcher.py:4: MatplotlibDeprecationWarning: Adding an axes using the same arguments as a previous axes currently reuses the earlier instance.  In a future version, a new instance will always be created and returned.  Meanwhile, this warning can be suppressed, and the future behavior ensured, by passing a unique label to each axes instance.\n",
            "  after removing the cwd from sys.path.\n"
          ],
          "name": "stderr"
        },
        {
          "output_type": "display_data",
          "data": {
            "image/png": "[encoded data removed]",
            "text/plain": [
              "<Figure size 576x576 with 16 Axes>"
            ]
          },
          "metadata": {
            "tags": [],
            "needs_background": "light"
          }
        }
      ]
    },
    {
      "cell_type": "markdown",
      "metadata": {
        "id": "40Nt3gDZvJU5",
        "colab_type": "text"
      },
      "source": [
        "Size has shrunk from 28 x 28 to 10 x 10 (thus the decrese in size) due to the average pooling."
      ]
    },
    {
      "cell_type": "code",
      "metadata": {
        "id": "fb6LhiowvB_8",
        "colab_type": "code",
        "colab": {}
      },
      "source": [
        ""
      ],
      "execution_count": null,
      "outputs": []
    }
  ]
}