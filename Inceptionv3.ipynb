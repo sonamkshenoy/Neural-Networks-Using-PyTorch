{
  "nbformat": 4,
  "nbformat_minor": 0,
  "metadata": {
    "colab": {
      "name": "Inceptionv3.ipynb",
      "provenance": [],
      "collapsed_sections": [],
      "authorship_tag": "ABX9TyNbFhKYlhc/ICDG9PqaKyFj"
    },
    "kernelspec": {
      "name": "python3",
      "display_name": "Python 3"
    },
    "accelerator": "GPU"
  },
  "cells": [
    {
      "cell_type": "markdown",
      "metadata": {
        "id": "1O7GOEootwwy",
        "colab_type": "text"
      },
      "source": [
        "# Google's Inceptionv3 CNN"
      ]
    },
    {
      "cell_type": "code",
      "metadata": {
        "id": "3tgEQlltpMy1",
        "colab_type": "code",
        "colab": {}
      },
      "source": [
        "import matplotlib.pyplot as plt\n",
        "import numpy as np\n",
        "\n",
        "import torch\n",
        "import torchvision\n",
        "import torchvision.transforms as transforms\n",
        "import torch.nn as nn\n",
        "import torch.optim as optim"
      ],
      "execution_count": null,
      "outputs": []
    },
    {
      "cell_type": "code",
      "metadata": {
        "id": "_zE8kJvbqxpg",
        "colab_type": "code",
        "colab": {
          "base_uri": "https://localhost:8080/",
          "height": 34
        },
        "outputId": "87adc88b-82be-41ca-b1f1-8b7e01d7a5d4"
      },
      "source": [
        "# check if gpu present\n",
        "device = torch.device(\"cuda:0\" if torch.cuda.is_available() else \"cpu\")\n",
        "print(device)"
      ],
      "execution_count": null,
      "outputs": [
        {
          "output_type": "stream",
          "text": [
            "cuda:0\n"
          ],
          "name": "stdout"
        }
      ]
    },
    {
      "cell_type": "code",
      "metadata": {
        "id": "HB1epf63rDGW",
        "colab_type": "code",
        "colab": {}
      },
      "source": [
        ""
      ],
      "execution_count": null,
      "outputs": []
    },
    {
      "cell_type": "markdown",
      "metadata": {
        "id": "6Z6ajPZorG7-",
        "colab_type": "text"
      },
      "source": [
        "# Datasets and transforms"
      ]
    },
    {
      "cell_type": "markdown",
      "metadata": {
        "id": "P0Km8IQzWNoK",
        "colab_type": "text"
      },
      "source": [
        "For Inception v3, image size SHOULD be 299 x 299, so below code not applicable, resize as done in next cell."
      ]
    },
    {
      "cell_type": "code",
      "metadata": {
        "id": "fsx_Ez0XrJ4h",
        "colab_type": "code",
        "colab": {}
      },
      "source": [
        "# earlier had used ToTensor() of \"transform\" to convert PIL image to tensor directly\n",
        "# This time using few more functions of \"transform\"\n",
        "\n",
        "# transform_train = transforms.Compose([\n",
        "#       transforms.RandomResizedCrop(224),\n",
        "#       transforms.ToTensor(),\n",
        "#       transforms.Normalize((0.5, 0.5, 0.5), (0.5, 0.5, 0.5)),\n",
        "# ])\n",
        "\n",
        "# transform_test = transforms.Compose([\n",
        "#       transforms.RandomResizedCrop(224),\n",
        "#       transforms.ToTensor(),\n",
        "#       transforms.Normalize((0.5, 0.5, 0.5), (0.5, 0.5, 0.5)),\n",
        "# ])"
      ],
      "execution_count": null,
      "outputs": []
    },
    {
      "cell_type": "markdown",
      "metadata": {
        "id": "MRvP6FGJvFYD",
        "colab_type": "text"
      },
      "source": [
        "For inception input size is 299 x 299, so resize/transform"
      ]
    },
    {
      "cell_type": "code",
      "metadata": {
        "id": "5RAQ2qcpvKX-",
        "colab_type": "code",
        "colab": {}
      },
      "source": [
        "transform_train = transforms.Compose([\n",
        "    transforms.RandomResizedCrop(299),\n",
        "    transforms.ToTensor(),\n",
        "    transforms.Normalize((0.5, 0.5, 0.5), (0.5, 0.5, 0.5)),\n",
        "])\n",
        "\n",
        "transform_test = transforms.Compose([\n",
        "    transforms.RandomResizedCrop(299),\n",
        "    transforms.ToTensor(),\n",
        "    transforms.Normalize((0.5, 0.5, 0.5), (0.5, 0.5, 0.5)),\n",
        "])"
      ],
      "execution_count": null,
      "outputs": []
    },
    {
      "cell_type": "code",
      "metadata": {
        "id": "NzzcqWjEuvJl",
        "colab_type": "code",
        "colab": {}
      },
      "source": [
        "# trainset = torchvision.datasets.CIFAR10(root = './data', train = True,\n",
        "#                                         download = True, \n",
        "#                                         transform = transform_train) # applying transform in this last line\n",
        "\n",
        "# testset = torchvision.datasets.CIFAR10(root = './data', train = False,\n",
        "#                                         download = True, \n",
        "#                                         transform = transform_test)\n",
        "                                        "
      ],
      "execution_count": null,
      "outputs": []
    },
    {
      "cell_type": "code",
      "metadata": {
        "id": "85P_-sFWvheb",
        "colab_type": "code",
        "colab": {
          "base_uri": "https://localhost:8080/",
          "height": 52
        },
        "outputId": "2cc4cde9-f018-434c-d7e7-8b6686e6320e"
      },
      "source": [
        "trainset = torchvision.datasets.CIFAR10(root = './data', train = True,\n",
        "                                        download = True, \n",
        "                                        transform = transform_train) # applying transform in this last line\n",
        "\n",
        "testset = torchvision.datasets.CIFAR10(root = './data', train = False,\n",
        "                                        download = True, \n",
        "                                        transform = transform_test)\n",
        "                                        "
      ],
      "execution_count": null,
      "outputs": [
        {
          "output_type": "stream",
          "text": [
            "Files already downloaded and verified\n",
            "Files already downloaded and verified\n"
          ],
          "name": "stdout"
        }
      ]
    },
    {
      "cell_type": "code",
      "metadata": {
        "id": "8ASlJBqxvUar",
        "colab_type": "code",
        "colab": {}
      },
      "source": [
        "num_classes = 10"
      ],
      "execution_count": null,
      "outputs": []
    },
    {
      "cell_type": "markdown",
      "metadata": {
        "id": "Yn7k71LTvcbT",
        "colab_type": "text"
      },
      "source": [
        "10 classes in CIFAR10"
      ]
    },
    {
      "cell_type": "code",
      "metadata": {
        "id": "I8hTd4ZFBVDy",
        "colab_type": "code",
        "colab": {}
      },
      "source": [
        ""
      ],
      "execution_count": null,
      "outputs": []
    },
    {
      "cell_type": "markdown",
      "metadata": {
        "id": "LVrg2VWXEavY",
        "colab_type": "text"
      },
      "source": [
        "# Helper Functions"
      ]
    },
    {
      "cell_type": "code",
      "metadata": {
        "id": "6k-Ed_tOBf7w",
        "colab_type": "code",
        "colab": {}
      },
      "source": [
        "# def evaluation(dataloader, model):\n",
        "#   total, correct = 0, 0\n",
        "#   for data in dataloader:\n",
        "#     inputs, labels = data\n",
        "#     inputs, labels = inputs.to(device), labels.to(device)\n",
        "#     outputs = model(inputs)\n",
        "#     _, pred = torch.max(outputs.data, 1) # index at which max value\n",
        "#     total += labels.size(0)\n",
        "#     correct += (pred == labels).sum().item()\n",
        "#   return 100 * correct / total"
      ],
      "execution_count": null,
      "outputs": []
    },
    {
      "cell_type": "markdown",
      "metadata": {
        "id": "ZPCGqq_exL7X",
        "colab_type": "text"
      },
      "source": [
        "Slight change in evaluation: See in the code of inception, during forward pass, it returns both final and auxillary output, so you have to take the aux outputs too. (though you won't use them)"
      ]
    },
    {
      "cell_type": "markdown",
      "metadata": {
        "id": "je8W99_qm_p5",
        "colab_type": "text"
      },
      "source": [
        "Have to use this modified evaluation function (else error - data of inception not defined)"
      ]
    },
    {
      "cell_type": "code",
      "metadata": {
        "id": "oqmHDIyGw6JB",
        "colab_type": "code",
        "colab": {}
      },
      "source": [
        "def evaluation_inception(dataloader, model):\n",
        "  total, correct = 0, 0\n",
        "  for data in dataloader:\n",
        "    inputs, labels = data\n",
        "    inputs, labels = inputs.to(device), labels.to(device)\n",
        "    outputs, aux_outputs = model(inputs) # this time model gives two outputs: output from final layer + from auxillary layers (only change)\n",
        "    _, pred = torch.max(outputs.data, 1) # index at which max value\n",
        "    total += labels.size(0)\n",
        "    correct += (pred == labels).sum().item()\n",
        "  return 100 * correct / total"
      ],
      "execution_count": null,
      "outputs": []
    },
    {
      "cell_type": "code",
      "metadata": {
        "id": "CI3CZ2HMPVJP",
        "colab_type": "code",
        "colab": {}
      },
      "source": [
        "batch_size = 16\n",
        "\n",
        "trainloader = torch.utils.data.DataLoader(trainset, batch_size=batch_size, shuffle = True)\n",
        "testloader = torch.utils.data.DataLoader(testset, batch_size=batch_size, shuffle = False)"
      ],
      "execution_count": null,
      "outputs": []
    },
    {
      "cell_type": "markdown",
      "metadata": {
        "id": "BjAP3xYDsTaw",
        "colab_type": "text"
      },
      "source": [
        "# Inception Model"
      ]
    },
    {
      "cell_type": "markdown",
      "metadata": {
        "id": "48R34Yghsdu-",
        "colab_type": "text"
      },
      "source": [
        "Torchvision"
      ]
    },
    {
      "cell_type": "markdown",
      "metadata": {
        "id": "i9ms6H48srd8",
        "colab_type": "text"
      },
      "source": [
        "Repeating modules with Parallel paths and dangling (auxillary outputs - useful during training)"
      ]
    },
    {
      "cell_type": "code",
      "metadata": {
        "id": "hoWYyULNsVBP",
        "colab_type": "code",
        "colab": {}
      },
      "source": [
        "inception = torchvision.models.inception_v3(pretrained = True)"
      ],
      "execution_count": null,
      "outputs": []
    },
    {
      "cell_type": "code",
      "metadata": {
        "id": "i5OTBYS6skqM",
        "colab_type": "code",
        "colab": {
          "base_uri": "https://localhost:8080/",
          "height": 1000
        },
        "outputId": "397fae1c-014c-493d-f9b9-79c6d781a2f5"
      },
      "source": [
        "print(inception)"
      ],
      "execution_count": null,
      "outputs": [
        {
          "output_type": "stream",
          "text": [
            "Inception3(\n",
            "  (Conv2d_1a_3x3): BasicConv2d(\n",
            "    (conv): Conv2d(3, 32, kernel_size=(3, 3), stride=(2, 2), bias=False)\n",
            "    (bn): BatchNorm2d(32, eps=0.001, momentum=0.1, affine=True, track_running_stats=True)\n",
            "  )\n",
            "  (Conv2d_2a_3x3): BasicConv2d(\n",
            "    (conv): Conv2d(32, 32, kernel_size=(3, 3), stride=(1, 1), bias=False)\n",
            "    (bn): BatchNorm2d(32, eps=0.001, momentum=0.1, affine=True, track_running_stats=True)\n",
            "  )\n",
            "  (Conv2d_2b_3x3): BasicConv2d(\n",
            "    (conv): Conv2d(32, 64, kernel_size=(3, 3), stride=(1, 1), padding=(1, 1), bias=False)\n",
            "    (bn): BatchNorm2d(64, eps=0.001, momentum=0.1, affine=True, track_running_stats=True)\n",
            "  )\n",
            "  (maxpool1): MaxPool2d(kernel_size=3, stride=2, padding=0, dilation=1, ceil_mode=False)\n",
            "  (Conv2d_3b_1x1): BasicConv2d(\n",
            "    (conv): Conv2d(64, 80, kernel_size=(1, 1), stride=(1, 1), bias=False)\n",
            "    (bn): BatchNorm2d(80, eps=0.001, momentum=0.1, affine=True, track_running_stats=True)\n",
            "  )\n",
            "  (Conv2d_4a_3x3): BasicConv2d(\n",
            "    (conv): Conv2d(80, 192, kernel_size=(3, 3), stride=(1, 1), bias=False)\n",
            "    (bn): BatchNorm2d(192, eps=0.001, momentum=0.1, affine=True, track_running_stats=True)\n",
            "  )\n",
            "  (maxpool2): MaxPool2d(kernel_size=3, stride=2, padding=0, dilation=1, ceil_mode=False)\n",
            "  (Mixed_5b): InceptionA(\n",
            "    (branch1x1): BasicConv2d(\n",
            "      (conv): Conv2d(192, 64, kernel_size=(1, 1), stride=(1, 1), bias=False)\n",
            "      (bn): BatchNorm2d(64, eps=0.001, momentum=0.1, affine=True, track_running_stats=True)\n",
            "    )\n",
            "    (branch5x5_1): BasicConv2d(\n",
            "      (conv): Conv2d(192, 48, kernel_size=(1, 1), stride=(1, 1), bias=False)\n",
            "      (bn): BatchNorm2d(48, eps=0.001, momentum=0.1, affine=True, track_running_stats=True)\n",
            "    )\n",
            "    (branch5x5_2): BasicConv2d(\n",
            "      (conv): Conv2d(48, 64, kernel_size=(5, 5), stride=(1, 1), padding=(2, 2), bias=False)\n",
            "      (bn): BatchNorm2d(64, eps=0.001, momentum=0.1, affine=True, track_running_stats=True)\n",
            "    )\n",
            "    (branch3x3dbl_1): BasicConv2d(\n",
            "      (conv): Conv2d(192, 64, kernel_size=(1, 1), stride=(1, 1), bias=False)\n",
            "      (bn): BatchNorm2d(64, eps=0.001, momentum=0.1, affine=True, track_running_stats=True)\n",
            "    )\n",
            "    (branch3x3dbl_2): BasicConv2d(\n",
            "      (conv): Conv2d(64, 96, kernel_size=(3, 3), stride=(1, 1), padding=(1, 1), bias=False)\n",
            "      (bn): BatchNorm2d(96, eps=0.001, momentum=0.1, affine=True, track_running_stats=True)\n",
            "    )\n",
            "    (branch3x3dbl_3): BasicConv2d(\n",
            "      (conv): Conv2d(96, 96, kernel_size=(3, 3), stride=(1, 1), padding=(1, 1), bias=False)\n",
            "      (bn): BatchNorm2d(96, eps=0.001, momentum=0.1, affine=True, track_running_stats=True)\n",
            "    )\n",
            "    (branch_pool): BasicConv2d(\n",
            "      (conv): Conv2d(192, 32, kernel_size=(1, 1), stride=(1, 1), bias=False)\n",
            "      (bn): BatchNorm2d(32, eps=0.001, momentum=0.1, affine=True, track_running_stats=True)\n",
            "    )\n",
            "  )\n",
            "  (Mixed_5c): InceptionA(\n",
            "    (branch1x1): BasicConv2d(\n",
            "      (conv): Conv2d(256, 64, kernel_size=(1, 1), stride=(1, 1), bias=False)\n",
            "      (bn): BatchNorm2d(64, eps=0.001, momentum=0.1, affine=True, track_running_stats=True)\n",
            "    )\n",
            "    (branch5x5_1): BasicConv2d(\n",
            "      (conv): Conv2d(256, 48, kernel_size=(1, 1), stride=(1, 1), bias=False)\n",
            "      (bn): BatchNorm2d(48, eps=0.001, momentum=0.1, affine=True, track_running_stats=True)\n",
            "    )\n",
            "    (branch5x5_2): BasicConv2d(\n",
            "      (conv): Conv2d(48, 64, kernel_size=(5, 5), stride=(1, 1), padding=(2, 2), bias=False)\n",
            "      (bn): BatchNorm2d(64, eps=0.001, momentum=0.1, affine=True, track_running_stats=True)\n",
            "    )\n",
            "    (branch3x3dbl_1): BasicConv2d(\n",
            "      (conv): Conv2d(256, 64, kernel_size=(1, 1), stride=(1, 1), bias=False)\n",
            "      (bn): BatchNorm2d(64, eps=0.001, momentum=0.1, affine=True, track_running_stats=True)\n",
            "    )\n",
            "    (branch3x3dbl_2): BasicConv2d(\n",
            "      (conv): Conv2d(64, 96, kernel_size=(3, 3), stride=(1, 1), padding=(1, 1), bias=False)\n",
            "      (bn): BatchNorm2d(96, eps=0.001, momentum=0.1, affine=True, track_running_stats=True)\n",
            "    )\n",
            "    (branch3x3dbl_3): BasicConv2d(\n",
            "      (conv): Conv2d(96, 96, kernel_size=(3, 3), stride=(1, 1), padding=(1, 1), bias=False)\n",
            "      (bn): BatchNorm2d(96, eps=0.001, momentum=0.1, affine=True, track_running_stats=True)\n",
            "    )\n",
            "    (branch_pool): BasicConv2d(\n",
            "      (conv): Conv2d(256, 64, kernel_size=(1, 1), stride=(1, 1), bias=False)\n",
            "      (bn): BatchNorm2d(64, eps=0.001, momentum=0.1, affine=True, track_running_stats=True)\n",
            "    )\n",
            "  )\n",
            "  (Mixed_5d): InceptionA(\n",
            "    (branch1x1): BasicConv2d(\n",
            "      (conv): Conv2d(288, 64, kernel_size=(1, 1), stride=(1, 1), bias=False)\n",
            "      (bn): BatchNorm2d(64, eps=0.001, momentum=0.1, affine=True, track_running_stats=True)\n",
            "    )\n",
            "    (branch5x5_1): BasicConv2d(\n",
            "      (conv): Conv2d(288, 48, kernel_size=(1, 1), stride=(1, 1), bias=False)\n",
            "      (bn): BatchNorm2d(48, eps=0.001, momentum=0.1, affine=True, track_running_stats=True)\n",
            "    )\n",
            "    (branch5x5_2): BasicConv2d(\n",
            "      (conv): Conv2d(48, 64, kernel_size=(5, 5), stride=(1, 1), padding=(2, 2), bias=False)\n",
            "      (bn): BatchNorm2d(64, eps=0.001, momentum=0.1, affine=True, track_running_stats=True)\n",
            "    )\n",
            "    (branch3x3dbl_1): BasicConv2d(\n",
            "      (conv): Conv2d(288, 64, kernel_size=(1, 1), stride=(1, 1), bias=False)\n",
            "      (bn): BatchNorm2d(64, eps=0.001, momentum=0.1, affine=True, track_running_stats=True)\n",
            "    )\n",
            "    (branch3x3dbl_2): BasicConv2d(\n",
            "      (conv): Conv2d(64, 96, kernel_size=(3, 3), stride=(1, 1), padding=(1, 1), bias=False)\n",
            "      (bn): BatchNorm2d(96, eps=0.001, momentum=0.1, affine=True, track_running_stats=True)\n",
            "    )\n",
            "    (branch3x3dbl_3): BasicConv2d(\n",
            "      (conv): Conv2d(96, 96, kernel_size=(3, 3), stride=(1, 1), padding=(1, 1), bias=False)\n",
            "      (bn): BatchNorm2d(96, eps=0.001, momentum=0.1, affine=True, track_running_stats=True)\n",
            "    )\n",
            "    (branch_pool): BasicConv2d(\n",
            "      (conv): Conv2d(288, 64, kernel_size=(1, 1), stride=(1, 1), bias=False)\n",
            "      (bn): BatchNorm2d(64, eps=0.001, momentum=0.1, affine=True, track_running_stats=True)\n",
            "    )\n",
            "  )\n",
            "  (Mixed_6a): InceptionB(\n",
            "    (branch3x3): BasicConv2d(\n",
            "      (conv): Conv2d(288, 384, kernel_size=(3, 3), stride=(2, 2), bias=False)\n",
            "      (bn): BatchNorm2d(384, eps=0.001, momentum=0.1, affine=True, track_running_stats=True)\n",
            "    )\n",
            "    (branch3x3dbl_1): BasicConv2d(\n",
            "      (conv): Conv2d(288, 64, kernel_size=(1, 1), stride=(1, 1), bias=False)\n",
            "      (bn): BatchNorm2d(64, eps=0.001, momentum=0.1, affine=True, track_running_stats=True)\n",
            "    )\n",
            "    (branch3x3dbl_2): BasicConv2d(\n",
            "      (conv): Conv2d(64, 96, kernel_size=(3, 3), stride=(1, 1), padding=(1, 1), bias=False)\n",
            "      (bn): BatchNorm2d(96, eps=0.001, momentum=0.1, affine=True, track_running_stats=True)\n",
            "    )\n",
            "    (branch3x3dbl_3): BasicConv2d(\n",
            "      (conv): Conv2d(96, 96, kernel_size=(3, 3), stride=(2, 2), bias=False)\n",
            "      (bn): BatchNorm2d(96, eps=0.001, momentum=0.1, affine=True, track_running_stats=True)\n",
            "    )\n",
            "  )\n",
            "  (Mixed_6b): InceptionC(\n",
            "    (branch1x1): BasicConv2d(\n",
            "      (conv): Conv2d(768, 192, kernel_size=(1, 1), stride=(1, 1), bias=False)\n",
            "      (bn): BatchNorm2d(192, eps=0.001, momentum=0.1, affine=True, track_running_stats=True)\n",
            "    )\n",
            "    (branch7x7_1): BasicConv2d(\n",
            "      (conv): Conv2d(768, 128, kernel_size=(1, 1), stride=(1, 1), bias=False)\n",
            "      (bn): BatchNorm2d(128, eps=0.001, momentum=0.1, affine=True, track_running_stats=True)\n",
            "    )\n",
            "    (branch7x7_2): BasicConv2d(\n",
            "      (conv): Conv2d(128, 128, kernel_size=(1, 7), stride=(1, 1), padding=(0, 3), bias=False)\n",
            "      (bn): BatchNorm2d(128, eps=0.001, momentum=0.1, affine=True, track_running_stats=True)\n",
            "    )\n",
            "    (branch7x7_3): BasicConv2d(\n",
            "      (conv): Conv2d(128, 192, kernel_size=(7, 1), stride=(1, 1), padding=(3, 0), bias=False)\n",
            "      (bn): BatchNorm2d(192, eps=0.001, momentum=0.1, affine=True, track_running_stats=True)\n",
            "    )\n",
            "    (branch7x7dbl_1): BasicConv2d(\n",
            "      (conv): Conv2d(768, 128, kernel_size=(1, 1), stride=(1, 1), bias=False)\n",
            "      (bn): BatchNorm2d(128, eps=0.001, momentum=0.1, affine=True, track_running_stats=True)\n",
            "    )\n",
            "    (branch7x7dbl_2): BasicConv2d(\n",
            "      (conv): Conv2d(128, 128, kernel_size=(7, 1), stride=(1, 1), padding=(3, 0), bias=False)\n",
            "      (bn): BatchNorm2d(128, eps=0.001, momentum=0.1, affine=True, track_running_stats=True)\n",
            "    )\n",
            "    (branch7x7dbl_3): BasicConv2d(\n",
            "      (conv): Conv2d(128, 128, kernel_size=(1, 7), stride=(1, 1), padding=(0, 3), bias=False)\n",
            "      (bn): BatchNorm2d(128, eps=0.001, momentum=0.1, affine=True, track_running_stats=True)\n",
            "    )\n",
            "    (branch7x7dbl_4): BasicConv2d(\n",
            "      (conv): Conv2d(128, 128, kernel_size=(7, 1), stride=(1, 1), padding=(3, 0), bias=False)\n",
            "      (bn): BatchNorm2d(128, eps=0.001, momentum=0.1, affine=True, track_running_stats=True)\n",
            "    )\n",
            "    (branch7x7dbl_5): BasicConv2d(\n",
            "      (conv): Conv2d(128, 192, kernel_size=(1, 7), stride=(1, 1), padding=(0, 3), bias=False)\n",
            "      (bn): BatchNorm2d(192, eps=0.001, momentum=0.1, affine=True, track_running_stats=True)\n",
            "    )\n",
            "    (branch_pool): BasicConv2d(\n",
            "      (conv): Conv2d(768, 192, kernel_size=(1, 1), stride=(1, 1), bias=False)\n",
            "      (bn): BatchNorm2d(192, eps=0.001, momentum=0.1, affine=True, track_running_stats=True)\n",
            "    )\n",
            "  )\n",
            "  (Mixed_6c): InceptionC(\n",
            "    (branch1x1): BasicConv2d(\n",
            "      (conv): Conv2d(768, 192, kernel_size=(1, 1), stride=(1, 1), bias=False)\n",
            "      (bn): BatchNorm2d(192, eps=0.001, momentum=0.1, affine=True, track_running_stats=True)\n",
            "    )\n",
            "    (branch7x7_1): BasicConv2d(\n",
            "      (conv): Conv2d(768, 160, kernel_size=(1, 1), stride=(1, 1), bias=False)\n",
            "      (bn): BatchNorm2d(160, eps=0.001, momentum=0.1, affine=True, track_running_stats=True)\n",
            "    )\n",
            "    (branch7x7_2): BasicConv2d(\n",
            "      (conv): Conv2d(160, 160, kernel_size=(1, 7), stride=(1, 1), padding=(0, 3), bias=False)\n",
            "      (bn): BatchNorm2d(160, eps=0.001, momentum=0.1, affine=True, track_running_stats=True)\n",
            "    )\n",
            "    (branch7x7_3): BasicConv2d(\n",
            "      (conv): Conv2d(160, 192, kernel_size=(7, 1), stride=(1, 1), padding=(3, 0), bias=False)\n",
            "      (bn): BatchNorm2d(192, eps=0.001, momentum=0.1, affine=True, track_running_stats=True)\n",
            "    )\n",
            "    (branch7x7dbl_1): BasicConv2d(\n",
            "      (conv): Conv2d(768, 160, kernel_size=(1, 1), stride=(1, 1), bias=False)\n",
            "      (bn): BatchNorm2d(160, eps=0.001, momentum=0.1, affine=True, track_running_stats=True)\n",
            "    )\n",
            "    (branch7x7dbl_2): BasicConv2d(\n",
            "      (conv): Conv2d(160, 160, kernel_size=(7, 1), stride=(1, 1), padding=(3, 0), bias=False)\n",
            "      (bn): BatchNorm2d(160, eps=0.001, momentum=0.1, affine=True, track_running_stats=True)\n",
            "    )\n",
            "    (branch7x7dbl_3): BasicConv2d(\n",
            "      (conv): Conv2d(160, 160, kernel_size=(1, 7), stride=(1, 1), padding=(0, 3), bias=False)\n",
            "      (bn): BatchNorm2d(160, eps=0.001, momentum=0.1, affine=True, track_running_stats=True)\n",
            "    )\n",
            "    (branch7x7dbl_4): BasicConv2d(\n",
            "      (conv): Conv2d(160, 160, kernel_size=(7, 1), stride=(1, 1), padding=(3, 0), bias=False)\n",
            "      (bn): BatchNorm2d(160, eps=0.001, momentum=0.1, affine=True, track_running_stats=True)\n",
            "    )\n",
            "    (branch7x7dbl_5): BasicConv2d(\n",
            "      (conv): Conv2d(160, 192, kernel_size=(1, 7), stride=(1, 1), padding=(0, 3), bias=False)\n",
            "      (bn): BatchNorm2d(192, eps=0.001, momentum=0.1, affine=True, track_running_stats=True)\n",
            "    )\n",
            "    (branch_pool): BasicConv2d(\n",
            "      (conv): Conv2d(768, 192, kernel_size=(1, 1), stride=(1, 1), bias=False)\n",
            "      (bn): BatchNorm2d(192, eps=0.001, momentum=0.1, affine=True, track_running_stats=True)\n",
            "    )\n",
            "  )\n",
            "  (Mixed_6d): InceptionC(\n",
            "    (branch1x1): BasicConv2d(\n",
            "      (conv): Conv2d(768, 192, kernel_size=(1, 1), stride=(1, 1), bias=False)\n",
            "      (bn): BatchNorm2d(192, eps=0.001, momentum=0.1, affine=True, track_running_stats=True)\n",
            "    )\n",
            "    (branch7x7_1): BasicConv2d(\n",
            "      (conv): Conv2d(768, 160, kernel_size=(1, 1), stride=(1, 1), bias=False)\n",
            "      (bn): BatchNorm2d(160, eps=0.001, momentum=0.1, affine=True, track_running_stats=True)\n",
            "    )\n",
            "    (branch7x7_2): BasicConv2d(\n",
            "      (conv): Conv2d(160, 160, kernel_size=(1, 7), stride=(1, 1), padding=(0, 3), bias=False)\n",
            "      (bn): BatchNorm2d(160, eps=0.001, momentum=0.1, affine=True, track_running_stats=True)\n",
            "    )\n",
            "    (branch7x7_3): BasicConv2d(\n",
            "      (conv): Conv2d(160, 192, kernel_size=(7, 1), stride=(1, 1), padding=(3, 0), bias=False)\n",
            "      (bn): BatchNorm2d(192, eps=0.001, momentum=0.1, affine=True, track_running_stats=True)\n",
            "    )\n",
            "    (branch7x7dbl_1): BasicConv2d(\n",
            "      (conv): Conv2d(768, 160, kernel_size=(1, 1), stride=(1, 1), bias=False)\n",
            "      (bn): BatchNorm2d(160, eps=0.001, momentum=0.1, affine=True, track_running_stats=True)\n",
            "    )\n",
            "    (branch7x7dbl_2): BasicConv2d(\n",
            "      (conv): Conv2d(160, 160, kernel_size=(7, 1), stride=(1, 1), padding=(3, 0), bias=False)\n",
            "      (bn): BatchNorm2d(160, eps=0.001, momentum=0.1, affine=True, track_running_stats=True)\n",
            "    )\n",
            "    (branch7x7dbl_3): BasicConv2d(\n",
            "      (conv): Conv2d(160, 160, kernel_size=(1, 7), stride=(1, 1), padding=(0, 3), bias=False)\n",
            "      (bn): BatchNorm2d(160, eps=0.001, momentum=0.1, affine=True, track_running_stats=True)\n",
            "    )\n",
            "    (branch7x7dbl_4): BasicConv2d(\n",
            "      (conv): Conv2d(160, 160, kernel_size=(7, 1), stride=(1, 1), padding=(3, 0), bias=False)\n",
            "      (bn): BatchNorm2d(160, eps=0.001, momentum=0.1, affine=True, track_running_stats=True)\n",
            "    )\n",
            "    (branch7x7dbl_5): BasicConv2d(\n",
            "      (conv): Conv2d(160, 192, kernel_size=(1, 7), stride=(1, 1), padding=(0, 3), bias=False)\n",
            "      (bn): BatchNorm2d(192, eps=0.001, momentum=0.1, affine=True, track_running_stats=True)\n",
            "    )\n",
            "    (branch_pool): BasicConv2d(\n",
            "      (conv): Conv2d(768, 192, kernel_size=(1, 1), stride=(1, 1), bias=False)\n",
            "      (bn): BatchNorm2d(192, eps=0.001, momentum=0.1, affine=True, track_running_stats=True)\n",
            "    )\n",
            "  )\n",
            "  (Mixed_6e): InceptionC(\n",
            "    (branch1x1): BasicConv2d(\n",
            "      (conv): Conv2d(768, 192, kernel_size=(1, 1), stride=(1, 1), bias=False)\n",
            "      (bn): BatchNorm2d(192, eps=0.001, momentum=0.1, affine=True, track_running_stats=True)\n",
            "    )\n",
            "    (branch7x7_1): BasicConv2d(\n",
            "      (conv): Conv2d(768, 192, kernel_size=(1, 1), stride=(1, 1), bias=False)\n",
            "      (bn): BatchNorm2d(192, eps=0.001, momentum=0.1, affine=True, track_running_stats=True)\n",
            "    )\n",
            "    (branch7x7_2): BasicConv2d(\n",
            "      (conv): Conv2d(192, 192, kernel_size=(1, 7), stride=(1, 1), padding=(0, 3), bias=False)\n",
            "      (bn): BatchNorm2d(192, eps=0.001, momentum=0.1, affine=True, track_running_stats=True)\n",
            "    )\n",
            "    (branch7x7_3): BasicConv2d(\n",
            "      (conv): Conv2d(192, 192, kernel_size=(7, 1), stride=(1, 1), padding=(3, 0), bias=False)\n",
            "      (bn): BatchNorm2d(192, eps=0.001, momentum=0.1, affine=True, track_running_stats=True)\n",
            "    )\n",
            "    (branch7x7dbl_1): BasicConv2d(\n",
            "      (conv): Conv2d(768, 192, kernel_size=(1, 1), stride=(1, 1), bias=False)\n",
            "      (bn): BatchNorm2d(192, eps=0.001, momentum=0.1, affine=True, track_running_stats=True)\n",
            "    )\n",
            "    (branch7x7dbl_2): BasicConv2d(\n",
            "      (conv): Conv2d(192, 192, kernel_size=(7, 1), stride=(1, 1), padding=(3, 0), bias=False)\n",
            "      (bn): BatchNorm2d(192, eps=0.001, momentum=0.1, affine=True, track_running_stats=True)\n",
            "    )\n",
            "    (branch7x7dbl_3): BasicConv2d(\n",
            "      (conv): Conv2d(192, 192, kernel_size=(1, 7), stride=(1, 1), padding=(0, 3), bias=False)\n",
            "      (bn): BatchNorm2d(192, eps=0.001, momentum=0.1, affine=True, track_running_stats=True)\n",
            "    )\n",
            "    (branch7x7dbl_4): BasicConv2d(\n",
            "      (conv): Conv2d(192, 192, kernel_size=(7, 1), stride=(1, 1), padding=(3, 0), bias=False)\n",
            "      (bn): BatchNorm2d(192, eps=0.001, momentum=0.1, affine=True, track_running_stats=True)\n",
            "    )\n",
            "    (branch7x7dbl_5): BasicConv2d(\n",
            "      (conv): Conv2d(192, 192, kernel_size=(1, 7), stride=(1, 1), padding=(0, 3), bias=False)\n",
            "      (bn): BatchNorm2d(192, eps=0.001, momentum=0.1, affine=True, track_running_stats=True)\n",
            "    )\n",
            "    (branch_pool): BasicConv2d(\n",
            "      (conv): Conv2d(768, 192, kernel_size=(1, 1), stride=(1, 1), bias=False)\n",
            "      (bn): BatchNorm2d(192, eps=0.001, momentum=0.1, affine=True, track_running_stats=True)\n",
            "    )\n",
            "  )\n",
            "  (AuxLogits): InceptionAux(\n",
            "    (conv0): BasicConv2d(\n",
            "      (conv): Conv2d(768, 128, kernel_size=(1, 1), stride=(1, 1), bias=False)\n",
            "      (bn): BatchNorm2d(128, eps=0.001, momentum=0.1, affine=True, track_running_stats=True)\n",
            "    )\n",
            "    (conv1): BasicConv2d(\n",
            "      (conv): Conv2d(128, 768, kernel_size=(5, 5), stride=(1, 1), bias=False)\n",
            "      (bn): BatchNorm2d(768, eps=0.001, momentum=0.1, affine=True, track_running_stats=True)\n",
            "    )\n",
            "    (fc): Linear(in_features=768, out_features=1000, bias=True)\n",
            "  )\n",
            "  (Mixed_7a): InceptionD(\n",
            "    (branch3x3_1): BasicConv2d(\n",
            "      (conv): Conv2d(768, 192, kernel_size=(1, 1), stride=(1, 1), bias=False)\n",
            "      (bn): BatchNorm2d(192, eps=0.001, momentum=0.1, affine=True, track_running_stats=True)\n",
            "    )\n",
            "    (branch3x3_2): BasicConv2d(\n",
            "      (conv): Conv2d(192, 320, kernel_size=(3, 3), stride=(2, 2), bias=False)\n",
            "      (bn): BatchNorm2d(320, eps=0.001, momentum=0.1, affine=True, track_running_stats=True)\n",
            "    )\n",
            "    (branch7x7x3_1): BasicConv2d(\n",
            "      (conv): Conv2d(768, 192, kernel_size=(1, 1), stride=(1, 1), bias=False)\n",
            "      (bn): BatchNorm2d(192, eps=0.001, momentum=0.1, affine=True, track_running_stats=True)\n",
            "    )\n",
            "    (branch7x7x3_2): BasicConv2d(\n",
            "      (conv): Conv2d(192, 192, kernel_size=(1, 7), stride=(1, 1), padding=(0, 3), bias=False)\n",
            "      (bn): BatchNorm2d(192, eps=0.001, momentum=0.1, affine=True, track_running_stats=True)\n",
            "    )\n",
            "    (branch7x7x3_3): BasicConv2d(\n",
            "      (conv): Conv2d(192, 192, kernel_size=(7, 1), stride=(1, 1), padding=(3, 0), bias=False)\n",
            "      (bn): BatchNorm2d(192, eps=0.001, momentum=0.1, affine=True, track_running_stats=True)\n",
            "    )\n",
            "    (branch7x7x3_4): BasicConv2d(\n",
            "      (conv): Conv2d(192, 192, kernel_size=(3, 3), stride=(2, 2), bias=False)\n",
            "      (bn): BatchNorm2d(192, eps=0.001, momentum=0.1, affine=True, track_running_stats=True)\n",
            "    )\n",
            "  )\n",
            "  (Mixed_7b): InceptionE(\n",
            "    (branch1x1): BasicConv2d(\n",
            "      (conv): Conv2d(1280, 320, kernel_size=(1, 1), stride=(1, 1), bias=False)\n",
            "      (bn): BatchNorm2d(320, eps=0.001, momentum=0.1, affine=True, track_running_stats=True)\n",
            "    )\n",
            "    (branch3x3_1): BasicConv2d(\n",
            "      (conv): Conv2d(1280, 384, kernel_size=(1, 1), stride=(1, 1), bias=False)\n",
            "      (bn): BatchNorm2d(384, eps=0.001, momentum=0.1, affine=True, track_running_stats=True)\n",
            "    )\n",
            "    (branch3x3_2a): BasicConv2d(\n",
            "      (conv): Conv2d(384, 384, kernel_size=(1, 3), stride=(1, 1), padding=(0, 1), bias=False)\n",
            "      (bn): BatchNorm2d(384, eps=0.001, momentum=0.1, affine=True, track_running_stats=True)\n",
            "    )\n",
            "    (branch3x3_2b): BasicConv2d(\n",
            "      (conv): Conv2d(384, 384, kernel_size=(3, 1), stride=(1, 1), padding=(1, 0), bias=False)\n",
            "      (bn): BatchNorm2d(384, eps=0.001, momentum=0.1, affine=True, track_running_stats=True)\n",
            "    )\n",
            "    (branch3x3dbl_1): BasicConv2d(\n",
            "      (conv): Conv2d(1280, 448, kernel_size=(1, 1), stride=(1, 1), bias=False)\n",
            "      (bn): BatchNorm2d(448, eps=0.001, momentum=0.1, affine=True, track_running_stats=True)\n",
            "    )\n",
            "    (branch3x3dbl_2): BasicConv2d(\n",
            "      (conv): Conv2d(448, 384, kernel_size=(3, 3), stride=(1, 1), padding=(1, 1), bias=False)\n",
            "      (bn): BatchNorm2d(384, eps=0.001, momentum=0.1, affine=True, track_running_stats=True)\n",
            "    )\n",
            "    (branch3x3dbl_3a): BasicConv2d(\n",
            "      (conv): Conv2d(384, 384, kernel_size=(1, 3), stride=(1, 1), padding=(0, 1), bias=False)\n",
            "      (bn): BatchNorm2d(384, eps=0.001, momentum=0.1, affine=True, track_running_stats=True)\n",
            "    )\n",
            "    (branch3x3dbl_3b): BasicConv2d(\n",
            "      (conv): Conv2d(384, 384, kernel_size=(3, 1), stride=(1, 1), padding=(1, 0), bias=False)\n",
            "      (bn): BatchNorm2d(384, eps=0.001, momentum=0.1, affine=True, track_running_stats=True)\n",
            "    )\n",
            "    (branch_pool): BasicConv2d(\n",
            "      (conv): Conv2d(1280, 192, kernel_size=(1, 1), stride=(1, 1), bias=False)\n",
            "      (bn): BatchNorm2d(192, eps=0.001, momentum=0.1, affine=True, track_running_stats=True)\n",
            "    )\n",
            "  )\n",
            "  (Mixed_7c): InceptionE(\n",
            "    (branch1x1): BasicConv2d(\n",
            "      (conv): Conv2d(2048, 320, kernel_size=(1, 1), stride=(1, 1), bias=False)\n",
            "      (bn): BatchNorm2d(320, eps=0.001, momentum=0.1, affine=True, track_running_stats=True)\n",
            "    )\n",
            "    (branch3x3_1): BasicConv2d(\n",
            "      (conv): Conv2d(2048, 384, kernel_size=(1, 1), stride=(1, 1), bias=False)\n",
            "      (bn): BatchNorm2d(384, eps=0.001, momentum=0.1, affine=True, track_running_stats=True)\n",
            "    )\n",
            "    (branch3x3_2a): BasicConv2d(\n",
            "      (conv): Conv2d(384, 384, kernel_size=(1, 3), stride=(1, 1), padding=(0, 1), bias=False)\n",
            "      (bn): BatchNorm2d(384, eps=0.001, momentum=0.1, affine=True, track_running_stats=True)\n",
            "    )\n",
            "    (branch3x3_2b): BasicConv2d(\n",
            "      (conv): Conv2d(384, 384, kernel_size=(3, 1), stride=(1, 1), padding=(1, 0), bias=False)\n",
            "      (bn): BatchNorm2d(384, eps=0.001, momentum=0.1, affine=True, track_running_stats=True)\n",
            "    )\n",
            "    (branch3x3dbl_1): BasicConv2d(\n",
            "      (conv): Conv2d(2048, 448, kernel_size=(1, 1), stride=(1, 1), bias=False)\n",
            "      (bn): BatchNorm2d(448, eps=0.001, momentum=0.1, affine=True, track_running_stats=True)\n",
            "    )\n",
            "    (branch3x3dbl_2): BasicConv2d(\n",
            "      (conv): Conv2d(448, 384, kernel_size=(3, 3), stride=(1, 1), padding=(1, 1), bias=False)\n",
            "      (bn): BatchNorm2d(384, eps=0.001, momentum=0.1, affine=True, track_running_stats=True)\n",
            "    )\n",
            "    (branch3x3dbl_3a): BasicConv2d(\n",
            "      (conv): Conv2d(384, 384, kernel_size=(1, 3), stride=(1, 1), padding=(0, 1), bias=False)\n",
            "      (bn): BatchNorm2d(384, eps=0.001, momentum=0.1, affine=True, track_running_stats=True)\n",
            "    )\n",
            "    (branch3x3dbl_3b): BasicConv2d(\n",
            "      (conv): Conv2d(384, 384, kernel_size=(3, 1), stride=(1, 1), padding=(1, 0), bias=False)\n",
            "      (bn): BatchNorm2d(384, eps=0.001, momentum=0.1, affine=True, track_running_stats=True)\n",
            "    )\n",
            "    (branch_pool): BasicConv2d(\n",
            "      (conv): Conv2d(2048, 192, kernel_size=(1, 1), stride=(1, 1), bias=False)\n",
            "      (bn): BatchNorm2d(192, eps=0.001, momentum=0.1, affine=True, track_running_stats=True)\n",
            "    )\n",
            "  )\n",
            "  (avgpool): AdaptiveAvgPool2d(output_size=(1, 1))\n",
            "  (dropout): Dropout(p=0.5, inplace=False)\n",
            "  (fc): Linear(in_features=2048, out_features=1000, bias=True)\n",
            ")\n"
          ],
          "name": "stdout"
        }
      ]
    },
    {
      "cell_type": "markdown",
      "metadata": {
        "id": "1I9-J4q9s-g-",
        "colab_type": "text"
      },
      "source": [
        "Note the recurring inception modules and very very large network.    \n",
        "InceptionA, B, C, D, E (a class of those paralled layers) like BuildingBlock in ResNet.   \n",
        "InceptionAux to make sure gradients flow through."
      ]
    },
    {
      "cell_type": "markdown",
      "metadata": {
        "id": "0y9OWh-Otl6Q",
        "colab_type": "text"
      },
      "source": [
        "Finally comes fc (fully connected neural layer)"
      ]
    },
    {
      "cell_type": "code",
      "metadata": {
        "id": "Gn_MVIhEs8H5",
        "colab_type": "code",
        "colab": {}
      },
      "source": [
        "for param in inception.parameters():\n",
        "  param.requires_grad = False"
      ],
      "execution_count": null,
      "outputs": []
    },
    {
      "cell_type": "markdown",
      "metadata": {
        "id": "mvuFY0_6udfp",
        "colab_type": "text"
      },
      "source": [
        "Change number of classes in \"auxillary\" and \"final\" outputs from 1000 (which you can see above - out_features=1000) in the default loaded model to 10 which we require for our CIFAR dataset. Even auxillary since auxillary layers are almost similar to output layers, since that's where we'll be predicting the output and computing loss w.r.t. the actual labels."
      ]
    },
    {
      "cell_type": "markdown",
      "metadata": {
        "id": "_go9QNZ1jhdp",
        "colab_type": "text"
      },
      "source": [
        "Note number of output features even in InceptionAux is 1000. But number of input features is not the same as the output layer which is why we have to add them separately (done below)."
      ]
    },
    {
      "cell_type": "markdown",
      "metadata": {
        "id": "KnYxfpsqu0_x",
        "colab_type": "text"
      },
      "source": [
        "First, auxillary"
      ]
    },
    {
      "cell_type": "code",
      "metadata": {
        "id": "NRPkGLdVtwgt",
        "colab_type": "code",
        "colab": {}
      },
      "source": [
        "aux_in_features = inception.AuxLogits.fc.in_features # this is the number of inputs to the auxillary layer which has to be retained\n",
        "inception.AuxLogits.fc = nn.Linear(aux_in_features, num_classes) # only number of output labels change"
      ],
      "execution_count": null,
      "outputs": []
    },
    {
      "cell_type": "code",
      "metadata": {
        "id": "h_f2OAZat9gR",
        "colab_type": "code",
        "colab": {
          "base_uri": "https://localhost:8080/",
          "height": 52
        },
        "outputId": "33cb16d4-004d-4a57-c106-729182e4e7e9"
      },
      "source": [
        "for param in inception.parameters():\n",
        "  if(param.requires_grad): # auxillary and output give true for requires_grad though we made them all false since they have been newly build so replaces all previous values.\n",
        "    print(param.shape)"
      ],
      "execution_count": null,
      "outputs": [
        {
          "output_type": "stream",
          "text": [
            "torch.Size([10, 768])\n",
            "torch.Size([10])\n"
          ],
          "name": "stdout"
        }
      ]
    },
    {
      "cell_type": "markdown",
      "metadata": {
        "id": "ZZsMEBlLu4sC",
        "colab_type": "text"
      },
      "source": [
        "Now output"
      ]
    },
    {
      "cell_type": "code",
      "metadata": {
        "id": "P_0JAmu8uIMy",
        "colab_type": "code",
        "colab": {}
      },
      "source": [
        "in_features = inception.fc.in_features\n",
        "inception.fc = nn.Linear(in_features, num_classes)"
      ],
      "execution_count": null,
      "outputs": []
    },
    {
      "cell_type": "code",
      "metadata": {
        "id": "tMdl9GylupLK",
        "colab_type": "code",
        "colab": {
          "base_uri": "https://localhost:8080/",
          "height": 87
        },
        "outputId": "d93022ad-33fc-4030-8857-47371fc0ed27"
      },
      "source": [
        "for param in inception.parameters():\n",
        "  if(param.requires_grad):\n",
        "    print(param.shape)"
      ],
      "execution_count": null,
      "outputs": [
        {
          "output_type": "stream",
          "text": [
            "torch.Size([10, 768])\n",
            "torch.Size([10])\n",
            "torch.Size([10, 2048])\n",
            "torch.Size([10])\n"
          ],
          "name": "stdout"
        }
      ]
    },
    {
      "cell_type": "markdown",
      "metadata": {
        "id": "4eA0jMsau6fi",
        "colab_type": "text"
      },
      "source": [
        "Shows that now both auxillary and final output are changed (# classes)"
      ]
    },
    {
      "cell_type": "code",
      "metadata": {
        "id": "Ij8Xud-cwJdO",
        "colab_type": "code",
        "colab": {}
      },
      "source": [
        ""
      ],
      "execution_count": null,
      "outputs": []
    },
    {
      "cell_type": "markdown",
      "metadata": {
        "id": "esz5NX9FwvXA",
        "colab_type": "text"
      },
      "source": [
        "### Training Inception"
      ]
    },
    {
      "cell_type": "code",
      "metadata": {
        "id": "q9_0sXwGwwwh",
        "colab_type": "code",
        "colab": {}
      },
      "source": [
        "inception = inception.to(device)\n",
        "loss_fn = nn.CrossEntropyLoss()\n",
        "opt = optim.SGD(inception.parameters(), lr = 0.01) # stochastic"
      ],
      "execution_count": null,
      "outputs": []
    },
    {
      "cell_type": "code",
      "metadata": {
        "id": "nZkhTCDnWrb1",
        "colab_type": "code",
        "colab": {}
      },
      "source": [
        "import copy"
      ],
      "execution_count": null,
      "outputs": []
    },
    {
      "cell_type": "markdown",
      "metadata": {
        "id": "3OrrSg-vyCPH",
        "colab_type": "text"
      },
      "source": [
        "Changes in learning loop commented"
      ]
    },
    {
      "cell_type": "code",
      "metadata": {
        "id": "vtq5Zi-HxgA4",
        "colab_type": "code",
        "colab": {
          "base_uri": "https://localhost:8080/",
          "height": 1000
        },
        "outputId": "c89e9e55-8204-48d8-9dd4-38ceb1cf2ab0"
      },
      "source": [
        "loss_epoch_arr = []\n",
        "max_epochs = 4\n",
        "\n",
        "n_iters = np.ceil(50000/batch_size)\n",
        "\n",
        "min_loss = 1000\n",
        "\n",
        "for epoch in range(max_epochs):\n",
        "\n",
        "  for i, data in enumerate(trainloader, 0):\n",
        "\n",
        "    inputs, labels = data\n",
        "    inputs, labels = inputs.to(device), labels.to(device)\n",
        "\n",
        "    opt.zero_grad()\n",
        "\n",
        "    # one more output\n",
        "    outputs, aux_outputs = inception(inputs)\n",
        "    # sum up losses and then propagate (new feature in deep NNs)\n",
        "    # main weightage given to main loss (weightage = 1), and smaller weightage to previous ones (0.3)\n",
        "    loss = loss_fn(outputs, labels) + 0.3*loss_fn(aux_outputs, labels)\n",
        "\n",
        "    loss.backward() \n",
        "    opt.step() \n",
        "\n",
        "    if loss.item() < min_loss: \n",
        "      min_loss = loss.item() \n",
        "      best_model = copy.deepcopy(inception.state_dict())\n",
        "      print(\"Min loss %0.2f\" % min_loss)\n",
        "\n",
        "    if i%100 == 0:\n",
        "      print(\"Iteration: %d/%d, Loss: %0.2f\" % (i, n_iters, loss.item()))\n",
        "\n",
        "    del inputs, labels, outputs\n",
        "    torch.cuda.empty_cache()\n",
        "\n",
        "\n",
        "  loss_epoch_arr.append(loss.item())\n",
        "\n",
        "  # change evaluation metric\n",
        "  print(\"Epoch: %d/%d, Test acc = %0.2f, Train acc = %0.2f\" %(\n",
        "      epoch, max_epochs,\n",
        "      evaluation_inception(testloader, inception), evaluation_inception(trainloader, inception)))\n",
        "  \n",
        "  plt.plot(loss_epoch_arr)\n",
        "  plt.show()"
      ],
      "execution_count": null,
      "outputs": [
        {
          "output_type": "stream",
          "text": [
            "Min loss 2.69\n",
            "Iteration: 0/3125, Loss: 2.69\n",
            "Min loss 1.91\n",
            "Min loss 1.83\n",
            "Min loss 1.49\n",
            "Min loss 1.27\n",
            "Min loss 1.21\n",
            "Min loss 1.08\n",
            "Iteration: 100/3125, Loss: 2.57\n",
            "Min loss 0.99\n",
            "Iteration: 200/3125, Loss: 1.98\n",
            "Iteration: 300/3125, Loss: 2.15\n",
            "Iteration: 400/3125, Loss: 1.91\n",
            "Iteration: 500/3125, Loss: 1.53\n",
            "Iteration: 600/3125, Loss: 1.47\n",
            "Iteration: 700/3125, Loss: 1.88\n",
            "Iteration: 800/3125, Loss: 1.51\n",
            "Iteration: 900/3125, Loss: 1.66\n",
            "Iteration: 1000/3125, Loss: 1.60\n",
            "Iteration: 1100/3125, Loss: 1.70\n",
            "Min loss 0.94\n",
            "Iteration: 1200/3125, Loss: 2.30\n",
            "Iteration: 1300/3125, Loss: 1.55\n",
            "Min loss 0.87\n",
            "Iteration: 1400/3125, Loss: 1.76\n",
            "Iteration: 1500/3125, Loss: 2.22\n",
            "Iteration: 1600/3125, Loss: 1.90\n",
            "Iteration: 1700/3125, Loss: 1.89\n",
            "Iteration: 1800/3125, Loss: 1.29\n",
            "Iteration: 1900/3125, Loss: 1.98\n",
            "Iteration: 2000/3125, Loss: 2.24\n",
            "Iteration: 2100/3125, Loss: 2.41\n",
            "Iteration: 2200/3125, Loss: 1.78\n",
            "Iteration: 2300/3125, Loss: 1.76\n",
            "Iteration: 2400/3125, Loss: 1.53\n",
            "Iteration: 2500/3125, Loss: 2.26\n",
            "Iteration: 2600/3125, Loss: 1.98\n",
            "Iteration: 2700/3125, Loss: 1.47\n",
            "Iteration: 2800/3125, Loss: 3.04\n",
            "Iteration: 2900/3125, Loss: 2.06\n",
            "Iteration: 3000/3125, Loss: 1.65\n",
            "Iteration: 3100/3125, Loss: 2.01\n",
            "Epoch: 0/4, Test acc = 48.14, Train acc = 48.44\n"
          ],
          "name": "stdout"
        },
        {
          "output_type": "display_data",
          "data": {
            "image/png": "[encoded data removed]",
            "text/plain": [
              "<Figure size 432x288 with 1 Axes>"
            ]
          },
          "metadata": {
            "tags": [],
            "needs_background": "light"
          }
        },
        {
          "output_type": "stream",
          "text": [
            "Iteration: 0/3125, Loss: 1.76\n",
            "Iteration: 100/3125, Loss: 2.24\n",
            "Iteration: 200/3125, Loss: 1.45\n",
            "Iteration: 300/3125, Loss: 1.79\n",
            "Iteration: 400/3125, Loss: 1.84\n",
            "Iteration: 500/3125, Loss: 2.16\n",
            "Iteration: 600/3125, Loss: 2.95\n",
            "Iteration: 700/3125, Loss: 2.26\n",
            "Iteration: 800/3125, Loss: 2.02\n",
            "Iteration: 900/3125, Loss: 1.19\n",
            "Iteration: 1000/3125, Loss: 1.21\n",
            "Iteration: 1100/3125, Loss: 1.47\n",
            "Iteration: 1200/3125, Loss: 1.44\n",
            "Iteration: 1300/3125, Loss: 2.28\n",
            "Iteration: 1400/3125, Loss: 1.76\n",
            "Iteration: 1500/3125, Loss: 2.37\n",
            "Iteration: 1600/3125, Loss: 1.90\n",
            "Iteration: 1700/3125, Loss: 1.48\n",
            "Iteration: 1800/3125, Loss: 2.30\n",
            "Iteration: 1900/3125, Loss: 2.49\n",
            "Iteration: 2000/3125, Loss: 2.01\n",
            "Iteration: 2100/3125, Loss: 1.83\n",
            "Iteration: 2200/3125, Loss: 1.95\n",
            "Iteration: 2300/3125, Loss: 1.53\n",
            "Iteration: 2400/3125, Loss: 1.54\n",
            "Iteration: 2500/3125, Loss: 2.01\n",
            "Iteration: 2600/3125, Loss: 3.21\n",
            "Iteration: 2700/3125, Loss: 1.49\n",
            "Iteration: 2800/3125, Loss: 1.33\n",
            "Iteration: 2900/3125, Loss: 2.05\n",
            "Iteration: 3000/3125, Loss: 1.88\n",
            "Iteration: 3100/3125, Loss: 2.37\n",
            "Epoch: 1/4, Test acc = 49.35, Train acc = 49.13\n"
          ],
          "name": "stdout"
        },
        {
          "output_type": "display_data",
          "data": {
            "image/png": "[encoded data removed]",
            "text/plain": [
              "<Figure size 432x288 with 1 Axes>"
            ]
          },
          "metadata": {
            "tags": [],
            "needs_background": "light"
          }
        },
        {
          "output_type": "stream",
          "text": [
            "Iteration: 0/3125, Loss: 2.12\n",
            "Iteration: 100/3125, Loss: 1.67\n",
            "Iteration: 200/3125, Loss: 2.00\n",
            "Iteration: 300/3125, Loss: 1.85\n",
            "Iteration: 400/3125, Loss: 1.75\n",
            "Iteration: 500/3125, Loss: 1.67\n",
            "Iteration: 600/3125, Loss: 1.71\n",
            "Iteration: 700/3125, Loss: 2.23\n",
            "Min loss 0.64\n",
            "Iteration: 800/3125, Loss: 2.27\n",
            "Iteration: 900/3125, Loss: 1.38\n",
            "Iteration: 1000/3125, Loss: 1.44\n",
            "Iteration: 1100/3125, Loss: 1.03\n",
            "Iteration: 1200/3125, Loss: 1.73\n",
            "Iteration: 1300/3125, Loss: 1.67\n",
            "Iteration: 1400/3125, Loss: 2.25\n",
            "Iteration: 1500/3125, Loss: 2.09\n",
            "Iteration: 1600/3125, Loss: 2.16\n",
            "Iteration: 1700/3125, Loss: 2.03\n",
            "Iteration: 1800/3125, Loss: 2.17\n",
            "Iteration: 1900/3125, Loss: 1.63\n",
            "Iteration: 2000/3125, Loss: 1.75\n",
            "Iteration: 2100/3125, Loss: 1.73\n",
            "Iteration: 2200/3125, Loss: 1.65\n",
            "Iteration: 2300/3125, Loss: 1.87\n",
            "Iteration: 2400/3125, Loss: 2.00\n",
            "Iteration: 2500/3125, Loss: 1.46\n",
            "Iteration: 2600/3125, Loss: 2.04\n",
            "Iteration: 2700/3125, Loss: 1.72\n",
            "Iteration: 2800/3125, Loss: 1.66\n",
            "Iteration: 2900/3125, Loss: 2.14\n",
            "Iteration: 3000/3125, Loss: 1.87\n",
            "Iteration: 3100/3125, Loss: 2.00\n",
            "Epoch: 2/4, Test acc = 48.80, Train acc = 48.68\n"
          ],
          "name": "stdout"
        },
        {
          "output_type": "display_data",
          "data": {
            "image/png": "[encoded data removed]",
            "text/plain": [
              "<Figure size 432x288 with 1 Axes>"
            ]
          },
          "metadata": {
            "tags": [],
            "needs_background": "light"
          }
        },
        {
          "output_type": "stream",
          "text": [
            "Iteration: 0/3125, Loss: 1.36\n",
            "Iteration: 100/3125, Loss: 1.89\n",
            "Iteration: 200/3125, Loss: 1.41\n",
            "Iteration: 300/3125, Loss: 1.81\n",
            "Iteration: 400/3125, Loss: 1.94\n",
            "Iteration: 500/3125, Loss: 2.86\n",
            "Iteration: 600/3125, Loss: 1.32\n",
            "Iteration: 700/3125, Loss: 2.65\n",
            "Iteration: 800/3125, Loss: 1.92\n",
            "Iteration: 900/3125, Loss: 1.81\n",
            "Iteration: 1000/3125, Loss: 1.36\n",
            "Iteration: 1100/3125, Loss: 2.00\n",
            "Iteration: 1200/3125, Loss: 1.72\n",
            "Iteration: 1300/3125, Loss: 2.08\n",
            "Iteration: 1400/3125, Loss: 1.37\n",
            "Iteration: 1500/3125, Loss: 2.43\n",
            "Iteration: 1600/3125, Loss: 1.60\n",
            "Iteration: 1700/3125, Loss: 1.59\n",
            "Iteration: 1800/3125, Loss: 2.47\n",
            "Iteration: 1900/3125, Loss: 1.31\n",
            "Iteration: 2000/3125, Loss: 1.65\n",
            "Iteration: 2100/3125, Loss: 1.41\n",
            "Iteration: 2200/3125, Loss: 2.03\n",
            "Iteration: 2300/3125, Loss: 1.30\n",
            "Iteration: 2400/3125, Loss: 2.12\n",
            "Iteration: 2500/3125, Loss: 1.63\n",
            "Iteration: 2600/3125, Loss: 2.05\n",
            "Iteration: 2700/3125, Loss: 1.68\n",
            "Iteration: 2800/3125, Loss: 1.67\n",
            "Iteration: 2900/3125, Loss: 1.65\n",
            "Iteration: 3000/3125, Loss: 1.72\n",
            "Iteration: 3100/3125, Loss: 1.67\n",
            "Epoch: 3/4, Test acc = 48.43, Train acc = 48.06\n"
          ],
          "name": "stdout"
        },
        {
          "output_type": "display_data",
          "data": {
            "image/png": "[encoded data removed]",
            "text/plain": [
              "<Figure size 432x288 with 1 Axes>"
            ]
          },
          "metadata": {
            "tags": [],
            "needs_background": "light"
          }
        }
      ]
    },
    {
      "cell_type": "markdown",
      "metadata": {
        "id": "wpcKY7PXXIKh",
        "colab_type": "text"
      },
      "source": [
        "Extremely fast training - much faster than VGGNet"
      ]
    },
    {
      "cell_type": "markdown",
      "metadata": {
        "id": "fv7tpo2qW3k0",
        "colab_type": "text"
      },
      "source": [
        "Note: https://stackoverflow.com/questions/53438146/how-can-i-change-the-padded-input-size-per-channel-in-pytorch  \n",
        "Input should be resized to 299 x 299 for Inceptionv3 else error."
      ]
    },
    {
      "cell_type": "code",
      "metadata": {
        "id": "IkGVIljXyAdm",
        "colab_type": "code",
        "colab": {
          "base_uri": "https://localhost:8080/",
          "height": 34
        },
        "outputId": "ff5de109-7ddc-4126-f348-472cb7036a14"
      },
      "source": [
        "inception.load_state_dict(best_model)\n",
        "print(evaluation_inception(trainloader, inception), evaluation_inception(testloader, inception))"
      ],
      "execution_count": null,
      "outputs": [
        {
          "output_type": "stream",
          "text": [
            "48.352 48.36\n"
          ],
          "name": "stdout"
        }
      ]
    },
    {
      "cell_type": "markdown",
      "metadata": {
        "id": "y9ifttl4bZpA",
        "colab_type": "text"
      },
      "source": [
        "Accuracy slightly better than VGGNet."
      ]
    },
    {
      "cell_type": "code",
      "metadata": {
        "id": "fntGXlYtyvVn",
        "colab_type": "code",
        "colab": {}
      },
      "source": [
        ""
      ],
      "execution_count": null,
      "outputs": []
    }
  ]
}